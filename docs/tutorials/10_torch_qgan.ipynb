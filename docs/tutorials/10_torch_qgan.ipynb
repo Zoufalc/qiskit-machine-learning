{
 "cells": [
  {
   "cell_type": "markdown",
   "metadata": {
    "collapsed": true,
    "pycharm": {
     "name": "#%% md\n"
    }
   },
   "source": [
    "# PyTorch qGAN Implementation"
   ]
  },
  {
   "cell_type": "markdown",
   "metadata": {
    "pycharm": {
     "name": "#%% md\n"
    }
   },
   "source": [
    "### Description\n",
    "A PyTorch-based Quantum Generative Adversarial Network algorithm.\n",
    "\n",
    "The qGAN [1] is a hybrid quantum-classical algorithm used for generative modeling tasks. The algorithm uses the interplay of a quantum generator $G_{\\theta}$, i.e., an ansatz, and a classical discriminator $D_{\\phi}$, a neural network. to learn the probability distribution underlying given training data.\n",
    "\n",
    "The generator and discriminator are trained in alternating optimization steps, where the generator aims at generating samples which the discriminator classifies as training data samples and the discriminator tries to differentiate between training data samples and data samples from the generator. The final goal is for the quantum generator to learn a representation for the training data's underlying probability distribution.\n",
    "The trained quantum generator can, thus, be used to load a quantum state which is an approximate model of the target distribution.\n",
    "\n",
    "**References:**\n",
    "\n",
    "[1] Zoufal et al.,\n",
    "    `Quantum Generative Adversarial Networks for learning and loading random distributions\n",
    "    <https://www.nature.com/articles/s41534-019-0223-2>`_"
   ]
  },
  {
   "cell_type": "markdown",
   "metadata": {
    "pycharm": {
     "name": "#%% md\n"
    }
   },
   "source": [
    "### Application: qGANs for Loading Random Distributions\n",
    "\n",
    "Given $k$-dimensional data samples, we employ a quantum Generative Adversarial Network (qGAN) to learn the data's underlying random distribution and to load it directly into a quantum state:\n",
    "\n",
    "$$ \\big| g_{\\theta}\\rangle = \\sum_{j=0}^{2^n-1} \\sqrt{p_{\\theta}^{j}}\\big| j \\rangle $$\n",
    "\n",
    "where $p_{\\theta}^{j}$ describe the occurrence probabilities of the basis states $\\big| j\\rangle$.\n",
    "\n",
    "The aim of the qGAN training is to generate a state $\\big| g_{\\theta}\\rangle$ where $p_{\\theta}^{j}$, for $j\\in \\left\\{0, \\ldots, {2^n-1} \\right\\}$, describe a probability distribution that is close to the distribution underlying the training data $X=\\left\\{x^0, \\ldots, x^{k-1} \\right\\}$.\n",
    "\n",
    "For further details please refer to [Quantum Generative Adversarial Networks for Learning and Loading Random Distributions](https://arxiv.org/abs/1904.00043) _Zoufal, Lucchi, Woerner_ \\[2019\\].\n",
    "\n",
    "For an example of how to use a trained qGAN in an application, the pricing of financial derivatives, please see the\n",
    "[Option Pricing with qGANs](https://github.com/Qiskit/qiskit-finance/tree/main/docs/tutorials/10_qgan_option_pricing.ipynb) tutorial."
   ]
  },
  {
   "cell_type": "code",
   "execution_count": 1,
   "metadata": {
    "pycharm": {
     "name": "#%%\n"
    }
   },
   "outputs": [],
   "source": [
    "# Necessary imports\n",
    "\n",
    "from typing import Union, List, Iterable\n",
    "\n",
    "import matplotlib.pyplot as plt\n",
    "import numpy as np\n",
    "import torch.nn as nn\n",
    "import torch.nn.functional as F\n",
    "from qiskit import Aer, QuantumCircuit\n",
    "from qiskit.circuit import ParameterExpression, ParameterVector\n",
    "from qiskit.circuit.library import TwoLocal\n",
    "from qiskit.opflow import Gradient, StateFn\n",
    "from qiskit.utils import QuantumInstance, algorithm_globals\n",
    "from scipy.stats import entropy\n",
    "\n",
    "import torch\n",
    "from torch import Tensor, stack, manual_seed\n",
    "from torch.autograd import Variable\n",
    "from torch.optim import Adam\n",
    "from torch.utils.data import DataLoader\n",
    "\n",
    "from qiskit_machine_learning.connectors import TorchConnector\n",
    "from qiskit_machine_learning.datasets.dataset_helper import discretize_and_truncate\n",
    "from qiskit_machine_learning.neural_networks import CircuitQNN\n",
    "\n",
    "%matplotlib inline\n",
    "\n",
    "# Set seed for random generators\n",
    "algorithm_globals.random_seed = 42\n",
    "np.random.seed = 42\n",
    "_ = manual_seed(42)  # suppress output"
   ]
  },
  {
   "cell_type": "markdown",
   "metadata": {
    "pycharm": {
     "name": "#%% md\n"
    }
   },
   "source": [
    "### Data and Representation\n",
    "\n",
    "First, we need to load our training data $X$.\n",
    "\n",
    "In this tutorial, the training data is given by samples from a 2D multivariate normal distribution.\n",
    "\n",
    "The trained generator corresponds to an $n$-qubit quantum state\n",
    "\\begin{equation}\n",
    "|g_{\\text{trained}}\\rangle=\\sum\\limits_{j=0}^{k-1}\\sqrt{p_{j}}|x_{j}\\rangle,\n",
    "\\end{equation}\n",
    "where the basis states $|x_{j}\\rangle$ represent the data items in the training data set\n",
    "$X={x_0, \\ldots, x_{k-1}}$ with $k\\leq 2^n$ and $p_j$ refers to the sampling probability\n",
    "of $|x_{j}\\rangle$.\n",
    "\n",
    "To facilitate this representation, we need to map the samples from the multivariate\n",
    "normal distribution to discrete values. The number of values that can be represented\n",
    "depends on the number of qubits used for the mapping.\n",
    "Hence, the data resolution is defined by the number of qubits.\n",
    "If we use $3$ qubits to represent one feature, we have 2^3=8 discrete values."
   ]
  },
  {
   "cell_type": "code",
   "execution_count": 2,
   "metadata": {
    "pycharm": {
     "name": "#%%\n"
    }
   },
   "outputs": [],
   "source": [
    "# Load the training data\n",
    "training_data = np.random.default_rng().multivariate_normal(\n",
    "    mean=[0.0, 0.0], cov=[[1, 0], [0, 1]], size=1000, check_valid=\"warn\", tol=1e-8, method=\"svd\"\n",
    ")\n",
    "# Define minimal and maximal values for the training data\n",
    "bounds_min = np.percentile(training_data, 5, axis=0)\n",
    "bounds_max = np.percentile(training_data, 95, axis=0)\n",
    "bounds = []\n",
    "for i, _ in enumerate(bounds_min):\n",
    "    bounds.append([bounds_min[i], bounds_max[i]])\n",
    "\n",
    "# Determine data resolution for each dimension of the training data in terms\n",
    "# of the number of qubits used to represent each data dimension.\n",
    "data_dim = [3, 3]\n",
    "\n",
    "# Pre-processing, i.e., discretization of the data (gridding)\n",
    "(training_data, _, grid_elements, prob_data) = discretize_and_truncate(\n",
    "    training_data,\n",
    "    np.array(bounds),\n",
    "    data_dim,\n",
    "    return_data_grid_elements=True,\n",
    "    return_prob=True,\n",
    "    prob_non_zero=True,\n",
    ")\n",
    "\n",
    "training_data = torch.tensor(training_data, dtype=torch.float)\n",
    "\n",
    "# Define the training batch size\n",
    "batch_size = 300\n",
    "dataloader = DataLoader(training_data, batch_size=batch_size, shuffle=True, drop_last=True)"
   ]
  },
  {
   "cell_type": "markdown",
   "metadata": {
    "pycharm": {
     "name": "#%% md\n"
    }
   },
   "source": [
    "### Specify Backend\n",
    "Next, we need to choose a backend that is used to run the quantum generator.\n",
    "The presented method is compatible with all shot-based backends (qasm, fake hardware, real hardware) provided by Qiskit."
   ]
  },
  {
   "cell_type": "code",
   "execution_count": 3,
   "metadata": {
    "pycharm": {
     "name": "#%%\n"
    }
   },
   "outputs": [],
   "source": [
    "backend = Aer.get_backend(\"aer_simulator\")\n",
    "qi = QuantumInstance(backend, shots=batch_size)"
   ]
  },
  {
   "cell_type": "markdown",
   "metadata": {
    "pycharm": {
     "name": "#%% md\n"
    }
   },
   "source": [
    "### Initialization of quantum generator and the respective gradient\n",
    "Next, we define factories that create the quantum generator and a function that calculates the gradients for the quantum generator.\n",
    "Depending on the backend, the latter may be returned in a sparse format. Since PyTorch does not support sparse gradients, we need to write a custom function for gradient based training.\n"
   ]
  },
  {
   "cell_type": "code",
   "execution_count": 4,
   "metadata": {
    "pycharm": {
     "name": "#%%\n"
    }
   },
   "outputs": [],
   "source": [
    "def create_generator(\n",
    "    qnn: QuantumCircuit,\n",
    "    parameters: Union[ParameterVector, ParameterExpression, List[ParameterExpression]],\n",
    ") -> TorchConnector:\n",
    "    \"\"\"\n",
    "    Factory to create the quantum generator from a given parameterized quantum circuit.\n",
    "    Args:\n",
    "        qnn: Quantum neural network ansatz given as a quantum circuit.\n",
    "        parameters: The parameters of the quantum neural network which are trained.\n",
    "    Returns:\n",
    "        Quantum neural network compatible with PyTorch\n",
    "    \"\"\"\n",
    "    circuit_qnn = CircuitQNN(\n",
    "        qnn,\n",
    "        input_params=[],\n",
    "        weight_params=parameters,\n",
    "        quantum_instance=qi,\n",
    "        sampling=True,\n",
    "        sparse=False,\n",
    "        input_gradients=True,\n",
    "        interpret=lambda x: grid_elements[x],\n",
    "    )\n",
    "    # We use the Qiskit TorchConnector to ensure compatibility with PyTorch\n",
    "    return TorchConnector(circuit_qnn)\n",
    "\n",
    "\n",
    "def generator_grad(\n",
    "    qnn: QuantumCircuit,\n",
    "    parameters: Union[ParameterVector, ParameterExpression, List[ParameterExpression]],\n",
    "    param_values: Iterable,\n",
    "    grad_method: str = \"param_shift\",\n",
    ") -> Iterable:\n",
    "    \"\"\"\n",
    "    The function returns the gradient values for the quantum generator given the\n",
    "    underlying parameterized quantum circuit.\n",
    "    Args:\n",
    "        qnn: Quantum neural network ansatz given as a quantum circuit.\n",
    "        parameters: The parameters of the quantum neural network which are trained.\n",
    "        param_values: The current values of the quantum neural network parameters.\n",
    "        grad_method: Method used to compute the gradients {'param_shift', 'lin_comb', 'fin_diff'}\n",
    "    Returns:\n",
    "        List of gradients for the sampling probabilities of the quantum neural network.\n",
    "    \"\"\"\n",
    "    grad = Gradient(grad_method=grad_method).gradient_wrapper(StateFn(qnn), parameters, backend=qi)\n",
    "    grad_values = grad(param_values)\n",
    "    return grad_values.tolist()"
   ]
  },
  {
   "cell_type": "markdown",
   "metadata": {
    "pycharm": {
     "name": "#%% md\n"
    }
   },
   "source": [
    "### Definition of classical discriminator\n",
    "Next, we define factories that create the classical discriminators. The underlying gradients can be automatically computed with PyTorch."
   ]
  },
  {
   "cell_type": "code",
   "execution_count": 5,
   "metadata": {
    "pycharm": {
     "name": "#%%\n"
    }
   },
   "outputs": [],
   "source": [
    "class create_discriminator(nn.Module):\n",
    "    \"\"\"\n",
    "    Factory to create the quantum generator from a given parameterized quantum circuit.\n",
    "    \"\"\"\n",
    "\n",
    "    def __init__(self):\n",
    "        super(create_discriminator, self).__init__()\n",
    "\n",
    "        self.Linear_in = nn.Linear(len(data_dim), 20)\n",
    "        self.Leaky_ReLU = nn.LeakyReLU(0.2, inplace=True)\n",
    "        # self.Linear50 = nn.Linear(50, 20)\n",
    "        self.Linear20 = nn.Linear(20, 1)\n",
    "        self.Sigmoid = nn.Sigmoid()\n",
    "\n",
    "    def forward(self, input: Tensor) -> Tensor:\n",
    "        x = self.Linear_in(input)\n",
    "        x = self.Leaky_ReLU(x)\n",
    "        # x = self.Linear50(x)\n",
    "        # x = self.Leaky_ReLU(x)\n",
    "        x = self.Linear20(x)\n",
    "        x = self.Sigmoid(x)\n",
    "        return x"
   ]
  },
  {
   "cell_type": "markdown",
   "metadata": {
    "pycharm": {
     "name": "#%% md\n"
    }
   },
   "source": [
    "### Initialize the quantum neural network ansatz\n",
    "\n",
    "Now, we are ready to define the parameterized quantum circuit $G\\left(\\boldsymbol{\\theta}\\right)$ with $\\boldsymbol{\\theta} = {\\theta_1, ..., \\theta_k}$ which corresponds to our quantum generator.\n",
    "\n",
    "To implement the quantum generator, we choose a depth-$2$ ansatz that implements $R_Y$ rotations and $CX$ gates which takes a uniform distribution as an input state. Notably, for $k>1$ the generator's parameters must be chosen carefully. For example, the circuit depth should be $>1$ because higher circuit depths enable the representation of more complex structures.\n"
   ]
  },
  {
   "cell_type": "code",
   "execution_count": 6,
   "metadata": {
    "pycharm": {
     "name": "#%%\n"
    }
   },
   "outputs": [],
   "source": [
    "# sum(data_dim) corresponds to the total number of qubits in our quantum circuit (qc)\n",
    "qc = QuantumCircuit(sum(data_dim))\n",
    "qc.h(qc.qubits)\n",
    "# We choose a hardware efficient ansatz.\n",
    "twolocal = TwoLocal(sum(data_dim), \"ry\", \"cx\", reps=2, entanglement=\"circular\")\n",
    "qc.compose(twolocal, inplace=True)"
   ]
  },
  {
   "cell_type": "markdown",
   "metadata": {
    "pycharm": {
     "name": "#%% md\n"
    }
   },
   "source": [
    "### Definition of the loss functions\n",
    "We want to train the generator and the discriminator with binary cross entropy as loss function:\n",
    "$$L\\left(\\boldsymbol{\\theta}\\right)=\\sum_jp_j\\left(\\boldsymbol{\\theta}\\right)\\left[y_j\\log(x_j) + (1-y_j)\\log(1-x_j)\\right],$$\n",
    "where $x_j$ refers to a data sample and $y_j$ to the corresponding label."
   ]
  },
  {
   "cell_type": "code",
   "execution_count": 7,
   "metadata": {
    "pycharm": {
     "name": "#%%\n"
    }
   },
   "outputs": [],
   "source": [
    "# Generator loss function\n",
    "g_loss_fun = nn.BCELoss()\n",
    "# Discriminator loss function\n",
    "d_loss_fun = nn.BCELoss()"
   ]
  },
  {
   "cell_type": "markdown",
   "metadata": {
    "pycharm": {
     "name": "#%% md\n"
    }
   },
   "source": [
    "### Evaluation of custom gradients for the generator BCE loss function\n",
    "The evaluation of custom gradients for the quantum generator requires us to combine quantum gradients $\\frac{\\partial p_j\\left(\\boldsymbol{\\theta}\\right)}{\\partial \\theta_l}$ that we compute with Qiskit's gradient framework with the binary cross entropy as follows:\n",
    "$$\\frac{\\partial L\\left(\\boldsymbol{\\theta}\\right)}{\\partial \\theta_l} = \\sum_j \\frac{\\partial p_j\\left(\\boldsymbol{\\theta}\\right)}{\\partial \\theta_l} \\left[y_j\\log(x_j) + (1-y_j)\\log(1-x_j)\\right].$$"
   ]
  },
  {
   "cell_type": "code",
   "execution_count": 8,
   "metadata": {
    "pycharm": {
     "name": "#%%\n"
    }
   },
   "outputs": [],
   "source": [
    "def g_loss_fun_grad(\n",
    "    qnn: QuantumCircuit,\n",
    "    parameters: Union[ParameterVector, ParameterExpression, List[ParameterExpression]],\n",
    "    param_values: Iterable,\n",
    "    discriminator_: nn.Module,\n",
    "    grad_method: str = \"param_shift\",\n",
    ") -> Iterable:\n",
    "    \"\"\"\n",
    "    Custom gradient of the generator loss function considering the custom gradients of the quantum generator\n",
    "    Args:\n",
    "        qnn: Quantum neural network ansatz given as a quantum circuit.\n",
    "        parameters: The parameters of the quantum neural network which are trained.\n",
    "        param_values: The current values of the quantum neural network parameters.\n",
    "        discriminator_: Classical neural network representing the discriminator.\n",
    "        grad_method: Method used to compute the gradients {'param_shift', 'lin_comb', 'fin_diff'}\n",
    "    Returns:\n",
    "        List of gradient values, i.e., the gradients of the loss function w.r.t. the quantum neural network parameters\n",
    "    \"\"\"\n",
    "    grads = generator_grad(qnn, parameters, param_values, grad_method=grad_method)\n",
    "    loss_grad = ()\n",
    "    for j, grad in enumerate(grads):\n",
    "        cx = grad[0].tocoo()\n",
    "        input = []\n",
    "        target = []\n",
    "        weight = []\n",
    "        for index, prob_grad in zip(cx.col, cx.data):\n",
    "            input.append(grid_elements[index])\n",
    "            target.append([1.0])\n",
    "            weight.append([prob_grad])\n",
    "#        bce_loss_grad = F.binary_cross_entropy(\n",
    "#            discriminator_(Tensor(input)), Tensor(target), weight=Tensor(weight)\n",
    "#        )\n",
    "        bce_loss_grad = F.binary_cross_entropy(\n",
    "            discriminator_(torch.tensor(input, dtype=torch.float)), torch.tensor(target), weight=torch.tensor(weight)\n",
    "        )        \n",
    "        loss_grad += (bce_loss_grad,)\n",
    "    loss_grad = stack(loss_grad)\n",
    "    return loss_grad"
   ]
  },
  {
   "cell_type": "markdown",
   "metadata": {
    "pycharm": {
     "name": "#%% md\n"
    }
   },
   "source": [
    "### Relative entropy as benchmarking metric\n",
    "The relative entropy describes a distance metric for distributions. Hence, we can use it to benchmark how close/far away the trained distribution is from the target distribution."
   ]
  },
  {
   "cell_type": "code",
   "execution_count": 9,
   "metadata": {
    "pycharm": {
     "name": "#%%\n"
    }
   },
   "outputs": [],
   "source": [
    "def get_rel_entr(gen_data) -> float:\n",
    "    \"\"\"Get relative entropy between target and trained distribution\"\"\"\n",
    "    prob_gen = np.zeros(len(grid_elements))\n",
    "    for j, item in enumerate(grid_elements):\n",
    "        for gen_item in gen_data.detach().numpy():\n",
    "            if np.allclose(np.round(gen_item, 6), np.round(item, 6), rtol=1e-5):\n",
    "                prob_gen[j] += 1\n",
    "    prob_gen = prob_gen / len(gen_data)\n",
    "    prob_gen = [1e-8 if x == 0 else x for x in prob_gen]\n",
    "    rel_entr = entropy(prob_gen, prob_data)\n",
    "    return rel_entr"
   ]
  },
  {
   "cell_type": "markdown",
   "metadata": {
    "pycharm": {
     "name": "#%% md\n"
    }
   },
   "source": [
    "### Definition of the optimizers\n",
    "In order to train the generator and discriminator, we need to define optimization schemes. In the following, we employ a momentum based optimizer called Adam [1].\n",
    "\n",
    "**References:**\n",
    "\n",
    "[1] Kingma et al.,\n",
    "    `Adam: A method for stochastic optimization <https://arxiv.org/abs/1412.6980>`_\n"
   ]
  },
  {
   "cell_type": "code",
   "execution_count": 10,
   "metadata": {
    "pycharm": {
     "name": "#%%\n"
    }
   },
   "outputs": [],
   "source": [
    "# Initialize generator and discriminator\n",
    "generator = create_generator(qc, twolocal.parameters)\n",
    "discriminator = create_discriminator()\n",
    "\n",
    "lr = 0.01  # learning rate\n",
    "b1 = 0.9  # first momentum parameter\n",
    "b2 = 0.999  # second momentum parameter\n",
    "n_epochs = 3  # number of training epochs\n",
    "\n",
    "# optimizer for the generator\n",
    "optimizer_G = Adam(generator.parameters(), lr=lr, betas=(b1, b2))\n",
    "# optimizer for the discriminator\n",
    "optimizer_D = Adam(discriminator.parameters(), lr=lr, betas=(b1, b2))"
   ]
  },
  {
   "cell_type": "markdown",
   "metadata": {
    "pycharm": {
     "name": "#%% md\n"
    }
   },
   "source": [
    "### Training\n",
    "Now, we are ready to train our model."
   ]
  },
  {
   "cell_type": "code",
   "execution_count": 11,
   "metadata": {
    "pycharm": {
     "name": "#%%\n"
    }
   },
   "outputs": [
    {
     "name": "stdout",
     "output_type": "stream",
     "text": [
      "[Epoch 0/3] [Batch 0/2] [D loss: 0.717627] [G loss: 0.623268]\n",
      "[Epoch 0/3] [Batch 1/2] [D loss: 0.701360] [G loss: 0.663027]\n",
      "[Epoch 1/3] [Batch 0/2] [D loss: 0.688350] [G loss: 0.701008]\n",
      "[Epoch 1/3] [Batch 1/2] [D loss: 0.676926] [G loss: 0.742853]\n",
      "[Epoch 2/3] [Batch 0/2] [D loss: 0.663035] [G loss: 0.786887]\n",
      "[Epoch 2/3] [Batch 1/2] [D loss: 0.665338] [G loss: 0.810022]\n"
     ]
    }
   ],
   "source": [
    "# Relative entropy list\n",
    "rel_entr_list = []\n",
    "# Generator loss list\n",
    "g_loss_list = []\n",
    "# Discriminator loss list\n",
    "d_loss_list = []\n",
    "\n",
    "for epoch in range(n_epochs):\n",
    "    rel_entr = []\n",
    "    g_loss_ = []\n",
    "    d_loss_ = []\n",
    "    for i, data in enumerate(dataloader):\n",
    "        # Adversarial ground truths\n",
    "        # valid = Variable(Tensor(data.size(0), 1).fill_(1.0), requires_grad=False)\n",
    "        valid = torch.ones(data.size(0), 1)\n",
    "        # fake = Variable(Tensor(data.size(0), 1).fill_(0.0), requires_grad=False)\n",
    "        fake = torch.zeros(data.size(0), 1)\n",
    "\n",
    "        # Configure input\n",
    "        # real_data = Variable(data.type(Tensor))\n",
    "        real_data = data\n",
    "        # Generate a batch of data points\n",
    "        gen_data = generator()\n",
    "\n",
    "        # Evaluate Relative Entropy\n",
    "        rel_entr.append(get_rel_entr(gen_data))\n",
    "\n",
    "        # ---------------------\n",
    "        #  Train Discriminator\n",
    "        # ---------------------\n",
    "        optimizer_D.zero_grad()\n",
    "\n",
    "        # Loss measures discriminator's ability to distinguish real from generated samples\n",
    "        disc_data = discriminator(real_data)\n",
    "        real_loss = d_loss_fun(disc_data, valid)\n",
    "        fake_loss = d_loss_fun(\n",
    "            discriminator(gen_data), fake\n",
    "        )  # (discriminator(gen_data).detach(), fake)\n",
    "        d_loss = (real_loss + fake_loss) / 2\n",
    "\n",
    "        d_loss.backward(retain_graph=True)\n",
    "        optimizer_D.step()\n",
    "\n",
    "        # -----------------\n",
    "        #  Train Generator\n",
    "        # -----------------\n",
    "\n",
    "        optimizer_G.zero_grad()\n",
    "\n",
    "        # Loss measures generator's ability to prepare good data samples\n",
    "        g_loss = g_loss_fun(discriminator(gen_data), valid)\n",
    "        g_loss.retain_grad = True\n",
    "        g_loss_grad = g_loss_fun_grad(\n",
    "            qc, twolocal.ordered_parameters, generator.weight.data.numpy(), discriminator\n",
    "        )\n",
    "\n",
    "        g_loss.backward(retain_graph=True)\n",
    "        for j, param in enumerate(generator.parameters()):\n",
    "            param.grad = g_loss_grad\n",
    "        optimizer_G.step()\n",
    "\n",
    "        g_loss_.append(g_loss.item())\n",
    "        d_loss_.append(d_loss.item())\n",
    "\n",
    "        print(\n",
    "            \"[Epoch %d/%d] [Batch %d/%d] [D loss: %f] [G loss: %f]\"\n",
    "            % (epoch, n_epochs, i, len(dataloader), d_loss.item(), g_loss.item())\n",
    "        )\n",
    "\n",
    "    rel_entr_list.append(np.mean(rel_entr))\n",
    "    g_loss_list.append(np.mean(g_loss_))\n",
    "    d_loss_list.append(np.mean(d_loss_))"
   ]
  },
  {
   "cell_type": "markdown",
   "metadata": {
    "pycharm": {
     "name": "#%% md\n"
    }
   },
   "source": [
    "### Plots\n",
    "Let's visualize what happened during the training by plotting the evolution of the generator's and the discriminator's loss functions during the training, as well as the progress in the relative entropy between the trained and the target distribution.\n",
    "\n",
    "Finally, we also compare the probability density function (PDF) of the trained distribution to the PDF of the target distribution."
   ]
  },
  {
   "cell_type": "code",
   "execution_count": 12,
   "metadata": {
    "pycharm": {
     "name": "#%%\n"
    }
   },
   "outputs": [
    {
     "data": {
      "image/png": "[encoded data removed]",
      "text/plain": [
       "<Figure size 432x288 with 1 Axes>"
      ]
     },
     "metadata": {
      "needs_background": "light"
     },
     "output_type": "display_data"
    }
   ],
   "source": [
    "# Relative Entropy\n",
    "plt.figure()\n",
    "plt.title(\"Relative entropy\")\n",
    "plt.plot(rel_entr_list)\n",
    "plt.xlabel(\"Iteration\")\n",
    "plt.ylabel(\"Relative entropy\")\n",
    "plt.grid()\n",
    "plt.show()"
   ]
  },
  {
   "cell_type": "code",
   "execution_count": 13,
   "metadata": {
    "pycharm": {
     "name": "#%%\n"
    }
   },
   "outputs": [
    {
     "data": {
      "image/png": "[encoded data removed]",
      "text/plain": [
       "<Figure size 432x288 with 1 Axes>"
      ]
     },
     "metadata": {
      "needs_background": "light"
     },
     "output_type": "display_data"
    }
   ],
   "source": [
    "# Loss\n",
    "plt.figure()\n",
    "plt.title(\"Loss\")\n",
    "plt.plot(g_loss_list, label=\"generator loss\", color=\"blue\")\n",
    "plt.plot(d_loss_list, label=\"discriminator loss\", color=\"magenta\")\n",
    "plt.legend(loc=\"best\")\n",
    "plt.xlabel(\"Iteration\")\n",
    "plt.ylabel(\"Loss\")\n",
    "plt.grid()\n",
    "plt.show()"
   ]
  },
  {
   "cell_type": "code",
   "execution_count": 14,
   "metadata": {
    "pycharm": {
     "name": "#%%\n"
    }
   },
   "outputs": [
    {
     "data": {
      "image/png": "[encoded data removed]",
      "text/plain": [
       "<Figure size 432x288 with 1 Axes>"
      ]
     },
     "metadata": {
      "needs_background": "light"
     },
     "output_type": "display_data"
    }
   ],
   "source": [
    "# PDF\n",
    "# Get the generator data samples and corresponding sampling probabilities\n",
    "gen_data = generator().detach().numpy()\n",
    "prob_gen = np.zeros(len(grid_elements))\n",
    "for j, item in enumerate(grid_elements):\n",
    "    for gen_item in gen_data:\n",
    "        if np.allclose(np.round(gen_item, 6), np.round(item, 6), rtol=1e-5):\n",
    "            prob_gen[j] += 1\n",
    "prob_gen = prob_gen / len(gen_data)\n",
    "\n",
    "prob_gen = [1e-8 if x == 0 else x for x in prob_gen]\n",
    "fig = plt.figure()\n",
    "ax1 = fig.add_subplot(111, projection=\"3d\")\n",
    "ax1.set_title(\"PDF\")\n",
    "ax1.bar3d(\n",
    "    np.transpose(grid_elements)[0],\n",
    "    np.transpose(grid_elements)[1],\n",
    "    prob_gen,\n",
    "    0.1,\n",
    "    0.1,\n",
    "    prob_gen,\n",
    "    label=\"generated data\",\n",
    "    color=\"royalblue\",\n",
    "    alpha=0.5,\n",
    ")\n",
    "ax1.bar3d(\n",
    "    np.transpose(grid_elements)[0],\n",
    "    np.transpose(grid_elements)[1],\n",
    "    prob_data,\n",
    "    0.1,\n",
    "    0.1,\n",
    "    prob_data,\n",
    "    label=\"training data\",\n",
    "    color=\"deepskyblue\",\n",
    "    alpha=0.5,\n",
    ")\n",
    "ax1.set_xlabel(\"x_0\")\n",
    "ax1.set_ylabel(\"x_1\")\n",
    "ax1.set_zlabel(\"p(x)\")\n",
    "plt.show()"
   ]
  },
  {
   "cell_type": "code",
   "execution_count": 15,
   "metadata": {
    "pycharm": {
     "name": "#%%\n"
    }
   },
   "outputs": [
    {
     "data": {
      "text/html": [
       "<h3>Version Information</h3><table><tr><th>Qiskit Software</th><th>Version</th></tr><tr><td><code>qiskit-terra</code></td><td>0.22.0</td></tr><tr><td><code>qiskit-aer</code></td><td>0.10.4</td></tr><tr><td><code>qiskit-ignis</code></td><td>0.7.0</td></tr><tr><td><code>qiskit</code></td><td>0.33.0</td></tr><tr><td><code>qiskit-machine-learning</code></td><td>0.5.0</td></tr><tr><th>System information</th></tr><tr><td>Python version</td><td>3.7.9</td></tr><tr><td>Python compiler</td><td>MSC v.1916 64 bit (AMD64)</td></tr><tr><td>Python build</td><td>default, Aug 31 2020 17:10:11</td></tr><tr><td>OS</td><td>Windows</td></tr><tr><td>CPUs</td><td>4</td></tr><tr><td>Memory (Gb)</td><td>31.837730407714844</td></tr><tr><td colspan='2'>Fri Aug 12 16:09:52 2022 GMT Daylight Time</td></tr></table>"
      ],
      "text/plain": [
       "<IPython.core.display.HTML object>"
      ]
     },
     "metadata": {},
     "output_type": "display_data"
    },
    {
     "data": {
      "text/html": [
       "<div style='width: 100%; background-color:#d5d9e0;padding-left: 10px; padding-bottom: 10px; padding-right: 10px; padding-top: 5px'><h3>This code is a part of Qiskit</h3><p>&copy; Copyright IBM 2017, 2022.</p><p>This code is licensed under the Apache License, Version 2.0. You may<br>obtain a copy of this license in the LICENSE.txt file in the root directory<br> of this source tree or at http://www.apache.org/licenses/LICENSE-2.0.<p>Any modifications or derivative works of this code must retain this<br>copyright notice, and modified files need to carry a notice indicating<br>that they have been altered from the originals.</p></div>"
      ],
      "text/plain": [
       "<IPython.core.display.HTML object>"
      ]
     },
     "metadata": {},
     "output_type": "display_data"
    }
   ],
   "source": [
    "import qiskit.tools.jupyter\n",
    "\n",
    "%qiskit_version_table\n",
    "%qiskit_copyright"
   ]
  }
 ],
 "metadata": {
  "kernelspec": {
   "display_name": "Python 3",
   "language": "python",
   "name": "python3"
  },
  "language_info": {
   "codemirror_mode": {
    "name": "ipython",
    "version": 3
   },
   "file_extension": ".py",
   "mimetype": "text/x-python",
   "name": "python",
   "nbconvert_exporter": "python",
   "pygments_lexer": "ipython3",
   "version": "3.7.9"
  }
 },
 "nbformat": 4,
 "nbformat_minor": 1
}
