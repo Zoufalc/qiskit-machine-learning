{
 "cells": [
  {
   "cell_type": "markdown",
   "metadata": {
    "collapsed": true,
    "pycharm": {
     "name": "#%% md\n"
    }
   },
   "source": [
    "# PyTorch qGAN Implementation"
   ]
  },
  {
   "cell_type": "markdown",
   "metadata": {
    "pycharm": {
     "name": "#%% md\n"
    }
   },
   "source": [
    "Description\n",
    "\n",
    "adapted from [PyTorch GAN](https://github.com/eriklindernoren/PyTorch-GAN/blob/master/implementations/gan/gan.py)"
   ]
  },
  {
   "cell_type": "code",
   "execution_count": 120,
   "metadata": {
    "pycharm": {
     "name": "#%%\n"
    }
   },
   "outputs": [],
   "source": [
    "# Necessary imports\n",
    "\n",
    "import numpy as np\n",
    "from typing import Union, List, Optional, Iterable\n",
    "\n",
    "from torch import Tensor, stack, reshape\n",
    "from torch.utils.data import DataLoader\n",
    "from torch.autograd import Variable\n",
    "from torch.optim import Adam\n",
    "import torch.nn as nn\n",
    "import torch.nn.functional as F\n",
    "\n",
    "\n",
    "from qiskit import Aer, QuantumCircuit\n",
    "from qiskit.utils import QuantumInstance, algorithm_globals\n",
    "from qiskit.opflow import Gradient, StateFn\n",
    "from qiskit.circuit.library import TwoLocal\n",
    "from qiskit.circuit import ParameterExpression, ParameterVector\n",
    "from qiskit_machine_learning.neural_networks import CircuitQNN\n",
    "from qiskit_machine_learning.connectors import TorchConnector\n",
    "from qiskit_machine_learning.datasets.dataset_helper import discretize_and_truncate\n",
    "\n",
    "# Set seed for random generators\n",
    "algorithm_globals.random_seed = 42"
   ]
  },
  {
   "cell_type": "markdown",
   "metadata": {
    "pycharm": {
     "name": "#%% md\n"
    }
   },
   "source": [
    "### Load training data\n",
    "\n",
    "For testing purposes, we decide for a 2D multivariate normal distribution.\n",
    "Each dimension is represented by 2 qubits."
   ]
  },
  {
   "cell_type": "code",
   "execution_count": 121,
   "outputs": [],
   "source": [
    "data_dim = [3, 3]\n",
    "\n",
    "training_data = np.random.default_rng().multivariate_normal(mean=[0., 0.], cov=[[1, 0], [0, 1]], size=1000, check_valid='warn',\n",
    "                                                        tol=1e-8, method='svd')\n",
    "# Define minimal and maximal values for the training data\n",
    "bounds_min = np.percentile(training_data, 5, axis=0)\n",
    "bounds_max = np.percentile(training_data, 95, axis=0)\n",
    "bounds = []\n",
    "for i, _ in enumerate(bounds_min):\n",
    "    bounds.append([bounds_min[i], bounds_max[i]])\n",
    "\n",
    "# Pre-processing, i.e., gridding\n",
    "(training_data,\n",
    "data_grid,\n",
    "grid_elements,\n",
    "prob_data ) = discretize_and_truncate(\n",
    "training_data,\n",
    "np.array(bounds),\n",
    "data_dim,\n",
    "return_data_grid_elements=True,\n",
    "return_prob=True,\n",
    "prob_non_zero=True,\n",
    ")\n",
    "\n",
    "# Define the training batch size\n",
    "batch_size = 100\n",
    "dataloader = DataLoader(training_data, batch_size=batch_size, shuffle=True, drop_last=True)"
   ],
   "metadata": {
    "collapsed": false,
    "pycharm": {
     "name": "#%%\n"
    }
   }
  },
  {
   "cell_type": "markdown",
   "source": [
    "### Specify Backend"
   ],
   "metadata": {
    "collapsed": false,
    "pycharm": {
     "name": "#%% md\n"
    }
   }
  },
  {
   "cell_type": "code",
   "execution_count": 122,
   "outputs": [],
   "source": [
    "# declare quantum instance\n",
    "backend = Aer.get_backend('aer_simulator')\n",
    "qi = QuantumInstance(backend, shots = batch_size)"
   ],
   "metadata": {
    "collapsed": false,
    "pycharm": {
     "name": "#%%\n"
    }
   }
  },
  {
   "cell_type": "markdown",
   "metadata": {
    "pycharm": {
     "name": "#%% md\n"
    }
   },
   "source": [
    "### Definition of quantum generator and the respective gradient"
   ]
  },
  {
   "cell_type": "code",
   "execution_count": 123,
   "metadata": {
    "pycharm": {
     "name": "#%%\n"
    }
   },
   "outputs": [],
   "source": [
    "def generator_(qnn: QuantumCircuit,\n",
    "               parameters: Union[ParameterVector, ParameterExpression, List[ParameterExpression]]) -> TorchConnector:\n",
    "    \"\"\"\n",
    "    Args:\n",
    "        qnn: Quantum neural network ansatz given as a quantum circuit.\n",
    "        parameters: The parameters of the quantum neural network which are trained.\n",
    "    Returns:\n",
    "        Quantum neural network compatible with PyTorch\n",
    "    \"\"\"\n",
    "    circuit_qnn = CircuitQNN(qnn, input_params=[], weight_params = parameters,\n",
    "                             quantum_instance=qi, sampling=True, sparse=False,\n",
    "                             input_gradients=True, interpret=lambda x: grid_elements[x])\n",
    "    # We use the Qiskit TorchConnector to ensure compatibility with PyTorch\n",
    "    return TorchConnector(circuit_qnn)\n",
    "\n",
    "def generator_grad(qnn: QuantumCircuit,\n",
    "                   parameters: Union[ParameterVector, ParameterExpression, List[ParameterExpression]],\n",
    "                   param_values: Iterable,\n",
    "                   grad_method: str = 'param_shift') -> Iterable:\n",
    "    \"\"\"\n",
    "    Custom generator gradient\n",
    "    Args:\n",
    "        qnn: Quantum neural network ansatz given as a quantum circuit.\n",
    "        parameters: The parameters of the quantum neural network which are trained.\n",
    "        param_values: The current values of the quantum neural network parameters.\n",
    "        grad_method: Method used to compute the gradients {'param_shift', 'lin_comb', 'fin_diff'}\n",
    "    Returns:\n",
    "        List of gradients for the sampling probabilities of the quantum neural network.\n",
    "    \"\"\"\n",
    "    grad = Gradient(grad_method=grad_method).gradient_wrapper(StateFn(qnn), parameters, backend=qi)\n",
    "    grad_values = grad(param_values)\n",
    "    return grad_values.tolist()"
   ]
  },
  {
   "cell_type": "markdown",
   "metadata": {
    "pycharm": {
     "name": "#%% md\n"
    }
   },
   "source": [
    "### Definition of classical discriminator"
   ]
  },
  {
   "cell_type": "code",
   "execution_count": 124,
   "metadata": {
    "pycharm": {
     "name": "#%%\n"
    }
   },
   "outputs": [],
   "source": [
    "class Discriminator(nn.Module):\n",
    "    def __init__(self):\n",
    "        super(Discriminator, self).__init__()\n",
    "\n",
    "        self.Linear_in = nn.Linear(len(data_dim), 51)\n",
    "        self.Leaky_ReLU = nn.LeakyReLU(0.2, inplace=True)\n",
    "        self.Linear51 = nn.Linear(51, 26)\n",
    "        self.Linear26 = nn.Linear(26, 1)\n",
    "        self.Sigmoid = nn.Sigmoid()\n",
    "\n",
    "    def forward(self, input: Tensor) -> Tensor:\n",
    "        x = self.Linear_in(input)\n",
    "        x = self.Leaky_ReLU(x)\n",
    "        x = self.Linear51(x)\n",
    "        x = self.Leaky_ReLU(x)\n",
    "        x = self.Linear26(x)\n",
    "        x = self.Sigmoid(x)\n",
    "        return x"
   ]
  },
  {
   "cell_type": "markdown",
   "source": [
    "### Definition of the quantum neural network ansatz"
   ],
   "metadata": {
    "collapsed": false,
    "pycharm": {
     "name": "#%% md\n"
    }
   }
  },
  {
   "cell_type": "code",
   "execution_count": 125,
   "outputs": [],
   "source": [
    "qnn = QuantumCircuit(sum(data_dim))\n",
    "qnn.h(qnn.qubits)\n",
    "ansatz = TwoLocal(sum(data_dim), \"ry\", \"cx\", reps=3, entanglement=\"circular\")\n",
    "qnn.compose(ansatz, inplace=True)"
   ],
   "metadata": {
    "collapsed": false,
    "pycharm": {
     "name": "#%%\n"
    }
   }
  },
  {
   "cell_type": "markdown",
   "metadata": {
    "pycharm": {
     "name": "#%% md\n"
    }
   },
   "source": [
    "### Definition of the loss functions"
   ]
  },
  {
   "cell_type": "code",
   "execution_count": 126,
   "outputs": [],
   "source": [
    "# Loss function\n",
    "g_loss_fun = nn.BCELoss()\n",
    "d_loss_fun = nn.BCELoss()"
   ],
   "metadata": {
    "collapsed": false,
    "pycharm": {
     "name": "#%%\n"
    }
   }
  },
  {
   "cell_type": "markdown",
   "source": [
    "### Evaluation of custom gradients for the generator BCE loss function"
   ],
   "metadata": {
    "collapsed": false,
    "pycharm": {
     "name": "#%% md\n"
    }
   }
  },
  {
   "cell_type": "code",
   "execution_count": 127,
   "outputs": [],
   "source": [
    "def g_loss_fun_grad(qnn: QuantumCircuit,\n",
    "                    parameters: Union[ParameterVector, ParameterExpression, List[ParameterExpression]],\n",
    "                    param_values: Iterable,\n",
    "                    discriminator_: nn.Module,\n",
    "                    grad_method: str = 'param_shift') -> Iterable:\n",
    "    \"\"\"\n",
    "    Custom gradient of the generator loss function considering the custom gradients of the quantum generator\n",
    "    Args:\n",
    "        qnn: Quantum neural network ansatz given as a quantum circuit.\n",
    "        parameters: The parameters of the quantum neural network which are trained.\n",
    "        param_values: The current values of the quantum neural network parameters.\n",
    "        discriminator_: Classical neural network representing the discriminator.\n",
    "        grad_method: Method used to compute the gradients {'param_shift', 'lin_comb', 'fin_diff'}\n",
    "    Returns:\n",
    "        List of gradient values, i.e., the gradients of the loss function w.r.t. the quantum neural network parameters\n",
    "    \"\"\"\n",
    "    grads = generator_grad(qnn, parameters, param_values, grad_method = grad_method)\n",
    "    loss_grad = ()\n",
    "    for j, grad in enumerate(grads):\n",
    "        cx = grad[0].tocoo()\n",
    "        input = []\n",
    "        target = []\n",
    "        weight = []\n",
    "        for index, prob_grad in zip(cx.col, cx.data):\n",
    "            input.append(grid_elements[index])\n",
    "            target.append([1.])\n",
    "            weight.append([prob_grad])\n",
    "        bce_loss_grad = F.binary_cross_entropy(discriminator_(Tensor(input)), Tensor(target), weight=Tensor(weight))\n",
    "        loss_grad += (bce_loss_grad, )\n",
    "    loss_grad = stack(loss_grad)\n",
    "    return loss_grad"
   ],
   "metadata": {
    "collapsed": false,
    "pycharm": {
     "name": "#%%\n"
    }
   }
  },
  {
   "cell_type": "markdown",
   "source": [
    "### Definition of the optimizers"
   ],
   "metadata": {
    "collapsed": false,
    "pycharm": {
     "name": "#%% md\n"
    }
   }
  },
  {
   "cell_type": "code",
   "execution_count": 128,
   "metadata": {
    "pycharm": {
     "name": "#%%\n"
    }
   },
   "outputs": [],
   "source": [
    "# Initialize generator and discriminator\n",
    "generator = generator_(qnn, ansatz.ordered_parameters)\n",
    "discriminator = Discriminator()\n",
    "\n",
    "lr=0.001 #learning rate\n",
    "b1=0.7 #first momentum parameter\n",
    "b2=0.999 #second momentum parameter\n",
    "n_epochs=100 #number of training epochs\n",
    "\n",
    "#optimizer for the generator\n",
    "optimizer_G = Adam(generator.parameters(), lr=lr, betas=(b1, b2))\n",
    "#optimizer for the discriminator\n",
    "optimizer_D = Adam(discriminator.parameters(), lr=lr, betas=(b1, b2))"
   ]
  },
  {
   "cell_type": "markdown",
   "metadata": {
    "pycharm": {
     "name": "#%% md\n"
    }
   },
   "source": [
    "### Training"
   ]
  },
  {
   "cell_type": "code",
   "execution_count": 129,
   "metadata": {
    "pycharm": {
     "name": "#%%\n"
    }
   },
   "outputs": [
    {
     "name": "stdout",
     "output_type": "stream",
     "text": [
      "[Epoch 0/100] [Batch 0/8] [D loss: 0.695544] [G loss: 0.786838]\n",
      "[Epoch 0/100] [Batch 1/8] [D loss: 0.694922] [G loss: 0.783705]\n",
      "[Epoch 0/100] [Batch 2/8] [D loss: 0.694174] [G loss: 0.790349]\n",
      "[Epoch 0/100] [Batch 3/8] [D loss: 0.689924] [G loss: 0.794382]\n",
      "[Epoch 0/100] [Batch 4/8] [D loss: 0.691398] [G loss: 0.793176]\n",
      "[Epoch 0/100] [Batch 5/8] [D loss: 0.689089] [G loss: 0.796654]\n",
      "[Epoch 0/100] [Batch 6/8] [D loss: 0.681667] [G loss: 0.805799]\n",
      "[Epoch 0/100] [Batch 7/8] [D loss: 0.689685] [G loss: 0.794579]\n",
      "[Epoch 1/100] [Batch 0/8] [D loss: 0.679661] [G loss: 0.803387]\n",
      "[Epoch 1/100] [Batch 1/8] [D loss: 0.688019] [G loss: 0.789914]\n",
      "[Epoch 1/100] [Batch 2/8] [D loss: 0.689248] [G loss: 0.787703]\n",
      "[Epoch 1/100] [Batch 3/8] [D loss: 0.690922] [G loss: 0.797615]\n",
      "[Epoch 1/100] [Batch 4/8] [D loss: 0.681390] [G loss: 0.787319]\n",
      "[Epoch 1/100] [Batch 5/8] [D loss: 0.668715] [G loss: 0.816263]\n",
      "[Epoch 1/100] [Batch 6/8] [D loss: 0.692583] [G loss: 0.786402]\n",
      "[Epoch 1/100] [Batch 7/8] [D loss: 0.681524] [G loss: 0.791681]\n",
      "[Epoch 2/100] [Batch 0/8] [D loss: 0.682518] [G loss: 0.786100]\n",
      "[Epoch 2/100] [Batch 1/8] [D loss: 0.687705] [G loss: 0.781641]\n",
      "[Epoch 2/100] [Batch 2/8] [D loss: 0.698370] [G loss: 0.766913]\n",
      "[Epoch 2/100] [Batch 3/8] [D loss: 0.675102] [G loss: 0.796153]\n",
      "[Epoch 2/100] [Batch 4/8] [D loss: 0.672508] [G loss: 0.788018]\n",
      "[Epoch 2/100] [Batch 5/8] [D loss: 0.666264] [G loss: 0.807603]\n",
      "[Epoch 2/100] [Batch 6/8] [D loss: 0.683710] [G loss: 0.774913]\n",
      "[Epoch 2/100] [Batch 7/8] [D loss: 0.669248] [G loss: 0.801550]\n",
      "[Epoch 3/100] [Batch 0/8] [D loss: 0.677028] [G loss: 0.801310]\n",
      "[Epoch 3/100] [Batch 1/8] [D loss: 0.679553] [G loss: 0.772534]\n",
      "[Epoch 3/100] [Batch 2/8] [D loss: 0.676451] [G loss: 0.776404]\n",
      "[Epoch 3/100] [Batch 3/8] [D loss: 0.661130] [G loss: 0.811913]\n",
      "[Epoch 3/100] [Batch 4/8] [D loss: 0.659987] [G loss: 0.812119]\n",
      "[Epoch 3/100] [Batch 5/8] [D loss: 0.685980] [G loss: 0.787910]\n",
      "[Epoch 3/100] [Batch 6/8] [D loss: 0.665402] [G loss: 0.821359]\n",
      "[Epoch 3/100] [Batch 7/8] [D loss: 0.674195] [G loss: 0.796803]\n",
      "[Epoch 4/100] [Batch 0/8] [D loss: 0.666796] [G loss: 0.811113]\n",
      "[Epoch 4/100] [Batch 1/8] [D loss: 0.680580] [G loss: 0.784528]\n",
      "[Epoch 4/100] [Batch 2/8] [D loss: 0.663976] [G loss: 0.799624]\n",
      "[Epoch 4/100] [Batch 3/8] [D loss: 0.667913] [G loss: 0.795142]\n",
      "[Epoch 4/100] [Batch 4/8] [D loss: 0.700147] [G loss: 0.762735]\n",
      "[Epoch 4/100] [Batch 5/8] [D loss: 0.677526] [G loss: 0.775192]\n",
      "[Epoch 4/100] [Batch 6/8] [D loss: 0.654424] [G loss: 0.805086]\n"
     ]
    },
    {
     "ename": "KeyboardInterrupt",
     "evalue": "",
     "output_type": "error",
     "traceback": [
      "\u001B[0;31m---------------------------------------------------------------------------\u001B[0m",
      "\u001B[0;31mKeyboardInterrupt\u001B[0m                         Traceback (most recent call last)",
      "\u001B[0;32m<ipython-input-129-5b773e41306f>\u001B[0m in \u001B[0;36m<module>\u001B[0;34m\u001B[0m\n\u001B[1;32m     35\u001B[0m         \u001B[0mg_loss\u001B[0m \u001B[0;34m=\u001B[0m \u001B[0mg_loss_fun\u001B[0m\u001B[0;34m(\u001B[0m\u001B[0mdiscriminator\u001B[0m\u001B[0;34m(\u001B[0m\u001B[0mgen_data\u001B[0m\u001B[0;34m)\u001B[0m\u001B[0;34m,\u001B[0m \u001B[0mvalid\u001B[0m\u001B[0;34m)\u001B[0m\u001B[0;34m\u001B[0m\u001B[0;34m\u001B[0m\u001B[0m\n\u001B[1;32m     36\u001B[0m         \u001B[0mg_loss\u001B[0m\u001B[0;34m.\u001B[0m\u001B[0mretain_grad\u001B[0m \u001B[0;34m=\u001B[0m \u001B[0;32mTrue\u001B[0m\u001B[0;34m\u001B[0m\u001B[0;34m\u001B[0m\u001B[0m\n\u001B[0;32m---> 37\u001B[0;31m         \u001B[0mg_loss_grad\u001B[0m \u001B[0;34m=\u001B[0m \u001B[0mg_loss_fun_grad\u001B[0m\u001B[0;34m(\u001B[0m\u001B[0mqnn\u001B[0m\u001B[0;34m,\u001B[0m \u001B[0mansatz\u001B[0m\u001B[0;34m.\u001B[0m\u001B[0mordered_parameters\u001B[0m\u001B[0;34m,\u001B[0m \u001B[0mgenerator\u001B[0m\u001B[0;34m.\u001B[0m\u001B[0mweight\u001B[0m\u001B[0;34m.\u001B[0m\u001B[0mdata\u001B[0m\u001B[0;34m.\u001B[0m\u001B[0mnumpy\u001B[0m\u001B[0;34m(\u001B[0m\u001B[0;34m)\u001B[0m\u001B[0;34m,\u001B[0m \u001B[0mdiscriminator\u001B[0m\u001B[0;34m)\u001B[0m\u001B[0;34m\u001B[0m\u001B[0;34m\u001B[0m\u001B[0m\n\u001B[0m\u001B[1;32m     38\u001B[0m         \u001B[0mg_loss\u001B[0m\u001B[0;34m.\u001B[0m\u001B[0mbackward\u001B[0m\u001B[0;34m(\u001B[0m\u001B[0mretain_graph\u001B[0m\u001B[0;34m=\u001B[0m\u001B[0;32mTrue\u001B[0m\u001B[0;34m)\u001B[0m\u001B[0;34m\u001B[0m\u001B[0;34m\u001B[0m\u001B[0m\n\u001B[1;32m     39\u001B[0m         \u001B[0;32mfor\u001B[0m \u001B[0mj\u001B[0m\u001B[0;34m,\u001B[0m \u001B[0mparam\u001B[0m \u001B[0;32min\u001B[0m \u001B[0menumerate\u001B[0m\u001B[0;34m(\u001B[0m\u001B[0mgenerator\u001B[0m\u001B[0;34m.\u001B[0m\u001B[0mparameters\u001B[0m\u001B[0;34m(\u001B[0m\u001B[0;34m)\u001B[0m\u001B[0;34m)\u001B[0m\u001B[0;34m:\u001B[0m\u001B[0;34m\u001B[0m\u001B[0;34m\u001B[0m\u001B[0m\n",
      "\u001B[0;32m<ipython-input-127-ba3ba005fb91>\u001B[0m in \u001B[0;36mg_loss_fun_grad\u001B[0;34m(qnn, parameters, param_values, discriminator_, grad_method)\u001B[0m\n\u001B[1;32m     14\u001B[0m         \u001B[0mList\u001B[0m \u001B[0mof\u001B[0m \u001B[0mgradient\u001B[0m \u001B[0mvalues\u001B[0m\u001B[0;34m,\u001B[0m \u001B[0mi\u001B[0m\u001B[0;34m.\u001B[0m\u001B[0me\u001B[0m\u001B[0;34m.\u001B[0m\u001B[0;34m,\u001B[0m \u001B[0mthe\u001B[0m \u001B[0mgradients\u001B[0m \u001B[0mof\u001B[0m \u001B[0mthe\u001B[0m \u001B[0mloss\u001B[0m \u001B[0mfunction\u001B[0m \u001B[0mw\u001B[0m\u001B[0;34m.\u001B[0m\u001B[0mr\u001B[0m\u001B[0;34m.\u001B[0m\u001B[0mt\u001B[0m\u001B[0;34m.\u001B[0m \u001B[0mthe\u001B[0m \u001B[0mquantum\u001B[0m \u001B[0mneural\u001B[0m \u001B[0mnetwork\u001B[0m \u001B[0mparameters\u001B[0m\u001B[0;34m\u001B[0m\u001B[0;34m\u001B[0m\u001B[0m\n\u001B[1;32m     15\u001B[0m     \"\"\"\n\u001B[0;32m---> 16\u001B[0;31m     \u001B[0mgrads\u001B[0m \u001B[0;34m=\u001B[0m \u001B[0mgenerator_grad\u001B[0m\u001B[0;34m(\u001B[0m\u001B[0mqnn\u001B[0m\u001B[0;34m,\u001B[0m \u001B[0mparameters\u001B[0m\u001B[0;34m,\u001B[0m \u001B[0mparam_values\u001B[0m\u001B[0;34m,\u001B[0m \u001B[0mgrad_method\u001B[0m \u001B[0;34m=\u001B[0m \u001B[0;34m'param_shift'\u001B[0m\u001B[0;34m)\u001B[0m\u001B[0;34m\u001B[0m\u001B[0;34m\u001B[0m\u001B[0m\n\u001B[0m\u001B[1;32m     17\u001B[0m     \u001B[0mloss_grad\u001B[0m \u001B[0;34m=\u001B[0m \u001B[0;34m(\u001B[0m\u001B[0;34m)\u001B[0m\u001B[0;34m\u001B[0m\u001B[0;34m\u001B[0m\u001B[0m\n\u001B[1;32m     18\u001B[0m     \u001B[0;32mfor\u001B[0m \u001B[0mj\u001B[0m\u001B[0;34m,\u001B[0m \u001B[0mgrad\u001B[0m \u001B[0;32min\u001B[0m \u001B[0menumerate\u001B[0m\u001B[0;34m(\u001B[0m\u001B[0mgrads\u001B[0m\u001B[0;34m)\u001B[0m\u001B[0;34m:\u001B[0m\u001B[0;34m\u001B[0m\u001B[0;34m\u001B[0m\u001B[0m\n",
      "\u001B[0;32m<ipython-input-123-d39f345c00a5>\u001B[0m in \u001B[0;36mgenerator_grad\u001B[0;34m(qnn, parameters, param_values, grad_method)\u001B[0m\n\u001B[1;32m     28\u001B[0m     \"\"\"\n\u001B[1;32m     29\u001B[0m     \u001B[0mgrad\u001B[0m \u001B[0;34m=\u001B[0m \u001B[0mGradient\u001B[0m\u001B[0;34m(\u001B[0m\u001B[0mgrad_method\u001B[0m\u001B[0;34m=\u001B[0m\u001B[0mgrad_method\u001B[0m\u001B[0;34m)\u001B[0m\u001B[0;34m.\u001B[0m\u001B[0mgradient_wrapper\u001B[0m\u001B[0;34m(\u001B[0m\u001B[0mStateFn\u001B[0m\u001B[0;34m(\u001B[0m\u001B[0mqnn\u001B[0m\u001B[0;34m)\u001B[0m\u001B[0;34m,\u001B[0m \u001B[0mparameters\u001B[0m\u001B[0;34m,\u001B[0m \u001B[0mbackend\u001B[0m\u001B[0;34m=\u001B[0m\u001B[0mqi\u001B[0m\u001B[0;34m)\u001B[0m\u001B[0;34m\u001B[0m\u001B[0;34m\u001B[0m\u001B[0m\n\u001B[0;32m---> 30\u001B[0;31m     \u001B[0mgrad_values\u001B[0m \u001B[0;34m=\u001B[0m \u001B[0mgrad\u001B[0m\u001B[0;34m(\u001B[0m\u001B[0mparam_values\u001B[0m\u001B[0;34m)\u001B[0m\u001B[0;34m\u001B[0m\u001B[0;34m\u001B[0m\u001B[0m\n\u001B[0m\u001B[1;32m     31\u001B[0m     \u001B[0;32mreturn\u001B[0m \u001B[0mgrad_values\u001B[0m\u001B[0;34m.\u001B[0m\u001B[0mtolist\u001B[0m\u001B[0;34m(\u001B[0m\u001B[0;34m)\u001B[0m\u001B[0;34m\u001B[0m\u001B[0;34m\u001B[0m\u001B[0m\n",
      "\u001B[0;32m~/Documents/Github/terra_ouf/qiskit/opflow/gradients/derivative_base.py\u001B[0m in \u001B[0;36mgradient_fn\u001B[0;34m(p_values)\u001B[0m\n\u001B[1;32m    121\u001B[0m             \u001B[0;32melse\u001B[0m\u001B[0;34m:\u001B[0m\u001B[0;34m\u001B[0m\u001B[0;34m\u001B[0m\u001B[0m\n\u001B[1;32m    122\u001B[0m                 \u001B[0mp_values_dict\u001B[0m \u001B[0;34m=\u001B[0m \u001B[0;34m{\u001B[0m\u001B[0mk\u001B[0m\u001B[0;34m:\u001B[0m \u001B[0;34m[\u001B[0m\u001B[0mv\u001B[0m\u001B[0;34m]\u001B[0m \u001B[0;32mfor\u001B[0m \u001B[0mk\u001B[0m\u001B[0;34m,\u001B[0m \u001B[0mv\u001B[0m \u001B[0;32min\u001B[0m \u001B[0mp_values_dict\u001B[0m\u001B[0;34m.\u001B[0m\u001B[0mitems\u001B[0m\u001B[0;34m(\u001B[0m\u001B[0;34m)\u001B[0m\u001B[0;34m}\u001B[0m\u001B[0;34m\u001B[0m\u001B[0;34m\u001B[0m\u001B[0m\n\u001B[0;32m--> 123\u001B[0;31m                 \u001B[0mconverter\u001B[0m \u001B[0;34m=\u001B[0m \u001B[0mCircuitSampler\u001B[0m\u001B[0;34m(\u001B[0m\u001B[0mbackend\u001B[0m\u001B[0;34m=\u001B[0m\u001B[0mbackend\u001B[0m\u001B[0;34m)\u001B[0m\u001B[0;34m.\u001B[0m\u001B[0mconvert\u001B[0m\u001B[0;34m(\u001B[0m\u001B[0mgrad\u001B[0m\u001B[0;34m,\u001B[0m \u001B[0mp_values_dict\u001B[0m\u001B[0;34m)\u001B[0m\u001B[0;34m\u001B[0m\u001B[0;34m\u001B[0m\u001B[0m\n\u001B[0m\u001B[1;32m    124\u001B[0m                 \u001B[0;32mreturn\u001B[0m \u001B[0mnp\u001B[0m\u001B[0;34m.\u001B[0m\u001B[0mreal\u001B[0m\u001B[0;34m(\u001B[0m\u001B[0mconverter\u001B[0m\u001B[0;34m.\u001B[0m\u001B[0meval\u001B[0m\u001B[0;34m(\u001B[0m\u001B[0;34m)\u001B[0m\u001B[0;34m[\u001B[0m\u001B[0;36m0\u001B[0m\u001B[0;34m]\u001B[0m\u001B[0;34m)\u001B[0m\u001B[0;34m\u001B[0m\u001B[0;34m\u001B[0m\u001B[0m\n\u001B[1;32m    125\u001B[0m \u001B[0;34m\u001B[0m\u001B[0m\n",
      "\u001B[0;32m~/Documents/Github/terra_ouf/qiskit/opflow/converters/circuit_sampler.py\u001B[0m in \u001B[0;36mconvert\u001B[0;34m(self, operator, params)\u001B[0m\n\u001B[1;32m    214\u001B[0m         \u001B[0mcircs\u001B[0m \u001B[0;34m=\u001B[0m \u001B[0mlist\u001B[0m\u001B[0;34m(\u001B[0m\u001B[0mself\u001B[0m\u001B[0;34m.\u001B[0m\u001B[0m_circuit_ops_cache\u001B[0m\u001B[0;34m.\u001B[0m\u001B[0mvalues\u001B[0m\u001B[0;34m(\u001B[0m\u001B[0;34m)\u001B[0m\u001B[0;34m)\u001B[0m \u001B[0;32mif\u001B[0m \u001B[0;32mnot\u001B[0m \u001B[0mself\u001B[0m\u001B[0;34m.\u001B[0m\u001B[0m_transpiled_circ_cache\u001B[0m \u001B[0;32melse\u001B[0m \u001B[0;32mNone\u001B[0m\u001B[0;34m\u001B[0m\u001B[0;34m\u001B[0m\u001B[0m\n\u001B[1;32m    215\u001B[0m         \u001B[0mp_b\u001B[0m \u001B[0;34m=\u001B[0m \u001B[0mcast\u001B[0m\u001B[0;34m(\u001B[0m\u001B[0mList\u001B[0m\u001B[0;34m[\u001B[0m\u001B[0mDict\u001B[0m\u001B[0;34m[\u001B[0m\u001B[0mParameter\u001B[0m\u001B[0;34m,\u001B[0m \u001B[0mfloat\u001B[0m\u001B[0;34m]\u001B[0m\u001B[0;34m]\u001B[0m\u001B[0;34m,\u001B[0m \u001B[0mparam_bindings\u001B[0m\u001B[0;34m)\u001B[0m\u001B[0;34m\u001B[0m\u001B[0;34m\u001B[0m\u001B[0m\n\u001B[0;32m--> 216\u001B[0;31m         \u001B[0msampled_statefn_dicts\u001B[0m \u001B[0;34m=\u001B[0m \u001B[0mself\u001B[0m\u001B[0;34m.\u001B[0m\u001B[0msample_circuits\u001B[0m\u001B[0;34m(\u001B[0m\u001B[0mcircuit_sfns\u001B[0m\u001B[0;34m=\u001B[0m\u001B[0mcircs\u001B[0m\u001B[0;34m,\u001B[0m \u001B[0mparam_bindings\u001B[0m\u001B[0;34m=\u001B[0m\u001B[0mp_b\u001B[0m\u001B[0;34m)\u001B[0m\u001B[0;34m\u001B[0m\u001B[0;34m\u001B[0m\u001B[0m\n\u001B[0m\u001B[1;32m    217\u001B[0m \u001B[0;34m\u001B[0m\u001B[0m\n\u001B[1;32m    218\u001B[0m         \u001B[0;32mdef\u001B[0m \u001B[0mreplace_circuits_with_dicts\u001B[0m\u001B[0;34m(\u001B[0m\u001B[0moperator\u001B[0m\u001B[0;34m,\u001B[0m \u001B[0mparam_index\u001B[0m\u001B[0;34m=\u001B[0m\u001B[0;36m0\u001B[0m\u001B[0;34m)\u001B[0m\u001B[0;34m:\u001B[0m\u001B[0;34m\u001B[0m\u001B[0;34m\u001B[0m\u001B[0m\n",
      "\u001B[0;32m~/Documents/Github/terra_ouf/qiskit/opflow/converters/circuit_sampler.py\u001B[0m in \u001B[0;36msample_circuits\u001B[0;34m(self, circuit_sfns, param_bindings)\u001B[0m\n\u001B[1;32m    295\u001B[0m \u001B[0;34m\u001B[0m\u001B[0m\n\u001B[1;32m    296\u001B[0m             \u001B[0;32mtry\u001B[0m\u001B[0;34m:\u001B[0m\u001B[0;34m\u001B[0m\u001B[0;34m\u001B[0m\u001B[0m\n\u001B[0;32m--> 297\u001B[0;31m                 self._transpiled_circ_cache = self.quantum_instance.transpile(\n\u001B[0m\u001B[1;32m    298\u001B[0m                     \u001B[0mcircuits\u001B[0m\u001B[0;34m,\u001B[0m \u001B[0mpass_manager\u001B[0m\u001B[0;34m=\u001B[0m\u001B[0mself\u001B[0m\u001B[0;34m.\u001B[0m\u001B[0mquantum_instance\u001B[0m\u001B[0;34m.\u001B[0m\u001B[0munbound_pass_manager\u001B[0m\u001B[0;34m\u001B[0m\u001B[0;34m\u001B[0m\u001B[0m\n\u001B[1;32m    299\u001B[0m                 )\n",
      "\u001B[0;32m~/Documents/Github/terra_ouf/qiskit/utils/quantum_instance.py\u001B[0m in \u001B[0;36mtranspile\u001B[0;34m(self, circuits, pass_manager)\u001B[0m\n\u001B[1;32m    432\u001B[0m             \u001B[0;31m# if they haven't been set in the init, use the transpile args from the init\u001B[0m\u001B[0;34m\u001B[0m\u001B[0;34m\u001B[0m\u001B[0m\n\u001B[1;32m    433\u001B[0m             \u001B[0;32mif\u001B[0m \u001B[0mself\u001B[0m\u001B[0;34m.\u001B[0m\u001B[0m_pass_manager\u001B[0m \u001B[0;32mis\u001B[0m \u001B[0;32mNone\u001B[0m \u001B[0;32mand\u001B[0m \u001B[0mself\u001B[0m\u001B[0;34m.\u001B[0m\u001B[0m_bound_pass_manager\u001B[0m \u001B[0;32mis\u001B[0m \u001B[0;32mNone\u001B[0m\u001B[0;34m:\u001B[0m\u001B[0;34m\u001B[0m\u001B[0;34m\u001B[0m\u001B[0m\n\u001B[0;32m--> 434\u001B[0;31m                 transpiled_circuits = compiler.transpile(\n\u001B[0m\u001B[1;32m    435\u001B[0m                     \u001B[0mcircuits\u001B[0m\u001B[0;34m,\u001B[0m \u001B[0mself\u001B[0m\u001B[0;34m.\u001B[0m\u001B[0m_backend\u001B[0m\u001B[0;34m,\u001B[0m \u001B[0;34m**\u001B[0m\u001B[0mself\u001B[0m\u001B[0;34m.\u001B[0m\u001B[0m_backend_config\u001B[0m\u001B[0;34m,\u001B[0m \u001B[0;34m**\u001B[0m\u001B[0mself\u001B[0m\u001B[0;34m.\u001B[0m\u001B[0m_compile_config\u001B[0m\u001B[0;34m\u001B[0m\u001B[0;34m\u001B[0m\u001B[0m\n\u001B[1;32m    436\u001B[0m                 )\n",
      "\u001B[0;32m~/Documents/Github/terra_ouf/qiskit/compiler/transpiler.py\u001B[0m in \u001B[0;36mtranspile\u001B[0;34m(circuits, backend, basis_gates, inst_map, coupling_map, backend_properties, initial_layout, layout_method, routing_method, translation_method, scheduling_method, instruction_durations, dt, approximation_degree, timing_constraints, seed_transpiler, optimization_level, callback, output_name, unitary_synthesis_method, unitary_synthesis_plugin_config, target)\u001B[0m\n\u001B[1;32m    303\u001B[0m \u001B[0;34m\u001B[0m\u001B[0m\n\u001B[1;32m    304\u001B[0m     \u001B[0;31m# Transpile circuits in parallel\u001B[0m\u001B[0;34m\u001B[0m\u001B[0;34m\u001B[0m\u001B[0m\n\u001B[0;32m--> 305\u001B[0;31m     \u001B[0mcircuits\u001B[0m \u001B[0;34m=\u001B[0m \u001B[0mparallel_map\u001B[0m\u001B[0;34m(\u001B[0m\u001B[0m_transpile_circuit\u001B[0m\u001B[0;34m,\u001B[0m \u001B[0mlist\u001B[0m\u001B[0;34m(\u001B[0m\u001B[0mzip\u001B[0m\u001B[0;34m(\u001B[0m\u001B[0mcircuits\u001B[0m\u001B[0;34m,\u001B[0m \u001B[0mtranspile_args\u001B[0m\u001B[0;34m)\u001B[0m\u001B[0;34m)\u001B[0m\u001B[0;34m)\u001B[0m\u001B[0;34m\u001B[0m\u001B[0;34m\u001B[0m\u001B[0m\n\u001B[0m\u001B[1;32m    306\u001B[0m \u001B[0;34m\u001B[0m\u001B[0m\n\u001B[1;32m    307\u001B[0m     \u001B[0mend_time\u001B[0m \u001B[0;34m=\u001B[0m \u001B[0mtime\u001B[0m\u001B[0;34m(\u001B[0m\u001B[0;34m)\u001B[0m\u001B[0;34m\u001B[0m\u001B[0;34m\u001B[0m\u001B[0m\n",
      "\u001B[0;32m~/Documents/Github/terra_ouf/qiskit/tools/parallel.py\u001B[0m in \u001B[0;36mparallel_map\u001B[0;34m(task, values, task_args, task_kwargs, num_processes)\u001B[0m\n\u001B[1;32m    169\u001B[0m     \u001B[0mresults\u001B[0m \u001B[0;34m=\u001B[0m \u001B[0;34m[\u001B[0m\u001B[0;34m]\u001B[0m\u001B[0;34m\u001B[0m\u001B[0;34m\u001B[0m\u001B[0m\n\u001B[1;32m    170\u001B[0m     \u001B[0;32mfor\u001B[0m \u001B[0m_\u001B[0m\u001B[0;34m,\u001B[0m \u001B[0mvalue\u001B[0m \u001B[0;32min\u001B[0m \u001B[0menumerate\u001B[0m\u001B[0;34m(\u001B[0m\u001B[0mvalues\u001B[0m\u001B[0;34m)\u001B[0m\u001B[0;34m:\u001B[0m\u001B[0;34m\u001B[0m\u001B[0;34m\u001B[0m\u001B[0m\n\u001B[0;32m--> 171\u001B[0;31m         \u001B[0mresult\u001B[0m \u001B[0;34m=\u001B[0m \u001B[0mtask\u001B[0m\u001B[0;34m(\u001B[0m\u001B[0mvalue\u001B[0m\u001B[0;34m,\u001B[0m \u001B[0;34m*\u001B[0m\u001B[0mtask_args\u001B[0m\u001B[0;34m,\u001B[0m \u001B[0;34m**\u001B[0m\u001B[0mtask_kwargs\u001B[0m\u001B[0;34m)\u001B[0m\u001B[0;34m\u001B[0m\u001B[0;34m\u001B[0m\u001B[0m\n\u001B[0m\u001B[1;32m    172\u001B[0m         \u001B[0mresults\u001B[0m\u001B[0;34m.\u001B[0m\u001B[0mappend\u001B[0m\u001B[0;34m(\u001B[0m\u001B[0mresult\u001B[0m\u001B[0;34m)\u001B[0m\u001B[0;34m\u001B[0m\u001B[0;34m\u001B[0m\u001B[0m\n\u001B[1;32m    173\u001B[0m         \u001B[0m_callback\u001B[0m\u001B[0;34m(\u001B[0m\u001B[0;36m0\u001B[0m\u001B[0;34m)\u001B[0m\u001B[0;34m\u001B[0m\u001B[0;34m\u001B[0m\u001B[0m\n",
      "\u001B[0;32m~/Documents/Github/terra_ouf/qiskit/compiler/transpiler.py\u001B[0m in \u001B[0;36m_transpile_circuit\u001B[0;34m(circuit_config_tuple)\u001B[0m\n\u001B[1;32m    386\u001B[0m         \u001B[0;32mraise\u001B[0m \u001B[0mTranspilerError\u001B[0m\u001B[0;34m(\u001B[0m\u001B[0;34m\"optimization_level can range from 0 to 3.\"\u001B[0m\u001B[0;34m)\u001B[0m\u001B[0;34m\u001B[0m\u001B[0;34m\u001B[0m\u001B[0m\n\u001B[1;32m    387\u001B[0m \u001B[0;34m\u001B[0m\u001B[0m\n\u001B[0;32m--> 388\u001B[0;31m     result = pass_manager.run(\n\u001B[0m\u001B[1;32m    389\u001B[0m         \u001B[0mcircuit\u001B[0m\u001B[0;34m,\u001B[0m \u001B[0mcallback\u001B[0m\u001B[0;34m=\u001B[0m\u001B[0mtranspile_config\u001B[0m\u001B[0;34m[\u001B[0m\u001B[0;34m\"callback\"\u001B[0m\u001B[0;34m]\u001B[0m\u001B[0;34m,\u001B[0m \u001B[0moutput_name\u001B[0m\u001B[0;34m=\u001B[0m\u001B[0mtranspile_config\u001B[0m\u001B[0;34m[\u001B[0m\u001B[0;34m\"output_name\"\u001B[0m\u001B[0;34m]\u001B[0m\u001B[0;34m\u001B[0m\u001B[0;34m\u001B[0m\u001B[0m\n\u001B[1;32m    390\u001B[0m     )\n",
      "\u001B[0;32m~/Documents/Github/terra_ouf/qiskit/transpiler/passmanager.py\u001B[0m in \u001B[0;36mrun\u001B[0;34m(self, circuits, output_name, callback)\u001B[0m\n\u001B[1;32m    220\u001B[0m             \u001B[0;32mreturn\u001B[0m \u001B[0mcircuits\u001B[0m\u001B[0;34m\u001B[0m\u001B[0;34m\u001B[0m\u001B[0m\n\u001B[1;32m    221\u001B[0m         \u001B[0;32mif\u001B[0m \u001B[0misinstance\u001B[0m\u001B[0;34m(\u001B[0m\u001B[0mcircuits\u001B[0m\u001B[0;34m,\u001B[0m \u001B[0mQuantumCircuit\u001B[0m\u001B[0;34m)\u001B[0m\u001B[0;34m:\u001B[0m\u001B[0;34m\u001B[0m\u001B[0;34m\u001B[0m\u001B[0m\n\u001B[0;32m--> 222\u001B[0;31m             \u001B[0;32mreturn\u001B[0m \u001B[0mself\u001B[0m\u001B[0;34m.\u001B[0m\u001B[0m_run_single_circuit\u001B[0m\u001B[0;34m(\u001B[0m\u001B[0mcircuits\u001B[0m\u001B[0;34m,\u001B[0m \u001B[0moutput_name\u001B[0m\u001B[0;34m,\u001B[0m \u001B[0mcallback\u001B[0m\u001B[0;34m)\u001B[0m\u001B[0;34m\u001B[0m\u001B[0;34m\u001B[0m\u001B[0m\n\u001B[0m\u001B[1;32m    223\u001B[0m         \u001B[0;32mif\u001B[0m \u001B[0mlen\u001B[0m\u001B[0;34m(\u001B[0m\u001B[0mcircuits\u001B[0m\u001B[0;34m)\u001B[0m \u001B[0;34m==\u001B[0m \u001B[0;36m1\u001B[0m\u001B[0;34m:\u001B[0m\u001B[0;34m\u001B[0m\u001B[0;34m\u001B[0m\u001B[0m\n\u001B[1;32m    224\u001B[0m             \u001B[0;32mreturn\u001B[0m \u001B[0mself\u001B[0m\u001B[0;34m.\u001B[0m\u001B[0m_run_single_circuit\u001B[0m\u001B[0;34m(\u001B[0m\u001B[0mcircuits\u001B[0m\u001B[0;34m[\u001B[0m\u001B[0;36m0\u001B[0m\u001B[0;34m]\u001B[0m\u001B[0;34m,\u001B[0m \u001B[0moutput_name\u001B[0m\u001B[0;34m,\u001B[0m \u001B[0mcallback\u001B[0m\u001B[0;34m)\u001B[0m\u001B[0;34m\u001B[0m\u001B[0;34m\u001B[0m\u001B[0m\n",
      "\u001B[0;32m~/Documents/Github/terra_ouf/qiskit/transpiler/passmanager.py\u001B[0m in \u001B[0;36m_run_single_circuit\u001B[0;34m(self, circuit, output_name, callback)\u001B[0m\n\u001B[1;32m    275\u001B[0m         \"\"\"\n\u001B[1;32m    276\u001B[0m         \u001B[0mrunning_passmanager\u001B[0m \u001B[0;34m=\u001B[0m \u001B[0mself\u001B[0m\u001B[0;34m.\u001B[0m\u001B[0m_create_running_passmanager\u001B[0m\u001B[0;34m(\u001B[0m\u001B[0;34m)\u001B[0m\u001B[0;34m\u001B[0m\u001B[0;34m\u001B[0m\u001B[0m\n\u001B[0;32m--> 277\u001B[0;31m         \u001B[0mresult\u001B[0m \u001B[0;34m=\u001B[0m \u001B[0mrunning_passmanager\u001B[0m\u001B[0;34m.\u001B[0m\u001B[0mrun\u001B[0m\u001B[0;34m(\u001B[0m\u001B[0mcircuit\u001B[0m\u001B[0;34m,\u001B[0m \u001B[0moutput_name\u001B[0m\u001B[0;34m=\u001B[0m\u001B[0moutput_name\u001B[0m\u001B[0;34m,\u001B[0m \u001B[0mcallback\u001B[0m\u001B[0;34m=\u001B[0m\u001B[0mcallback\u001B[0m\u001B[0;34m)\u001B[0m\u001B[0;34m\u001B[0m\u001B[0;34m\u001B[0m\u001B[0m\n\u001B[0m\u001B[1;32m    278\u001B[0m         \u001B[0mself\u001B[0m\u001B[0;34m.\u001B[0m\u001B[0mproperty_set\u001B[0m \u001B[0;34m=\u001B[0m \u001B[0mrunning_passmanager\u001B[0m\u001B[0;34m.\u001B[0m\u001B[0mproperty_set\u001B[0m\u001B[0;34m\u001B[0m\u001B[0;34m\u001B[0m\u001B[0m\n\u001B[1;32m    279\u001B[0m         \u001B[0;32mreturn\u001B[0m \u001B[0mresult\u001B[0m\u001B[0;34m\u001B[0m\u001B[0;34m\u001B[0m\u001B[0m\n",
      "\u001B[0;32m~/Documents/Github/terra_ouf/qiskit/transpiler/runningpassmanager.py\u001B[0m in \u001B[0;36mrun\u001B[0;34m(***failed resolving arguments***)\u001B[0m\n\u001B[1;32m    122\u001B[0m         \u001B[0;32mfor\u001B[0m \u001B[0mpassset\u001B[0m \u001B[0;32min\u001B[0m \u001B[0mself\u001B[0m\u001B[0;34m.\u001B[0m\u001B[0mworking_list\u001B[0m\u001B[0;34m:\u001B[0m\u001B[0;34m\u001B[0m\u001B[0;34m\u001B[0m\u001B[0m\n\u001B[1;32m    123\u001B[0m             \u001B[0;32mfor\u001B[0m \u001B[0mpass_\u001B[0m \u001B[0;32min\u001B[0m \u001B[0mpassset\u001B[0m\u001B[0;34m:\u001B[0m\u001B[0;34m\u001B[0m\u001B[0;34m\u001B[0m\u001B[0m\n\u001B[0;32m--> 124\u001B[0;31m                 \u001B[0mdag\u001B[0m \u001B[0;34m=\u001B[0m \u001B[0mself\u001B[0m\u001B[0;34m.\u001B[0m\u001B[0m_do_pass\u001B[0m\u001B[0;34m(\u001B[0m\u001B[0mpass_\u001B[0m\u001B[0;34m,\u001B[0m \u001B[0mdag\u001B[0m\u001B[0;34m,\u001B[0m \u001B[0mpassset\u001B[0m\u001B[0;34m.\u001B[0m\u001B[0moptions\u001B[0m\u001B[0;34m)\u001B[0m\u001B[0;34m\u001B[0m\u001B[0;34m\u001B[0m\u001B[0m\n\u001B[0m\u001B[1;32m    125\u001B[0m \u001B[0;34m\u001B[0m\u001B[0m\n\u001B[1;32m    126\u001B[0m         \u001B[0mcircuit\u001B[0m \u001B[0;34m=\u001B[0m \u001B[0mdag_to_circuit\u001B[0m\u001B[0;34m(\u001B[0m\u001B[0mdag\u001B[0m\u001B[0;34m)\u001B[0m\u001B[0;34m\u001B[0m\u001B[0;34m\u001B[0m\u001B[0m\n",
      "\u001B[0;32m~/Documents/Github/terra_ouf/qiskit/transpiler/runningpassmanager.py\u001B[0m in \u001B[0;36m_do_pass\u001B[0;34m(self, pass_, dag, options)\u001B[0m\n\u001B[1;32m    155\u001B[0m             \u001B[0;31m# Run the pass itself, if not already run\u001B[0m\u001B[0;34m\u001B[0m\u001B[0;34m\u001B[0m\u001B[0m\n\u001B[1;32m    156\u001B[0m             \u001B[0;32mif\u001B[0m \u001B[0mpass_\u001B[0m \u001B[0;32mnot\u001B[0m \u001B[0;32min\u001B[0m \u001B[0mself\u001B[0m\u001B[0;34m.\u001B[0m\u001B[0mvalid_passes\u001B[0m\u001B[0;34m:\u001B[0m\u001B[0;34m\u001B[0m\u001B[0;34m\u001B[0m\u001B[0m\n\u001B[0;32m--> 157\u001B[0;31m                 \u001B[0mdag\u001B[0m \u001B[0;34m=\u001B[0m \u001B[0mself\u001B[0m\u001B[0;34m.\u001B[0m\u001B[0m_run_this_pass\u001B[0m\u001B[0;34m(\u001B[0m\u001B[0mpass_\u001B[0m\u001B[0;34m,\u001B[0m \u001B[0mdag\u001B[0m\u001B[0;34m)\u001B[0m\u001B[0;34m\u001B[0m\u001B[0;34m\u001B[0m\u001B[0m\n\u001B[0m\u001B[1;32m    158\u001B[0m \u001B[0;34m\u001B[0m\u001B[0m\n\u001B[1;32m    159\u001B[0m                 \u001B[0;31m# update the valid_passes property\u001B[0m\u001B[0;34m\u001B[0m\u001B[0;34m\u001B[0m\u001B[0m\n",
      "\u001B[0;32m~/Documents/Github/terra_ouf/qiskit/transpiler/runningpassmanager.py\u001B[0m in \u001B[0;36m_run_this_pass\u001B[0;34m(self, pass_, dag)\u001B[0m\n\u001B[1;32m    184\u001B[0m             \u001B[0;31m# Measure time if we have a callback or logging set\u001B[0m\u001B[0;34m\u001B[0m\u001B[0;34m\u001B[0m\u001B[0m\n\u001B[1;32m    185\u001B[0m             \u001B[0mstart_time\u001B[0m \u001B[0;34m=\u001B[0m \u001B[0mtime\u001B[0m\u001B[0;34m(\u001B[0m\u001B[0;34m)\u001B[0m\u001B[0;34m\u001B[0m\u001B[0;34m\u001B[0m\u001B[0m\n\u001B[0;32m--> 186\u001B[0;31m             \u001B[0mnew_dag\u001B[0m \u001B[0;34m=\u001B[0m \u001B[0mpass_\u001B[0m\u001B[0;34m.\u001B[0m\u001B[0mrun\u001B[0m\u001B[0;34m(\u001B[0m\u001B[0mdag\u001B[0m\u001B[0;34m)\u001B[0m\u001B[0;34m\u001B[0m\u001B[0;34m\u001B[0m\u001B[0m\n\u001B[0m\u001B[1;32m    187\u001B[0m             \u001B[0mend_time\u001B[0m \u001B[0;34m=\u001B[0m \u001B[0mtime\u001B[0m\u001B[0;34m(\u001B[0m\u001B[0;34m)\u001B[0m\u001B[0;34m\u001B[0m\u001B[0;34m\u001B[0m\u001B[0m\n\u001B[1;32m    188\u001B[0m             \u001B[0mrun_time\u001B[0m \u001B[0;34m=\u001B[0m \u001B[0mend_time\u001B[0m \u001B[0;34m-\u001B[0m \u001B[0mstart_time\u001B[0m\u001B[0;34m\u001B[0m\u001B[0;34m\u001B[0m\u001B[0m\n",
      "\u001B[0;32m~/Documents/Github/terra_ouf/qiskit/transpiler/passes/basis/basis_translator.py\u001B[0m in \u001B[0;36mrun\u001B[0;34m(self, dag)\u001B[0m\n\u001B[1;32m    212\u001B[0m \u001B[0;34m\u001B[0m\u001B[0m\n\u001B[1;32m    213\u001B[0m         \u001B[0mcompose_start_time\u001B[0m \u001B[0;34m=\u001B[0m \u001B[0mtime\u001B[0m\u001B[0;34m.\u001B[0m\u001B[0mtime\u001B[0m\u001B[0;34m(\u001B[0m\u001B[0;34m)\u001B[0m\u001B[0;34m\u001B[0m\u001B[0;34m\u001B[0m\u001B[0m\n\u001B[0;32m--> 214\u001B[0;31m         \u001B[0minstr_map\u001B[0m \u001B[0;34m=\u001B[0m \u001B[0m_compose_transforms\u001B[0m\u001B[0;34m(\u001B[0m\u001B[0mbasis_transforms\u001B[0m\u001B[0;34m,\u001B[0m \u001B[0msource_basis\u001B[0m\u001B[0;34m,\u001B[0m \u001B[0mdag\u001B[0m\u001B[0;34m)\u001B[0m\u001B[0;34m\u001B[0m\u001B[0;34m\u001B[0m\u001B[0m\n\u001B[0m\u001B[1;32m    215\u001B[0m         extra_instr_map = {\n\u001B[1;32m    216\u001B[0m             \u001B[0mqarg\u001B[0m\u001B[0;34m:\u001B[0m \u001B[0m_compose_transforms\u001B[0m\u001B[0;34m(\u001B[0m\u001B[0mtransforms\u001B[0m\u001B[0;34m,\u001B[0m \u001B[0mqargs_local_source_basis\u001B[0m\u001B[0;34m[\u001B[0m\u001B[0mqarg\u001B[0m\u001B[0;34m]\u001B[0m\u001B[0;34m,\u001B[0m \u001B[0mdag\u001B[0m\u001B[0;34m)\u001B[0m\u001B[0;34m\u001B[0m\u001B[0;34m\u001B[0m\u001B[0m\n",
      "\u001B[0;32m~/Documents/Github/terra_ouf/qiskit/transpiler/passes/basis/basis_translator.py\u001B[0m in \u001B[0;36m_compose_transforms\u001B[0;34m(basis_transforms, source_basis, source_dag)\u001B[0m\n\u001B[1;32m    501\u001B[0m         \u001B[0mplaceholder_gate\u001B[0m\u001B[0;34m.\u001B[0m\u001B[0mparams\u001B[0m \u001B[0;34m=\u001B[0m \u001B[0mlist\u001B[0m\u001B[0;34m(\u001B[0m\u001B[0mplaceholder_params\u001B[0m\u001B[0;34m)\u001B[0m\u001B[0;34m\u001B[0m\u001B[0;34m\u001B[0m\u001B[0m\n\u001B[1;32m    502\u001B[0m \u001B[0;34m\u001B[0m\u001B[0m\n\u001B[0;32m--> 503\u001B[0;31m         \u001B[0mdag\u001B[0m \u001B[0;34m=\u001B[0m \u001B[0mDAGCircuit\u001B[0m\u001B[0;34m(\u001B[0m\u001B[0;34m)\u001B[0m\u001B[0;34m\u001B[0m\u001B[0;34m\u001B[0m\u001B[0m\n\u001B[0m\u001B[1;32m    504\u001B[0m         \u001B[0mqr\u001B[0m \u001B[0;34m=\u001B[0m \u001B[0mQuantumRegister\u001B[0m\u001B[0;34m(\u001B[0m\u001B[0mgate_num_qubits\u001B[0m\u001B[0;34m)\u001B[0m\u001B[0;34m\u001B[0m\u001B[0;34m\u001B[0m\u001B[0m\n\u001B[1;32m    505\u001B[0m         \u001B[0mdag\u001B[0m\u001B[0;34m.\u001B[0m\u001B[0madd_qreg\u001B[0m\u001B[0;34m(\u001B[0m\u001B[0mqr\u001B[0m\u001B[0;34m)\u001B[0m\u001B[0;34m\u001B[0m\u001B[0;34m\u001B[0m\u001B[0m\n",
      "\u001B[0;32m~/Documents/Github/terra_ouf/qiskit/dagcircuit/dagcircuit.py\u001B[0m in \u001B[0;36m__init__\u001B[0;34m(self)\u001B[0m\n\u001B[1;32m     77\u001B[0m         \u001B[0;31m# Edges carry wire labels (reg,idx) and each operation has\u001B[0m\u001B[0;34m\u001B[0m\u001B[0;34m\u001B[0m\u001B[0m\n\u001B[1;32m     78\u001B[0m         \u001B[0;31m# corresponding in- and out-edges with the same wire labels.\u001B[0m\u001B[0;34m\u001B[0m\u001B[0;34m\u001B[0m\u001B[0m\n\u001B[0;32m---> 79\u001B[0;31m         \u001B[0mself\u001B[0m\u001B[0;34m.\u001B[0m\u001B[0m_multi_graph\u001B[0m \u001B[0;34m=\u001B[0m \u001B[0mrx\u001B[0m\u001B[0;34m.\u001B[0m\u001B[0mPyDAG\u001B[0m\u001B[0;34m(\u001B[0m\u001B[0;34m)\u001B[0m\u001B[0;34m\u001B[0m\u001B[0;34m\u001B[0m\u001B[0m\n\u001B[0m\u001B[1;32m     80\u001B[0m \u001B[0;34m\u001B[0m\u001B[0m\n\u001B[1;32m     81\u001B[0m         \u001B[0;31m# Map of qreg/creg name to Register object.\u001B[0m\u001B[0;34m\u001B[0m\u001B[0;34m\u001B[0m\u001B[0m\n",
      "\u001B[0;31mKeyboardInterrupt\u001B[0m: "
     ]
    }
   ],
   "source": [
    "for epoch in range(n_epochs):\n",
    "    for i, data in enumerate(dataloader):\n",
    "\n",
    "        # Adversarial ground truths\n",
    "        valid = Variable(Tensor(data.size(0), 1).fill_(1.0), requires_grad=False)\n",
    "        fake = Variable(Tensor(data.size(0), 1).fill_(0.0), requires_grad=False)\n",
    "\n",
    "        # Configure input\n",
    "        real_data = Variable(data.type(Tensor))\n",
    "        # Generate a batch of images\n",
    "        gen_data = generator()\n",
    "\n",
    "        # ---------------------\n",
    "        #  Train Discriminator\n",
    "        # ---------------------\n",
    "\n",
    "        optimizer_D.zero_grad()\n",
    "\n",
    "        # Measure discriminator's ability to classify real from generated samples\n",
    "        disc_data = discriminator(real_data)\n",
    "        real_loss = d_loss_fun(disc_data, valid)\n",
    "        fake_loss = d_loss_fun(discriminator(gen_data), fake)  # (discriminator(gen_data).detach(), fake)\n",
    "        d_loss = (real_loss + fake_loss) / 2\n",
    "\n",
    "        d_loss.backward(retain_graph=True)\n",
    "        optimizer_D.step()\n",
    "\n",
    "        # -----------------\n",
    "        #  Train Generator\n",
    "        # -----------------\n",
    "\n",
    "        optimizer_G.zero_grad()\n",
    "\n",
    "        # # Loss measures generator's ability to fool the discriminator\n",
    "        g_loss = g_loss_fun(discriminator(gen_data), valid)\n",
    "        g_loss.retain_grad = True\n",
    "        g_loss_grad = g_loss_fun_grad(qnn, ansatz.ordered_parameters, generator.weight.data.numpy(), discriminator)\n",
    "        g_loss.backward(retain_graph=True)\n",
    "        for j, param in enumerate(generator.parameters()):\n",
    "            param.grad = g_loss_grad\n",
    "        optimizer_G.step()\n",
    "\n",
    "\n",
    "        print(\n",
    "            \"[Epoch %d/%d] [Batch %d/%d] [D loss: %f] [G loss: %f]\"\n",
    "            % (epoch, n_epochs, i, len(dataloader), d_loss.item(), g_loss.item())\n",
    "        )\n",
    "\n",
    "        batches_done = epoch * len(dataloader) + i\n",
    "        # if batches_done % optimizer_G.sample_interval == 0:\n",
    "        #     #TODO: Do something like storing, printing or relative entropy evaluation\n",
    "        #     pass"
   ]
  },
  {
   "cell_type": "code",
   "execution_count": null,
   "metadata": {
    "pycharm": {
     "name": "#%%\n"
    }
   },
   "outputs": [],
   "source": []
  },
  {
   "cell_type": "markdown",
   "source": [
    "Alternative approach\n",
    "class LegendrePolynomial3(torch.autograd.Function):\n",
    "    \"\"\"\n",
    "    We can implement our own custom autograd Functions by subclassing\n",
    "    torch.autograd.Function and implementing the forward and backward passes\n",
    "    which operate on Tensors.\n",
    "    \"\"\"\n",
    "\n",
    "    @staticmethod\n",
    "    def forward(ctx, input):\n",
    "        \"\"\"\n",
    "        In the forward pass we receive a Tensor containing the input and return\n",
    "        a Tensor containing the output. ctx is a context object that can be used\n",
    "        to stash information for backward computation. You can cache arbitrary\n",
    "        objects for use in the backward pass using the ctx.save_for_backward method.\n",
    "        \"\"\"\n",
    "        ctx.save_for_backward(input)\n",
    "        return 0.5 * (5 * input ** 3 - 3 * input)\n",
    "\n",
    "    @staticmethod\n",
    "    def backward(ctx, grad_output):\n",
    "        \"\"\"\n",
    "        In the backward pass we receive a Tensor containing the gradient of the loss\n",
    "        with respect to the output, and we need to compute the gradient of the loss\n",
    "        with respect to the input.\n",
    "        \"\"\"\n",
    "        input, = ctx.saved_tensors\n",
    "        return grad_output * 1.5 * (5 * input ** 2 - 1)"
   ],
   "metadata": {
    "collapsed": false,
    "pycharm": {
     "name": "#%% md\n"
    }
   }
  }
 ],
 "metadata": {
  "kernelspec": {
   "display_name": "QiskitDevenv",
   "language": "python",
   "name": "qiskitdevenv"
  },
  "language_info": {
   "codemirror_mode": {
    "name": "ipython",
    "version": 3
   },
   "file_extension": ".py",
   "mimetype": "text/x-python",
   "name": "python",
   "nbconvert_exporter": "python",
   "pygments_lexer": "ipython3",
   "version": "3.7.3"
  }
 },
 "nbformat": 4,
 "nbformat_minor": 1
}