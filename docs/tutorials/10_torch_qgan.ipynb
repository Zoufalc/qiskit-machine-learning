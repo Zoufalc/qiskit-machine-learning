{
 "cells": [
  {
   "cell_type": "markdown",
   "metadata": {
    "collapsed": true,
    "pycharm": {
     "name": "#%% md\n"
    }
   },
   "source": [
    "# PyTorch qGAN Implementation"
   ]
  },
  {
   "cell_type": "markdown",
   "metadata": {
    "pycharm": {
     "name": "#%% md\n"
    }
   },
   "source": [
    "Description\n",
    "\n",
    "adapted from [PyTorch GAN](https://github.com/eriklindernoren/PyTorch-GAN/blob/master/implementations/gan/gan.py)"
   ]
  },
  {
   "cell_type": "code",
   "execution_count": 79,
   "metadata": {
    "pycharm": {
     "name": "#%%\n"
    }
   },
   "outputs": [],
   "source": [
    "# Necessary imports\n",
    "\n",
    "import numpy as np\n",
    "from typing import Union, List, Optional, Iterable\n",
    "\n",
    "from torch import Tensor, stack, reshape\n",
    "from torch.utils.data import DataLoader\n",
    "from torch.autograd import Variable\n",
    "from torch.optim import Adam\n",
    "import torch.nn as nn\n",
    "import torch.nn.functional as F\n",
    "\n",
    "\n",
    "from qiskit import Aer, QuantumCircuit\n",
    "from qiskit.utils import QuantumInstance, algorithm_globals\n",
    "from qiskit.opflow import Gradient, StateFn\n",
    "from qiskit.circuit.library import TwoLocal\n",
    "from qiskit.circuit import ParameterExpression, ParameterVector\n",
    "from qiskit_machine_learning.neural_networks import CircuitQNN\n",
    "from qiskit_machine_learning.connectors import TorchConnector\n",
    "from qiskit_machine_learning.datasets.dataset_helper import discretize_and_truncate\n",
    "\n",
    "# Set seed for random generators\n",
    "algorithm_globals.random_seed = 42"
   ]
  },
  {
   "cell_type": "markdown",
   "metadata": {
    "pycharm": {
     "name": "#%% md\n"
    }
   },
   "source": [
    "### Load training data\n",
    "\n",
    "For testing purposes, we decide for a 2D multivariate normal distribution.\n",
    "Each dimension is represented by 2 qubits."
   ]
  },
  {
   "cell_type": "code",
   "execution_count": 80,
   "outputs": [],
   "source": [
    "data_dim = [2, 2]\n",
    "\n",
    "training_data = np.random.default_rng().multivariate_normal(mean=[0., 0.], cov=[[1, 0], [0, 1]], size=1000, check_valid='warn',\n",
    "                                                        tol=1e-8, method='svd')\n",
    "# Define minimal and maximal values for the training data\n",
    "bounds_min = np.percentile(training_data, 5, axis=0)\n",
    "bounds_max = np.percentile(training_data, 95, axis=0)\n",
    "bounds = []\n",
    "for i, _ in enumerate(bounds_min):\n",
    "    bounds.append([bounds_min[i], bounds_max[i]])\n",
    "\n",
    "# Pre-processing, i.e., gridding\n",
    "(training_data,\n",
    "data_grid,\n",
    "grid_elements,\n",
    "prob_data ) = discretize_and_truncate(\n",
    "training_data,\n",
    "np.array(bounds),\n",
    "data_dim,\n",
    "return_data_grid_elements=True,\n",
    "return_prob=True,\n",
    "prob_non_zero=True,\n",
    ")\n",
    "\n",
    "# Define the training batch size\n",
    "batch_size = 100\n",
    "dataloader = DataLoader(training_data, batch_size=batch_size, shuffle=True, drop_last=True)"
   ],
   "metadata": {
    "collapsed": false,
    "pycharm": {
     "name": "#%%\n"
    }
   }
  },
  {
   "cell_type": "markdown",
   "source": [
    "### Specify Backend"
   ],
   "metadata": {
    "collapsed": false,
    "pycharm": {
     "name": "#%% md\n"
    }
   }
  },
  {
   "cell_type": "code",
   "execution_count": 81,
   "outputs": [],
   "source": [
    "# declare quantum instance\n",
    "backend = Aer.get_backend('aer_simulator')\n",
    "qi = QuantumInstance(backend, shots = batch_size)"
   ],
   "metadata": {
    "collapsed": false,
    "pycharm": {
     "name": "#%%\n"
    }
   }
  },
  {
   "cell_type": "markdown",
   "metadata": {
    "pycharm": {
     "name": "#%% md\n"
    }
   },
   "source": [
    "### Definition of quantum generator and the respective gradient"
   ]
  },
  {
   "cell_type": "code",
   "execution_count": 82,
   "metadata": {
    "pycharm": {
     "name": "#%%\n"
    }
   },
   "outputs": [],
   "source": [
    "def generator_(qnn: QuantumCircuit,\n",
    "               parameters: Union[ParameterVector, ParameterExpression, List[ParameterExpression]]) -> TorchConnector:\n",
    "    \"\"\"\n",
    "    Args:\n",
    "        qnn: Quantum neural network ansatz given as a quantum circuit.\n",
    "        parameters: The parameters of the quantum neural network which are trained.\n",
    "    Returns:\n",
    "        Quantum neural network compatible with PyTorch\n",
    "    \"\"\"\n",
    "    circuit_qnn = CircuitQNN(qnn, input_params=[], weight_params = parameters,\n",
    "                             quantum_instance=qi, sampling=True, sparse=False,\n",
    "                             input_gradients=True, interpret=lambda x: grid_elements[x])\n",
    "    # We use the Qiskit TorchConnector to ensure compatibility with PyTorch\n",
    "    return TorchConnector(circuit_qnn)\n",
    "\n",
    "def generator_grad(qnn: QuantumCircuit,\n",
    "                   parameters: Union[ParameterVector, ParameterExpression, List[ParameterExpression]],\n",
    "                   param_values: Iterable,\n",
    "                   grad_method: str = 'param_shift') -> Iterable:\n",
    "    \"\"\"\n",
    "    Args:\n",
    "        qnn: Quantum neural network ansatz given as a quantum circuit.\n",
    "        parameters: The parameters of the quantum neural network which are trained.\n",
    "        param_values: The current values of the quantum neural network parameters.\n",
    "        grad_method: Method used to compute the gradients {'param_shift', 'lin_comb', 'fin_diff'}\n",
    "    Returns:\n",
    "        List of gradients for the sampling probabilities of the quantum neural network.\n",
    "    \"\"\"\n",
    "    grad = Gradient(grad_method=grad_method).gradient_wrapper(StateFn(qnn), parameters, backend=qi)\n",
    "    grad_values = grad(param_values)\n",
    "    return grad_values.tolist()"
   ]
  },
  {
   "cell_type": "markdown",
   "metadata": {
    "pycharm": {
     "name": "#%% md\n"
    }
   },
   "source": [
    "### Definition of classical discriminator"
   ]
  },
  {
   "cell_type": "code",
   "execution_count": 83,
   "metadata": {
    "pycharm": {
     "name": "#%%\n"
    }
   },
   "outputs": [],
   "source": [
    "class Discriminator(nn.Module):\n",
    "    def __init__(self):\n",
    "        super(Discriminator, self).__init__()\n",
    "\n",
    "        self.Linear_in = nn.Linear(len(data_dim), 51)\n",
    "        self.Leaky_ReLU = nn.LeakyReLU(0.2, inplace=True)\n",
    "        self.Linear51 = nn.Linear(51, 26)\n",
    "        self.Linear26 = nn.Linear(26, 1)\n",
    "        self.Sigmoid = nn.Sigmoid()\n",
    "\n",
    "    def forward(self, input):\n",
    "        x = self.Linear_in(input)\n",
    "        x = self.Leaky_ReLU(x)\n",
    "        x = self.Linear51(x)\n",
    "        x = self.Leaky_ReLU(x)\n",
    "        x = self.Linear26(x)\n",
    "        x = self.Sigmoid(x)\n",
    "        return x"
   ]
  },
  {
   "cell_type": "markdown",
   "source": [
    "### Definition of the quantum neural network ansatz"
   ],
   "metadata": {
    "collapsed": false,
    "pycharm": {
     "name": "#%% md\n"
    }
   }
  },
  {
   "cell_type": "code",
   "execution_count": 84,
   "outputs": [],
   "source": [
    "qnn = QuantumCircuit(sum(data_dim))\n",
    "qnn.h(qnn.qubits)\n",
    "ansatz = TwoLocal(sum(data_dim), \"ry\", \"cz\", reps=2, entanglement=\"circular\")\n",
    "qnn.compose(ansatz, inplace=True)"
   ],
   "metadata": {
    "collapsed": false,
    "pycharm": {
     "name": "#%%\n"
    }
   }
  },
  {
   "cell_type": "markdown",
   "metadata": {
    "pycharm": {
     "name": "#%% md\n"
    }
   },
   "source": [
    "### Definition of the loss functions"
   ]
  },
  {
   "cell_type": "code",
   "execution_count": 85,
   "outputs": [],
   "source": [
    "# Loss function\n",
    "g_loss_fun = nn.BCELoss()\n",
    "d_loss_fun = nn.BCELoss()"
   ],
   "metadata": {
    "collapsed": false,
    "pycharm": {
     "name": "#%%\n"
    }
   }
  },
  {
   "cell_type": "markdown",
   "source": [
    "### Evaluation of custom gradients for the generator BCE loss function"
   ],
   "metadata": {
    "collapsed": false,
    "pycharm": {
     "name": "#%% md\n"
    }
   }
  },
  {
   "cell_type": "code",
   "execution_count": 86,
   "outputs": [],
   "source": [
    "def g_loss_fun_grad(qnn: QuantumCircuit,\n",
    "                    parameters: Union[ParameterVector, ParameterExpression, List[ParameterExpression]],\n",
    "                    param_values: Iterable,\n",
    "                    discriminator_: nn.Module,\n",
    "                    grad_method: str = 'param_shift') -> Iterable:\n",
    "    \"\"\"\n",
    "    Args:\n",
    "        qnn: Quantum neural network ansatz given as a quantum circuit.\n",
    "        parameters: The parameters of the quantum neural network which are trained.\n",
    "        param_values: The current values of the quantum neural network parameters.\n",
    "        discriminator_: Classical neural network representing the discriminator.\n",
    "        grad_method: Method used to compute the gradients {'param_shift', 'lin_comb', 'fin_diff'}\n",
    "    Returns:\n",
    "        List of gradient values, i.e., the gradients of the loss function w.r.t. the quantum neural network parameters\n",
    "    \"\"\"\n",
    "    grads = generator_grad(qnn, parameters, param_values, grad_method = 'param_shift')\n",
    "    loss_grad = ()\n",
    "    for j, grad in enumerate(grads):\n",
    "        cx = grad[0].tocoo()\n",
    "        input = []\n",
    "        target = []\n",
    "        weight = []\n",
    "        for index, prob_grad in zip(cx.col, cx.data):\n",
    "            input.append(grid_elements[index])\n",
    "            target.append([1.])\n",
    "            weight.append([prob_grad])\n",
    "        bce_loss_grad = F.binary_cross_entropy(discriminator_(Tensor(input)), Tensor(target), weight=Tensor(weight))\n",
    "        loss_grad += (bce_loss_grad, )\n",
    "    loss_grad = stack(loss_grad)\n",
    "    return loss_grad"
   ],
   "metadata": {
    "collapsed": false,
    "pycharm": {
     "name": "#%%\n"
    }
   }
  },
  {
   "cell_type": "markdown",
   "source": [
    "Alternative approach\n",
    "class LegendrePolynomial3(torch.autograd.Function):\n",
    "    \"\"\"\n",
    "    We can implement our own custom autograd Functions by subclassing\n",
    "    torch.autograd.Function and implementing the forward and backward passes\n",
    "    which operate on Tensors.\n",
    "    \"\"\"\n",
    "\n",
    "    @staticmethod\n",
    "    def forward(ctx, input):\n",
    "        \"\"\"\n",
    "        In the forward pass we receive a Tensor containing the input and return\n",
    "        a Tensor containing the output. ctx is a context object that can be used\n",
    "        to stash information for backward computation. You can cache arbitrary\n",
    "        objects for use in the backward pass using the ctx.save_for_backward method.\n",
    "        \"\"\"\n",
    "        ctx.save_for_backward(input)\n",
    "        return 0.5 * (5 * input ** 3 - 3 * input)\n",
    "\n",
    "    @staticmethod\n",
    "    def backward(ctx, grad_output):\n",
    "        \"\"\"\n",
    "        In the backward pass we receive a Tensor containing the gradient of the loss\n",
    "        with respect to the output, and we need to compute the gradient of the loss\n",
    "        with respect to the input.\n",
    "        \"\"\"\n",
    "        input, = ctx.saved_tensors\n",
    "        return grad_output * 1.5 * (5 * input ** 2 - 1)"
   ],
   "metadata": {
    "collapsed": false,
    "pycharm": {
     "name": "#%% md\n"
    }
   }
  },
  {
   "cell_type": "markdown",
   "source": [
    "### Definition of the optimizers"
   ],
   "metadata": {
    "collapsed": false,
    "pycharm": {
     "name": "#%% md\n"
    }
   }
  },
  {
   "cell_type": "code",
   "execution_count": 87,
   "metadata": {
    "pycharm": {
     "name": "#%%\n"
    }
   },
   "outputs": [],
   "source": [
    "# Initialize generator and discriminator\n",
    "generator = generator_(qnn, ansatz.ordered_parameters)\n",
    "discriminator = Discriminator()\n",
    "\n",
    "lr=0.0002\n",
    "b1=0.5\n",
    "b2=0.999\n",
    "n_epochs=100\n",
    "\n",
    "optimizer_G = Adam(generator.parameters(), lr=lr, betas=(b1, b2))\n",
    "optimizer_D = Adam(discriminator.parameters(), lr=lr, betas=(b1, b2))"
   ]
  },
  {
   "cell_type": "markdown",
   "metadata": {
    "pycharm": {
     "name": "#%% md\n"
    }
   },
   "source": [
    "### Training"
   ]
  },
  {
   "cell_type": "code",
   "execution_count": null,
   "metadata": {
    "pycharm": {
     "name": "#%%\n",
     "is_executing": true
    }
   },
   "outputs": [
    {
     "name": "stdout",
     "output_type": "stream",
     "text": [
      "[Epoch 0/100] [Batch 0/9] [D loss: 0.680197] [G loss: 0.675344]\n",
      "[Epoch 0/100] [Batch 1/9] [D loss: 0.679989] [G loss: 0.678040]\n",
      "[Epoch 0/100] [Batch 2/9] [D loss: 0.680121] [G loss: 0.676722]\n",
      "[Epoch 0/100] [Batch 3/9] [D loss: 0.675921] [G loss: 0.691480]\n",
      "[Epoch 0/100] [Batch 4/9] [D loss: 0.682267] [G loss: 0.679680]\n",
      "[Epoch 0/100] [Batch 5/9] [D loss: 0.682940] [G loss: 0.681878]\n",
      "[Epoch 0/100] [Batch 6/9] [D loss: 0.677591] [G loss: 0.688481]\n",
      "[Epoch 0/100] [Batch 7/9] [D loss: 0.678269] [G loss: 0.691660]\n",
      "[Epoch 0/100] [Batch 8/9] [D loss: 0.672229] [G loss: 0.699927]\n",
      "[Epoch 1/100] [Batch 0/9] [D loss: 0.677031] [G loss: 0.693510]\n",
      "[Epoch 1/100] [Batch 1/9] [D loss: 0.678164] [G loss: 0.693995]\n",
      "[Epoch 1/100] [Batch 2/9] [D loss: 0.679403] [G loss: 0.698565]\n",
      "[Epoch 1/100] [Batch 3/9] [D loss: 0.673747] [G loss: 0.697890]\n",
      "[Epoch 1/100] [Batch 4/9] [D loss: 0.673697] [G loss: 0.698857]\n",
      "[Epoch 1/100] [Batch 5/9] [D loss: 0.672515] [G loss: 0.709275]\n",
      "[Epoch 1/100] [Batch 6/9] [D loss: 0.671669] [G loss: 0.709269]\n",
      "[Epoch 1/100] [Batch 7/9] [D loss: 0.671714] [G loss: 0.711143]\n",
      "[Epoch 1/100] [Batch 8/9] [D loss: 0.675091] [G loss: 0.704294]\n",
      "[Epoch 2/100] [Batch 0/9] [D loss: 0.671467] [G loss: 0.712734]\n",
      "[Epoch 2/100] [Batch 1/9] [D loss: 0.668970] [G loss: 0.717740]\n",
      "[Epoch 2/100] [Batch 2/9] [D loss: 0.671908] [G loss: 0.716386]\n",
      "[Epoch 2/100] [Batch 3/9] [D loss: 0.670603] [G loss: 0.717417]\n",
      "[Epoch 2/100] [Batch 4/9] [D loss: 0.666720] [G loss: 0.730686]\n",
      "[Epoch 2/100] [Batch 5/9] [D loss: 0.669244] [G loss: 0.719568]\n",
      "[Epoch 2/100] [Batch 6/9] [D loss: 0.670802] [G loss: 0.721272]\n",
      "[Epoch 2/100] [Batch 7/9] [D loss: 0.659808] [G loss: 0.743849]\n",
      "[Epoch 2/100] [Batch 8/9] [D loss: 0.672327] [G loss: 0.734351]\n",
      "[Epoch 3/100] [Batch 0/9] [D loss: 0.667484] [G loss: 0.738633]\n",
      "[Epoch 3/100] [Batch 1/9] [D loss: 0.667212] [G loss: 0.724432]\n",
      "[Epoch 3/100] [Batch 2/9] [D loss: 0.660104] [G loss: 0.743068]\n",
      "[Epoch 3/100] [Batch 3/9] [D loss: 0.669540] [G loss: 0.734348]\n",
      "[Epoch 3/100] [Batch 4/9] [D loss: 0.665656] [G loss: 0.746437]\n",
      "[Epoch 3/100] [Batch 5/9] [D loss: 0.648190] [G loss: 0.764972]\n",
      "[Epoch 3/100] [Batch 6/9] [D loss: 0.668329] [G loss: 0.740669]\n",
      "[Epoch 3/100] [Batch 7/9] [D loss: 0.671526] [G loss: 0.738095]\n",
      "[Epoch 3/100] [Batch 8/9] [D loss: 0.663128] [G loss: 0.750169]\n",
      "[Epoch 4/100] [Batch 0/9] [D loss: 0.670251] [G loss: 0.726926]\n",
      "[Epoch 4/100] [Batch 1/9] [D loss: 0.663600] [G loss: 0.754724]\n",
      "[Epoch 4/100] [Batch 2/9] [D loss: 0.671488] [G loss: 0.750005]\n",
      "[Epoch 4/100] [Batch 3/9] [D loss: 0.663660] [G loss: 0.744941]\n",
      "[Epoch 4/100] [Batch 4/9] [D loss: 0.663891] [G loss: 0.759216]\n",
      "[Epoch 4/100] [Batch 5/9] [D loss: 0.664500] [G loss: 0.743282]\n",
      "[Epoch 4/100] [Batch 6/9] [D loss: 0.662686] [G loss: 0.750582]\n",
      "[Epoch 4/100] [Batch 7/9] [D loss: 0.654302] [G loss: 0.761057]\n",
      "[Epoch 4/100] [Batch 8/9] [D loss: 0.657032] [G loss: 0.766172]\n",
      "[Epoch 5/100] [Batch 0/9] [D loss: 0.666529] [G loss: 0.748701]\n"
     ]
    }
   ],
   "source": [
    "for epoch in range(n_epochs):\n",
    "    for i, data in enumerate(dataloader):\n",
    "\n",
    "        # Adversarial ground truths\n",
    "        valid = Variable(Tensor(data.size(0), 1).fill_(1.0), requires_grad=False)\n",
    "        fake = Variable(Tensor(data.size(0), 1).fill_(0.0), requires_grad=False)\n",
    "\n",
    "        # Configure input\n",
    "        real_data = Variable(data.type(Tensor))\n",
    "        # Generate a batch of images\n",
    "        gen_data = generator()\n",
    "\n",
    "        # ---------------------\n",
    "        #  Train Discriminator\n",
    "        # ---------------------\n",
    "\n",
    "        optimizer_D.zero_grad()\n",
    "\n",
    "        # Measure discriminator's ability to classify real from generated samples\n",
    "        disc_data = discriminator(real_data)\n",
    "        real_loss = d_loss_fun(disc_data, valid)\n",
    "        fake_loss = d_loss_fun(discriminator(gen_data), fake)  # (discriminator(gen_data).detach(), fake)\n",
    "        d_loss = (real_loss + fake_loss) / 2\n",
    "\n",
    "        d_loss.backward(retain_graph=True)\n",
    "        optimizer_D.step()\n",
    "\n",
    "        # -----------------\n",
    "        #  Train Generator\n",
    "        # -----------------\n",
    "\n",
    "        optimizer_G.zero_grad()\n",
    "\n",
    "        # # Loss measures generator's ability to fool the discriminator\n",
    "        g_loss = g_loss_fun(discriminator(gen_data), valid)\n",
    "        g_loss.retain_grad = True\n",
    "        g_loss_grad = g_loss_fun_grad(qnn, ansatz.ordered_parameters, generator.weight.data.numpy(), discriminator)\n",
    "        g_loss.backward(retain_graph=True)\n",
    "        for j, param in enumerate(generator.parameters()):\n",
    "            param.grad = g_loss_grad\n",
    "        optimizer_G.step()\n",
    "\n",
    "\n",
    "        print(\n",
    "            \"[Epoch %d/%d] [Batch %d/%d] [D loss: %f] [G loss: %f]\"\n",
    "            % (epoch, n_epochs, i, len(dataloader), d_loss.item(), g_loss.item())\n",
    "        )\n",
    "\n",
    "        batches_done = epoch * len(dataloader) + i\n",
    "        # if batches_done % optimizer_G.sample_interval == 0:\n",
    "        #     #TODO: Do something like storing, printing or relative entropy evaluation\n",
    "        #     pass"
   ]
  },
  {
   "cell_type": "markdown",
   "metadata": {
    "pycharm": {
     "name": "#%% md\n"
    }
   },
   "source": [
    "### Open Questions\n",
    "\n",
    "- Why do we want to support a sparse representation? The output of the quantum generator needs to have the same dimension as the input of the classical discriminator. If the dimensions are larger than what a classical representation can handle then we anyways have a problem."
   ]
  },
  {
   "cell_type": "code",
   "execution_count": null,
   "metadata": {
    "pycharm": {
     "name": "#%%\n"
    }
   },
   "outputs": [],
   "source": []
  }
 ],
 "metadata": {
  "kernelspec": {
   "display_name": "QiskitDevenv",
   "language": "python",
   "name": "qiskitdevenv"
  },
  "language_info": {
   "codemirror_mode": {
    "name": "ipython",
    "version": 3
   },
   "file_extension": ".py",
   "mimetype": "text/x-python",
   "name": "python",
   "nbconvert_exporter": "python",
   "pygments_lexer": "ipython3",
   "version": "3.7.3"
  }
 },
 "nbformat": 4,
 "nbformat_minor": 1
}