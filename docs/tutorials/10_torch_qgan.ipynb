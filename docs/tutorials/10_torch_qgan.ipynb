{
 "cells": [
  {
   "cell_type": "markdown",
   "metadata": {
    "collapsed": true,
    "pycharm": {
     "name": "#%% md\n"
    }
   },
   "source": [
    "# PyTorch qGAN Implementation"
   ]
  },
  {
   "cell_type": "markdown",
   "source": [
    "### Description\n",
    "A PyTorch-based Quantum Generative Adversarial Network algorithm.\n",
    "\n",
    "The qGAN \\[1\\] is a hybrid quantum-classical algorithm used for generative modeling tasks. The algorithm uses the interplay of a quantum generator $G_{\\theta}$, i.e., an ansatz, and a classical discriminator $D_{\\phi}$, a neural network. to learn the probability distribution underlying given training data.\n",
    "\n",
    "The generator and discriminator are trained in alternating optimization steps, where the generator aims at generating samples which the discriminator classifies as training data samples and the discriminator tries to differentiate between training data samples and data samples from the generator. The final goal is for the quantum generator to learn a representation for the training data's underlying probability distribution.\n",
    "The trained quantum generator can, thus, be used to load a quantum state which is an approximate model of the target distribution.\n",
    "\n",
    "**References:**\n",
    "\n",
    "\\[1\\] Zoufal et al., [Quantum Generative Adversarial Networks for learning and loading random distributions](https://www.nature.com/articles/s41534-019-0223-2)"
   ],
   "metadata": {
    "collapsed": false,
    "pycharm": {
     "name": "#%% md\n"
    }
   }
  },
  {
   "cell_type": "markdown",
   "source": [
    "### Application: qGANs for Loading Random Distributions\n",
    "\n",
    "Given $k$-dimensional data samples, we employ a quantum Generative Adversarial Network (qGAN) to learn the data's underlying random distribution and to load it directly into a quantum state:\n",
    "\n",
    "$$ \\big| g_{\\theta}\\rangle = \\sum_{j=0}^{2^n-1} \\sqrt{p_{\\theta}^{j}}\\big| j \\rangle $$\n",
    "\n",
    "where $p_{\\theta}^{j}$ describe the occurrence probabilities of the basis states $\\big| j\\rangle$.\n",
    "\n",
    "The aim of the qGAN training is to generate a state $\\big| g_{\\theta}\\rangle$ where $p_{\\theta}^{j}$, for $j\\in \\left\\{0, \\ldots, {2^n-1} \\right\\}$, describe a probability distribution that is close to the distribution underlying the training data $X=\\left\\{x^0, \\ldots, x^{k-1} \\right\\}$.\n",
    "\n",
    "For further details please refer to [Quantum Generative Adversarial Networks for Learning and Loading Random Distributions](https://arxiv.org/abs/1904.00043) _Zoufal, Lucchi, Woerner_ \\[2019\\].\n",
    "\n",
    "For an example of how to use a trained qGAN in an application, the pricing of financial derivatives, please see the\n",
    "[Option Pricing with qGANs](https://github.com/Qiskit/qiskit-finance/tree/main/docs/tutorials/10_qgan_option_pricing.ipynb) tutorial."
   ],
   "metadata": {
    "collapsed": false,
    "pycharm": {
     "name": "#%% md\n"
    }
   }
  },
  {
   "cell_type": "code",
   "execution_count": 31,
   "outputs": [],
   "source": [
    "from typing import Union, List, Iterable\n",
    "\n",
    "import matplotlib.pyplot as plt\n",
    "import numpy as np\n",
    "import torch\n",
    "import torch.nn as nn\n",
    "import torch.nn.functional as F\n",
    "from qiskit import Aer, QuantumCircuit\n",
    "from qiskit.circuit import ParameterExpression, ParameterVector\n",
    "from qiskit.circuit.library import TwoLocal\n",
    "from qiskit.opflow import Gradient, StateFn\n",
    "from qiskit.utils import QuantumInstance, algorithm_globals\n",
    "from scipy.stats import entropy\n",
    "from torch.optim import Adam\n",
    "from torch.utils.data import DataLoader\n",
    "\n",
    "from qiskit_machine_learning.connectors import TorchConnector\n",
    "from qiskit_machine_learning.datasets.dataset_helper import discretize_and_truncate\n",
    "from qiskit_machine_learning.neural_networks import CircuitQNN\n",
    "\n",
    "# Set seed for random generators\n",
    "algorithm_globals.random_seed = 42\n",
    "torch.manual_seed(42)\n",
    "np.random.seed = 42"
   ],
   "metadata": {
    "collapsed": false,
    "pycharm": {
     "name": "#%%\n"
    }
   }
  },
  {
   "cell_type": "markdown",
   "source": [
    "### Data and Representation\n",
    "\n",
    "First, we need to load our training data $X$.\n",
    "\n",
    "In this tutorial, the training data is given by samples from a 2D multivariate normal distribution.\n",
    "\n",
    "The trained generator corresponds to an $n$-qubit quantum state\n",
    "\\begin{equation}\n",
    "|g_{\\text{trained}}\\rangle=\\sum\\limits_{j=0}^{k-1}\\sqrt{p_{j}}|x_{j}\\rangle,\n",
    "\\end{equation}\n",
    "where the basis states $|x_{j}\\rangle$ represent the data items in the training data set\n",
    "$X={x_0, \\ldots, x_{k-1}}$ with $k\\leq 2^n$ and $p_j$ refers to the sampling probability\n",
    "of $|x_{j}\\rangle$.\n",
    "\n",
    "To facilitate this representation, we need to map the samples from the multivariate\n",
    "normal distribution to discrete values. The number of values that can be represented\n",
    "depends on the number of qubits used for the mapping.\n",
    "Hence, the data resolution is defined by the number of qubits.\n",
    "If we use $3$ qubits to represent one feature, we have $2^3 = 8$ discrete values."
   ],
   "metadata": {
    "collapsed": false,
    "pycharm": {
     "name": "#%% md\n"
    }
   }
  },
  {
   "cell_type": "code",
   "execution_count": 32,
   "outputs": [],
   "source": [
    "# Load the training data\n",
    "training_data = np.random.default_rng().multivariate_normal(\n",
    "    mean=[0.0, 0.0], cov=[[1, 0], [0, 1]], size=1000, check_valid=\"warn\", tol=1e-8, method=\"svd\"\n",
    ")\n",
    "# Define minimal and maximal values for the training data\n",
    "bounds_min = np.percentile(training_data, 5, axis=0)\n",
    "bounds_max = np.percentile(training_data, 95, axis=0)\n",
    "bounds = []\n",
    "for i, _ in enumerate(bounds_min):\n",
    "    bounds.append([bounds_min[i], bounds_max[i]])\n",
    "\n",
    "# Determine data resolution for each dimension of the training data in terms\n",
    "# of the number of qubits used to represent each data dimension.\n",
    "data_dim = [3, 3]\n",
    "\n",
    "# Pre-processing, i.e., discretization of the data (gridding)\n",
    "(training_data, _, grid_elements, prob_data) = discretize_and_truncate(\n",
    "    training_data,\n",
    "    np.asarray(bounds),\n",
    "    data_dim,\n",
    "    return_data_grid_elements=True,\n",
    "    return_prob=True,\n",
    "    prob_non_zero=True,\n",
    ")"
   ],
   "metadata": {
    "collapsed": false,
    "pycharm": {
     "name": "#%%\n"
    }
   }
  },
  {
   "cell_type": "markdown",
   "source": [
    "We convert numpy arrays into tensors and create a data loader from our training data."
   ],
   "metadata": {
    "collapsed": false,
    "pycharm": {
     "name": "#%% md\n"
    }
   }
  },
  {
   "cell_type": "code",
   "execution_count": 33,
   "outputs": [],
   "source": [
    "training_data = torch.tensor(training_data, dtype=torch.float)\n",
    "grid_elements = torch.tensor(grid_elements, dtype=torch.float)\n",
    "\n",
    "# Define the training batch size\n",
    "batch_size = 300\n",
    "dataloader = DataLoader(training_data, batch_size=batch_size, shuffle=True, drop_last=True)"
   ],
   "metadata": {
    "collapsed": false,
    "pycharm": {
     "name": "#%%\n"
    }
   }
  },
  {
   "cell_type": "markdown",
   "source": [
    "### Specify Backend\n",
    "Next, we need to choose a backend that is used to run the quantum generator.\n",
    "The presented method is compatible with all shot-based backends (qasm, fake hardware, real hardware) provided by Qiskit."
   ],
   "metadata": {
    "collapsed": false,
    "pycharm": {
     "name": "#%% md\n"
    }
   }
  },
  {
   "cell_type": "code",
   "execution_count": 34,
   "outputs": [],
   "source": [
    "backend = Aer.get_backend(\"aer_simulator\")\n",
    "#Quantum Instance for the training where the batch size defines the number of shots\n",
    "qi = QuantumInstance(backend, shots=batch_size)\n",
    "#Quantum Instance for the evaluation we choose a higher number of shots to get better insights\n",
    "qi_sampling = QuantumInstance(backend, shots=10000)"
   ],
   "metadata": {
    "collapsed": false,
    "pycharm": {
     "name": "#%%\n"
    }
   }
  },
  {
   "cell_type": "markdown",
   "source": [
    "### Initialization of quantum generator and the respective gradient\n",
    "Next, we define factories that create the quantum generator and a function that calculates the gradients for the quantum generator.\n",
    "Depending on the backend, the latter may be returned in a sparse format. Since PyTorch does not support sparse gradients, we need to write a custom function for gradient based training.\n"
   ],
   "metadata": {
    "collapsed": false,
    "pycharm": {
     "name": "#%% md\n"
    }
   }
  },
  {
   "cell_type": "code",
   "execution_count": 35,
   "outputs": [],
   "source": [
    "def create_generator(\n",
    "    qnn: QuantumCircuit,\n",
    "    parameters: Union[ParameterVector, ParameterExpression, List[ParameterExpression]],\n",
    "    qinstance: QuantumInstance\n",
    ") -> TorchConnector:\n",
    "    \"\"\"\n",
    "    Factory to create the quantum generator from a given parameterized quantum circuit.\n",
    "    Args:\n",
    "        qnn: Quantum neural network ansatz given as a quantum circuit.\n",
    "        parameters: The parameters of the quantum neural network which are trained.\n",
    "        qinstance: The quantum instance used to run the quantum generator.\n",
    "    Returns:\n",
    "        Quantum neural network compatible with PyTorch\n",
    "    \"\"\"\n",
    "    circuit_qnn = CircuitQNN(\n",
    "        qnn,\n",
    "        input_params=[],\n",
    "        weight_params=parameters,\n",
    "        quantum_instance=qinstance,\n",
    "        sampling=True,\n",
    "        sparse=False,\n",
    "        input_gradients=True,\n",
    "        interpret=lambda x: grid_elements[x],\n",
    "    )\n",
    "    # We use the Qiskit TorchConnector to ensure compatibility with PyTorch\n",
    "    return TorchConnector(circuit_qnn)\n",
    "\n",
    "\n",
    "def generator_grad(\n",
    "    qnn: QuantumCircuit,\n",
    "    parameters: Union[ParameterVector, ParameterExpression, List[ParameterExpression]],\n",
    "    param_values: Iterable,\n",
    ") -> Iterable:\n",
    "    \"\"\"\n",
    "    The function returns the gradient values for the quantum generator given the\n",
    "    underlying parameterized quantum circuit.\n",
    "    Args:\n",
    "        qnn: Quantum neural network ansatz given as a quantum circuit.\n",
    "        parameters: The parameters of the quantum neural network which are trained.\n",
    "        param_values: The current values of the quantum neural network parameters.\n",
    "    Returns:\n",
    "        List of gradients for the sampling probabilities of the quantum neural network.\n",
    "    \"\"\"\n",
    "    grad = Gradient().gradient_wrapper(StateFn(qnn), parameters, backend=qi)\n",
    "    grad_values = grad(param_values)\n",
    "    return grad_values.tolist()"
   ],
   "metadata": {
    "collapsed": false,
    "pycharm": {
     "name": "#%%\n"
    }
   }
  },
  {
   "cell_type": "markdown",
   "source": [
    "### Definition of classical discriminator\n",
    "Next, we define factories that create the classical discriminators. The underlying gradients can be automatically computed with PyTorch."
   ],
   "metadata": {
    "collapsed": false,
    "pycharm": {
     "name": "#%% md\n"
    }
   }
  },
  {
   "cell_type": "code",
   "execution_count": 36,
   "outputs": [],
   "source": [
    "class create_discriminator(nn.Module):\n",
    "    \"\"\"\n",
    "    Factory to create the quantum generator from a given parameterized quantum circuit.\n",
    "    \"\"\"\n",
    "\n",
    "    def __init__(self):\n",
    "        super(create_discriminator, self).__init__()\n",
    "\n",
    "        self.Linear_in = nn.Linear(len(data_dim), 20)\n",
    "        self.Leaky_ReLU = nn.LeakyReLU(0.2, inplace=True)\n",
    "        # self.Linear50 = nn.Linear(50, 20)\n",
    "        self.Linear20 = nn.Linear(20, 1)\n",
    "        self.Sigmoid = nn.Sigmoid()\n",
    "\n",
    "    def forward(self, input: torch.Tensor) -> torch.Tensor:\n",
    "        x = self.Linear_in(input)\n",
    "        x = self.Leaky_ReLU(x)\n",
    "        # x = self.Linear50(x)\n",
    "        # x = self.Leaky_ReLU(x)\n",
    "        x = self.Linear20(x)\n",
    "        x = self.Sigmoid(x)\n",
    "        return x"
   ],
   "metadata": {
    "collapsed": false,
    "pycharm": {
     "name": "#%%\n"
    }
   }
  },
  {
   "cell_type": "markdown",
   "source": [
    "### Initialize the quantum neural network ansatz\n",
    "\n",
    "Now, we are ready to define the parameterized quantum circuit $G\\left(\\boldsymbol{\\theta}\\right)$ with $\\boldsymbol{\\theta} = {\\theta_1, ..., \\theta_k}$ which corresponds to our quantum generator.\n",
    "\n",
    "To implement the quantum generator, we choose a depth-$2$ ansatz that implements $R_Y$ rotations and $CX$ gates which takes a uniform distribution as an input state. Notably, for $k>1$ the generator's parameters must be chosen carefully. For example, the circuit depth should be $>1$ because higher circuit depths enable the representation of more complex structures.\n"
   ],
   "metadata": {
    "collapsed": false,
    "pycharm": {
     "name": "#%% md\n"
    }
   }
  },
  {
   "cell_type": "code",
   "execution_count": 37,
   "outputs": [],
   "source": [
    "# sum(data_dim) corresponds to the total number of qubits in our quantum circuit (qc)\n",
    "qc = QuantumCircuit(sum(data_dim))\n",
    "qc.h(qc.qubits)\n",
    "# We choose a hardware efficient ansatz.\n",
    "twolocal = TwoLocal(sum(data_dim), \"ry\", \"cx\", reps=2, entanglement=\"sca\")\n",
    "qc.compose(twolocal, inplace=True)"
   ],
   "metadata": {
    "collapsed": false,
    "pycharm": {
     "name": "#%%\n"
    }
   }
  },
  {
   "cell_type": "markdown",
   "source": [
    "### Definition of the loss functions\n",
    "We want to train the generator and the discriminator with binary cross entropy as loss function:\n",
    "$$L\\left(\\boldsymbol{\\theta}\\right)=\\sum_jp_j\\left(\\boldsymbol{\\theta}\\right)\\left[y_j\\log(x_j) + (1-y_j)\\log(1-x_j)\\right],$$\n",
    "where $x_j$ refers to a data sample and $y_j$ to the corresponding label."
   ],
   "metadata": {
    "collapsed": false,
    "pycharm": {
     "name": "#%% md\n"
    }
   }
  },
  {
   "cell_type": "code",
   "execution_count": 38,
   "outputs": [],
   "source": [
    "# Generator loss function\n",
    "gen_loss_fun = nn.BCELoss()\n",
    "# Discriminator loss function\n",
    "disc_loss_fun = nn.BCELoss()"
   ],
   "metadata": {
    "collapsed": false,
    "pycharm": {
     "name": "#%%\n"
    }
   }
  },
  {
   "cell_type": "markdown",
   "source": [
    "### Evaluation of custom gradients for the generator BCE loss function\n",
    "The evaluation of custom gradients for the quantum generator requires us to combine quantum gradients $\\frac{\\partial p_j\\left(\\boldsymbol{\\theta}\\right)}{\\partial \\theta_l}$ that we compute with Qiskit's gradient framework with the binary cross entropy as follows:\n",
    "$$\\frac{\\partial L\\left(\\boldsymbol{\\theta}\\right)}{\\partial \\theta_l} = \\sum_j \\frac{\\partial p_j\\left(\\boldsymbol{\\theta}\\right)}{\\partial \\theta_l} \\left[y_j\\log(x_j) + (1-y_j)\\log(1-x_j)\\right].$$"
   ],
   "metadata": {
    "collapsed": false,
    "pycharm": {
     "name": "#%% md\n"
    }
   }
  },
  {
   "cell_type": "code",
   "execution_count": 39,
   "outputs": [],
   "source": [
    "def g_loss_fun_grad(\n",
    "    qnn: QuantumCircuit,\n",
    "    parameters: Union[ParameterVector, ParameterExpression, List[ParameterExpression]],\n",
    "    param_values: Iterable,\n",
    "    discriminator_: nn.Module,\n",
    ") -> Iterable:\n",
    "    \"\"\"\n",
    "    Custom gradient of the generator loss function considering the custom gradients of the quantum generator\n",
    "    Args:\n",
    "        qnn: Quantum neural network ansatz given as a quantum circuit.\n",
    "        parameters: The parameters of the quantum neural network which are trained.\n",
    "        param_values: The current values of the quantum neural network parameters.\n",
    "        discriminator_: Classical neural network representing the discriminator.\n",
    "    Returns:\n",
    "        List of gradient values, i.e., the gradients of the loss function w.r.t. the quantum neural network parameters\n",
    "    \"\"\"\n",
    "    grads = generator_grad(qnn, parameters, param_values)\n",
    "    loss_grad = ()\n",
    "    for j, grad in enumerate(grads):\n",
    "        cx = grad[0].tocoo()\n",
    "        input = torch.zeros(len(cx.col), 2)\n",
    "        target = torch.ones(len(cx.col), 1)\n",
    "        weight = torch.zeros(len(cx.col), 1)\n",
    "\n",
    "        for i, (index, prob_grad) in enumerate(zip(cx.col, cx.data)):\n",
    "            input[i, :] = grid_elements[index]\n",
    "            weight[i, :] = prob_grad\n",
    "        bce_loss_grad = F.binary_cross_entropy(discriminator_(input), target, weight)\n",
    "        loss_grad += (bce_loss_grad,)\n",
    "    loss_grad = torch.stack(loss_grad)\n",
    "    return loss_grad"
   ],
   "metadata": {
    "collapsed": false,
    "pycharm": {
     "name": "#%%\n"
    }
   }
  },
  {
   "cell_type": "markdown",
   "source": [
    "### Relative entropy as benchmarking metric\n",
    "The relative entropy describes a distance metric for distributions. Hence, we can use it to benchmark how close/far away the trained distribution is from the target distribution."
   ],
   "metadata": {
    "collapsed": false,
    "pycharm": {
     "name": "#%% md\n"
    }
   }
  },
  {
   "cell_type": "code",
   "execution_count": 40,
   "outputs": [],
   "source": [
    "def get_relative_entropy(gen_data) -> float:\n",
    "    \"\"\"Get relative entropy between target and trained distribution\"\"\"\n",
    "    prob_gen = np.zeros(len(grid_elements))\n",
    "    for j, item in enumerate(grid_elements):\n",
    "        for gen_item in gen_data.detach().numpy():\n",
    "            if np.allclose(np.round(gen_item, 6), np.round(item, 6), rtol=1e-5):\n",
    "                prob_gen[j] += 1\n",
    "    prob_gen = prob_gen / len(gen_data)\n",
    "    prob_gen = [1e-8 if x == 0 else x for x in prob_gen]\n",
    "    rel_entr = entropy(prob_gen, prob_data)\n",
    "    return rel_entr"
   ],
   "metadata": {
    "collapsed": false,
    "pycharm": {
     "name": "#%%\n"
    }
   }
  },
  {
   "cell_type": "markdown",
   "source": [
    "### Definition of the optimizers\n",
    "In order to train the generator and discriminator, we need to define optimization schemes. In the following, we employ a momentum based optimizer called Adam, see [Kingma et al., Adam: A method for stochastic optimization](https://arxiv.org/abs/1412.6980) for more details."
   ],
   "metadata": {
    "collapsed": false,
    "pycharm": {
     "name": "#%% md\n"
    }
   }
  },
  {
   "cell_type": "code",
   "execution_count": 41,
   "outputs": [],
   "source": [
    "# Initialize generator and discriminator\n",
    "generator = create_generator(qc, twolocal.parameters, qi)\n",
    "discriminator = create_discriminator()\n",
    "\n",
    "lr = 0.01  # learning rate\n",
    "b1 = 0.9  # first momentum parameter\n",
    "b2 = 0.999  # second momentum parameter\n",
    "n_epochs = 250 # number of training epochs\n",
    "\n",
    "# optimizer for the generator\n",
    "optimizer_G = Adam(generator.parameters(), lr=lr, betas=(b1, b2))\n",
    "# optimizer for the discriminator\n",
    "optimizer_D = Adam(discriminator.parameters(), lr=lr, betas=(b1, b2))"
   ],
   "metadata": {
    "collapsed": false,
    "pycharm": {
     "name": "#%%\n"
    }
   }
  },
  {
   "cell_type": "markdown",
   "source": [
    "### Training\n",
    "Now, we are ready to train our model."
   ],
   "metadata": {
    "collapsed": false,
    "pycharm": {
     "name": "#%% md\n"
    }
   }
  },
  {
   "cell_type": "code",
   "execution_count": 42,
   "outputs": [
    {
     "name": "stdout",
     "output_type": "stream",
     "text": [
      "[Epoch 0/250] [Batch 0/2] [D loss: 0.707549] [G loss: 0.642713]\n",
      "[Epoch 0/250] [Batch 1/2] [D loss: 0.691852] [G loss: 0.679640]\n",
      "[Epoch 1/250] [Batch 0/2] [D loss: 0.680458] [G loss: 0.715616]\n",
      "[Epoch 1/250] [Batch 1/2] [D loss: 0.672178] [G loss: 0.754095]\n",
      "[Epoch 2/250] [Batch 0/2] [D loss: 0.663992] [G loss: 0.795302]\n",
      "[Epoch 2/250] [Batch 1/2] [D loss: 0.648691] [G loss: 0.829096]\n",
      "[Epoch 3/250] [Batch 0/2] [D loss: 0.653749] [G loss: 0.838421]\n",
      "[Epoch 3/250] [Batch 1/2] [D loss: 0.640158] [G loss: 0.883908]\n",
      "[Epoch 4/250] [Batch 0/2] [D loss: 0.641656] [G loss: 0.894791]\n",
      "[Epoch 4/250] [Batch 1/2] [D loss: 0.647312] [G loss: 0.906208]\n",
      "[Epoch 5/250] [Batch 0/2] [D loss: 0.625796] [G loss: 0.941087]\n",
      "[Epoch 5/250] [Batch 1/2] [D loss: 0.638102] [G loss: 0.943772]\n",
      "[Epoch 6/250] [Batch 0/2] [D loss: 0.641401] [G loss: 0.898893]\n",
      "[Epoch 6/250] [Batch 1/2] [D loss: 0.663407] [G loss: 0.924461]\n",
      "[Epoch 7/250] [Batch 0/2] [D loss: 0.654768] [G loss: 0.906256]\n",
      "[Epoch 7/250] [Batch 1/2] [D loss: 0.651197] [G loss: 0.924346]\n",
      "[Epoch 8/250] [Batch 0/2] [D loss: 0.667321] [G loss: 0.875669]\n",
      "[Epoch 8/250] [Batch 1/2] [D loss: 0.670898] [G loss: 0.857313]\n",
      "[Epoch 9/250] [Batch 0/2] [D loss: 0.662977] [G loss: 0.883457]\n",
      "[Epoch 9/250] [Batch 1/2] [D loss: 0.652257] [G loss: 0.899146]\n",
      "[Epoch 10/250] [Batch 0/2] [D loss: 0.705498] [G loss: 0.800004]\n",
      "[Epoch 10/250] [Batch 1/2] [D loss: 0.665976] [G loss: 0.843050]\n",
      "[Epoch 11/250] [Batch 0/2] [D loss: 0.667359] [G loss: 0.843906]\n",
      "[Epoch 11/250] [Batch 1/2] [D loss: 0.700449] [G loss: 0.780027]\n",
      "[Epoch 12/250] [Batch 0/2] [D loss: 0.699727] [G loss: 0.761715]\n",
      "[Epoch 12/250] [Batch 1/2] [D loss: 0.682955] [G loss: 0.800209]\n",
      "[Epoch 13/250] [Batch 0/2] [D loss: 0.695834] [G loss: 0.747453]\n",
      "[Epoch 13/250] [Batch 1/2] [D loss: 0.686828] [G loss: 0.790659]\n",
      "[Epoch 14/250] [Batch 0/2] [D loss: 0.691160] [G loss: 0.722132]\n",
      "[Epoch 14/250] [Batch 1/2] [D loss: 0.702541] [G loss: 0.714275]\n",
      "[Epoch 15/250] [Batch 0/2] [D loss: 0.711524] [G loss: 0.728897]\n",
      "[Epoch 15/250] [Batch 1/2] [D loss: 0.691994] [G loss: 0.716263]\n",
      "[Epoch 16/250] [Batch 0/2] [D loss: 0.707974] [G loss: 0.702032]\n",
      "[Epoch 16/250] [Batch 1/2] [D loss: 0.701782] [G loss: 0.726992]\n",
      "[Epoch 17/250] [Batch 0/2] [D loss: 0.694647] [G loss: 0.712565]\n",
      "[Epoch 17/250] [Batch 1/2] [D loss: 0.700556] [G loss: 0.735537]\n",
      "[Epoch 18/250] [Batch 0/2] [D loss: 0.695785] [G loss: 0.733209]\n",
      "[Epoch 18/250] [Batch 1/2] [D loss: 0.685304] [G loss: 0.741757]\n",
      "[Epoch 19/250] [Batch 0/2] [D loss: 0.682268] [G loss: 0.755684]\n",
      "[Epoch 19/250] [Batch 1/2] [D loss: 0.693440] [G loss: 0.746354]\n",
      "[Epoch 20/250] [Batch 0/2] [D loss: 0.689192] [G loss: 0.747953]\n",
      "[Epoch 20/250] [Batch 1/2] [D loss: 0.679720] [G loss: 0.769773]\n",
      "[Epoch 21/250] [Batch 0/2] [D loss: 0.681966] [G loss: 0.761134]\n",
      "[Epoch 21/250] [Batch 1/2] [D loss: 0.683670] [G loss: 0.750536]\n",
      "[Epoch 22/250] [Batch 0/2] [D loss: 0.676948] [G loss: 0.760702]\n",
      "[Epoch 22/250] [Batch 1/2] [D loss: 0.677244] [G loss: 0.756801]\n",
      "[Epoch 23/250] [Batch 0/2] [D loss: 0.678063] [G loss: 0.756460]\n",
      "[Epoch 23/250] [Batch 1/2] [D loss: 0.674179] [G loss: 0.754175]\n",
      "[Epoch 24/250] [Batch 0/2] [D loss: 0.668004] [G loss: 0.768758]\n",
      "[Epoch 24/250] [Batch 1/2] [D loss: 0.683029] [G loss: 0.740656]\n",
      "[Epoch 25/250] [Batch 0/2] [D loss: 0.678423] [G loss: 0.744030]\n",
      "[Epoch 25/250] [Batch 1/2] [D loss: 0.672280] [G loss: 0.735687]\n",
      "[Epoch 26/250] [Batch 0/2] [D loss: 0.672234] [G loss: 0.744321]\n",
      "[Epoch 26/250] [Batch 1/2] [D loss: 0.665854] [G loss: 0.756176]\n",
      "[Epoch 27/250] [Batch 0/2] [D loss: 0.665772] [G loss: 0.743241]\n",
      "[Epoch 27/250] [Batch 1/2] [D loss: 0.668553] [G loss: 0.732362]\n",
      "[Epoch 28/250] [Batch 0/2] [D loss: 0.694720] [G loss: 0.700593]\n",
      "[Epoch 28/250] [Batch 1/2] [D loss: 0.682335] [G loss: 0.710622]\n",
      "[Epoch 29/250] [Batch 0/2] [D loss: 0.672811] [G loss: 0.740638]\n",
      "[Epoch 29/250] [Batch 1/2] [D loss: 0.685126] [G loss: 0.712695]\n",
      "[Epoch 30/250] [Batch 0/2] [D loss: 0.684341] [G loss: 0.706379]\n",
      "[Epoch 30/250] [Batch 1/2] [D loss: 0.682623] [G loss: 0.721653]\n",
      "[Epoch 31/250] [Batch 0/2] [D loss: 0.686729] [G loss: 0.707995]\n",
      "[Epoch 31/250] [Batch 1/2] [D loss: 0.677403] [G loss: 0.702577]\n",
      "[Epoch 32/250] [Batch 0/2] [D loss: 0.680425] [G loss: 0.712385]\n",
      "[Epoch 32/250] [Batch 1/2] [D loss: 0.672516] [G loss: 0.728803]\n",
      "[Epoch 33/250] [Batch 0/2] [D loss: 0.674008] [G loss: 0.710906]\n",
      "[Epoch 33/250] [Batch 1/2] [D loss: 0.686271] [G loss: 0.713100]\n",
      "[Epoch 34/250] [Batch 0/2] [D loss: 0.673099] [G loss: 0.731074]\n",
      "[Epoch 34/250] [Batch 1/2] [D loss: 0.681504] [G loss: 0.722644]\n",
      "[Epoch 35/250] [Batch 0/2] [D loss: 0.678061] [G loss: 0.727927]\n",
      "[Epoch 35/250] [Batch 1/2] [D loss: 0.681465] [G loss: 0.735039]\n",
      "[Epoch 36/250] [Batch 0/2] [D loss: 0.674527] [G loss: 0.728633]\n",
      "[Epoch 36/250] [Batch 1/2] [D loss: 0.675342] [G loss: 0.739213]\n",
      "[Epoch 37/250] [Batch 0/2] [D loss: 0.682284] [G loss: 0.728396]\n",
      "[Epoch 37/250] [Batch 1/2] [D loss: 0.679025] [G loss: 0.720058]\n",
      "[Epoch 38/250] [Batch 0/2] [D loss: 0.687822] [G loss: 0.722431]\n",
      "[Epoch 38/250] [Batch 1/2] [D loss: 0.664887] [G loss: 0.743614]\n",
      "[Epoch 39/250] [Batch 0/2] [D loss: 0.677360] [G loss: 0.730961]\n",
      "[Epoch 39/250] [Batch 1/2] [D loss: 0.672519] [G loss: 0.735056]\n",
      "[Epoch 40/250] [Batch 0/2] [D loss: 0.671189] [G loss: 0.744244]\n",
      "[Epoch 40/250] [Batch 1/2] [D loss: 0.686341] [G loss: 0.714205]\n",
      "[Epoch 41/250] [Batch 0/2] [D loss: 0.675337] [G loss: 0.738773]\n",
      "[Epoch 41/250] [Batch 1/2] [D loss: 0.671753] [G loss: 0.747898]\n",
      "[Epoch 42/250] [Batch 0/2] [D loss: 0.675128] [G loss: 0.736707]\n",
      "[Epoch 42/250] [Batch 1/2] [D loss: 0.678593] [G loss: 0.728802]\n",
      "[Epoch 43/250] [Batch 0/2] [D loss: 0.664036] [G loss: 0.756062]\n",
      "[Epoch 43/250] [Batch 1/2] [D loss: 0.675342] [G loss: 0.744469]\n",
      "[Epoch 44/250] [Batch 0/2] [D loss: 0.668938] [G loss: 0.742823]\n",
      "[Epoch 44/250] [Batch 1/2] [D loss: 0.676273] [G loss: 0.731980]\n",
      "[Epoch 45/250] [Batch 0/2] [D loss: 0.674503] [G loss: 0.744097]\n",
      "[Epoch 45/250] [Batch 1/2] [D loss: 0.677636] [G loss: 0.730805]\n",
      "[Epoch 46/250] [Batch 0/2] [D loss: 0.671278] [G loss: 0.746091]\n",
      "[Epoch 46/250] [Batch 1/2] [D loss: 0.672761] [G loss: 0.756818]\n",
      "[Epoch 47/250] [Batch 0/2] [D loss: 0.678865] [G loss: 0.740186]\n",
      "[Epoch 47/250] [Batch 1/2] [D loss: 0.681879] [G loss: 0.741243]\n",
      "[Epoch 48/250] [Batch 0/2] [D loss: 0.682175] [G loss: 0.732673]\n",
      "[Epoch 48/250] [Batch 1/2] [D loss: 0.681522] [G loss: 0.735947]\n",
      "[Epoch 49/250] [Batch 0/2] [D loss: 0.687280] [G loss: 0.730964]\n",
      "[Epoch 49/250] [Batch 1/2] [D loss: 0.678308] [G loss: 0.748890]\n",
      "[Epoch 50/250] [Batch 0/2] [D loss: 0.676847] [G loss: 0.749475]\n",
      "[Epoch 50/250] [Batch 1/2] [D loss: 0.691155] [G loss: 0.724315]\n",
      "[Epoch 51/250] [Batch 0/2] [D loss: 0.677237] [G loss: 0.754079]\n",
      "[Epoch 51/250] [Batch 1/2] [D loss: 0.680822] [G loss: 0.746623]\n",
      "[Epoch 52/250] [Batch 0/2] [D loss: 0.678098] [G loss: 0.748218]\n",
      "[Epoch 52/250] [Batch 1/2] [D loss: 0.684381] [G loss: 0.737112]\n",
      "[Epoch 53/250] [Batch 0/2] [D loss: 0.683384] [G loss: 0.744772]\n",
      "[Epoch 53/250] [Batch 1/2] [D loss: 0.677902] [G loss: 0.733160]\n",
      "[Epoch 54/250] [Batch 0/2] [D loss: 0.677781] [G loss: 0.746749]\n",
      "[Epoch 54/250] [Batch 1/2] [D loss: 0.686242] [G loss: 0.721950]\n",
      "[Epoch 55/250] [Batch 0/2] [D loss: 0.682441] [G loss: 0.728619]\n",
      "[Epoch 55/250] [Batch 1/2] [D loss: 0.682700] [G loss: 0.738285]\n",
      "[Epoch 56/250] [Batch 0/2] [D loss: 0.677047] [G loss: 0.729270]\n",
      "[Epoch 56/250] [Batch 1/2] [D loss: 0.680433] [G loss: 0.738316]\n",
      "[Epoch 57/250] [Batch 0/2] [D loss: 0.684309] [G loss: 0.717766]\n",
      "[Epoch 57/250] [Batch 1/2] [D loss: 0.691350] [G loss: 0.711420]\n",
      "[Epoch 58/250] [Batch 0/2] [D loss: 0.679640] [G loss: 0.739136]\n",
      "[Epoch 58/250] [Batch 1/2] [D loss: 0.698576] [G loss: 0.717325]\n",
      "[Epoch 59/250] [Batch 0/2] [D loss: 0.677336] [G loss: 0.738367]\n",
      "[Epoch 59/250] [Batch 1/2] [D loss: 0.684427] [G loss: 0.738766]\n",
      "[Epoch 60/250] [Batch 0/2] [D loss: 0.671720] [G loss: 0.752912]\n",
      "[Epoch 60/250] [Batch 1/2] [D loss: 0.691576] [G loss: 0.720990]\n",
      "[Epoch 61/250] [Batch 0/2] [D loss: 0.684499] [G loss: 0.725868]\n",
      "[Epoch 61/250] [Batch 1/2] [D loss: 0.686591] [G loss: 0.734041]\n",
      "[Epoch 62/250] [Batch 0/2] [D loss: 0.699189] [G loss: 0.701998]\n",
      "[Epoch 62/250] [Batch 1/2] [D loss: 0.686635] [G loss: 0.726216]\n",
      "[Epoch 63/250] [Batch 0/2] [D loss: 0.685726] [G loss: 0.735560]\n",
      "[Epoch 63/250] [Batch 1/2] [D loss: 0.679823] [G loss: 0.733872]\n",
      "[Epoch 64/250] [Batch 0/2] [D loss: 0.697571] [G loss: 0.712127]\n",
      "[Epoch 64/250] [Batch 1/2] [D loss: 0.685073] [G loss: 0.718287]\n",
      "[Epoch 65/250] [Batch 0/2] [D loss: 0.678152] [G loss: 0.737563]\n",
      "[Epoch 65/250] [Batch 1/2] [D loss: 0.688601] [G loss: 0.720646]\n",
      "[Epoch 66/250] [Batch 0/2] [D loss: 0.682384] [G loss: 0.723238]\n",
      "[Epoch 66/250] [Batch 1/2] [D loss: 0.683323] [G loss: 0.725325]\n",
      "[Epoch 67/250] [Batch 0/2] [D loss: 0.683993] [G loss: 0.723215]\n",
      "[Epoch 67/250] [Batch 1/2] [D loss: 0.686904] [G loss: 0.731894]\n",
      "[Epoch 68/250] [Batch 0/2] [D loss: 0.681171] [G loss: 0.726058]\n",
      "[Epoch 68/250] [Batch 1/2] [D loss: 0.694960] [G loss: 0.708556]\n",
      "[Epoch 69/250] [Batch 0/2] [D loss: 0.688797] [G loss: 0.725491]\n",
      "[Epoch 69/250] [Batch 1/2] [D loss: 0.698956] [G loss: 0.718969]\n",
      "[Epoch 70/250] [Batch 0/2] [D loss: 0.696067] [G loss: 0.716180]\n",
      "[Epoch 70/250] [Batch 1/2] [D loss: 0.689077] [G loss: 0.712764]\n",
      "[Epoch 71/250] [Batch 0/2] [D loss: 0.690424] [G loss: 0.708752]\n",
      "[Epoch 71/250] [Batch 1/2] [D loss: 0.695166] [G loss: 0.710292]\n",
      "[Epoch 72/250] [Batch 0/2] [D loss: 0.694712] [G loss: 0.717278]\n",
      "[Epoch 72/250] [Batch 1/2] [D loss: 0.688349] [G loss: 0.732562]\n",
      "[Epoch 73/250] [Batch 0/2] [D loss: 0.695499] [G loss: 0.713995]\n",
      "[Epoch 73/250] [Batch 1/2] [D loss: 0.695161] [G loss: 0.713631]\n",
      "[Epoch 74/250] [Batch 0/2] [D loss: 0.696753] [G loss: 0.722644]\n",
      "[Epoch 74/250] [Batch 1/2] [D loss: 0.688873] [G loss: 0.708728]\n",
      "[Epoch 75/250] [Batch 0/2] [D loss: 0.693842] [G loss: 0.708447]\n",
      "[Epoch 75/250] [Batch 1/2] [D loss: 0.686539] [G loss: 0.721575]\n",
      "[Epoch 76/250] [Batch 0/2] [D loss: 0.694492] [G loss: 0.703858]\n",
      "[Epoch 76/250] [Batch 1/2] [D loss: 0.694799] [G loss: 0.705029]\n",
      "[Epoch 77/250] [Batch 0/2] [D loss: 0.690830] [G loss: 0.699837]\n",
      "[Epoch 77/250] [Batch 1/2] [D loss: 0.697929] [G loss: 0.696106]\n",
      "[Epoch 78/250] [Batch 0/2] [D loss: 0.692822] [G loss: 0.709547]\n",
      "[Epoch 78/250] [Batch 1/2] [D loss: 0.699375] [G loss: 0.693167]\n",
      "[Epoch 79/250] [Batch 0/2] [D loss: 0.692820] [G loss: 0.708401]\n",
      "[Epoch 79/250] [Batch 1/2] [D loss: 0.688363] [G loss: 0.723779]\n",
      "[Epoch 80/250] [Batch 0/2] [D loss: 0.689631] [G loss: 0.712726]\n",
      "[Epoch 80/250] [Batch 1/2] [D loss: 0.697928] [G loss: 0.702490]\n",
      "[Epoch 81/250] [Batch 0/2] [D loss: 0.693577] [G loss: 0.706574]\n",
      "[Epoch 81/250] [Batch 1/2] [D loss: 0.690548] [G loss: 0.706596]\n",
      "[Epoch 82/250] [Batch 0/2] [D loss: 0.694833] [G loss: 0.710765]\n",
      "[Epoch 82/250] [Batch 1/2] [D loss: 0.687200] [G loss: 0.708169]\n",
      "[Epoch 83/250] [Batch 0/2] [D loss: 0.697081] [G loss: 0.696921]\n",
      "[Epoch 83/250] [Batch 1/2] [D loss: 0.689170] [G loss: 0.702937]\n",
      "[Epoch 84/250] [Batch 0/2] [D loss: 0.688600] [G loss: 0.711888]\n",
      "[Epoch 84/250] [Batch 1/2] [D loss: 0.687364] [G loss: 0.707455]\n",
      "[Epoch 85/250] [Batch 0/2] [D loss: 0.689534] [G loss: 0.704776]\n",
      "[Epoch 85/250] [Batch 1/2] [D loss: 0.692209] [G loss: 0.695068]\n",
      "[Epoch 86/250] [Batch 0/2] [D loss: 0.686506] [G loss: 0.703430]\n",
      "[Epoch 86/250] [Batch 1/2] [D loss: 0.685362] [G loss: 0.710657]\n",
      "[Epoch 87/250] [Batch 0/2] [D loss: 0.684942] [G loss: 0.705077]\n",
      "[Epoch 87/250] [Batch 1/2] [D loss: 0.683058] [G loss: 0.706968]\n",
      "[Epoch 88/250] [Batch 0/2] [D loss: 0.683850] [G loss: 0.701287]\n",
      "[Epoch 88/250] [Batch 1/2] [D loss: 0.697789] [G loss: 0.694104]\n",
      "[Epoch 89/250] [Batch 0/2] [D loss: 0.685598] [G loss: 0.712802]\n",
      "[Epoch 89/250] [Batch 1/2] [D loss: 0.689982] [G loss: 0.704406]\n",
      "[Epoch 90/250] [Batch 0/2] [D loss: 0.693248] [G loss: 0.707364]\n",
      "[Epoch 90/250] [Batch 1/2] [D loss: 0.684717] [G loss: 0.710098]\n",
      "[Epoch 91/250] [Batch 0/2] [D loss: 0.693345] [G loss: 0.700156]\n",
      "[Epoch 91/250] [Batch 1/2] [D loss: 0.688210] [G loss: 0.704312]\n",
      "[Epoch 92/250] [Batch 0/2] [D loss: 0.686682] [G loss: 0.709107]\n",
      "[Epoch 92/250] [Batch 1/2] [D loss: 0.680015] [G loss: 0.719002]\n",
      "[Epoch 93/250] [Batch 0/2] [D loss: 0.691421] [G loss: 0.715427]\n",
      "[Epoch 93/250] [Batch 1/2] [D loss: 0.687793] [G loss: 0.713290]\n",
      "[Epoch 94/250] [Batch 0/2] [D loss: 0.688474] [G loss: 0.716487]\n",
      "[Epoch 94/250] [Batch 1/2] [D loss: 0.685229] [G loss: 0.721249]\n",
      "[Epoch 95/250] [Batch 0/2] [D loss: 0.681586] [G loss: 0.724165]\n",
      "[Epoch 95/250] [Batch 1/2] [D loss: 0.689040] [G loss: 0.706435]\n",
      "[Epoch 96/250] [Batch 0/2] [D loss: 0.686440] [G loss: 0.703780]\n",
      "[Epoch 96/250] [Batch 1/2] [D loss: 0.685814] [G loss: 0.716840]\n",
      "[Epoch 97/250] [Batch 0/2] [D loss: 0.687012] [G loss: 0.709092]\n",
      "[Epoch 97/250] [Batch 1/2] [D loss: 0.689417] [G loss: 0.697030]\n",
      "[Epoch 98/250] [Batch 0/2] [D loss: 0.680447] [G loss: 0.714114]\n",
      "[Epoch 98/250] [Batch 1/2] [D loss: 0.686832] [G loss: 0.707726]\n",
      "[Epoch 99/250] [Batch 0/2] [D loss: 0.681394] [G loss: 0.705343]\n",
      "[Epoch 99/250] [Batch 1/2] [D loss: 0.683556] [G loss: 0.715442]\n",
      "[Epoch 100/250] [Batch 0/2] [D loss: 0.685210] [G loss: 0.701738]\n",
      "[Epoch 100/250] [Batch 1/2] [D loss: 0.685080] [G loss: 0.716581]\n",
      "[Epoch 101/250] [Batch 0/2] [D loss: 0.683242] [G loss: 0.710427]\n",
      "[Epoch 101/250] [Batch 1/2] [D loss: 0.680220] [G loss: 0.714346]\n",
      "[Epoch 102/250] [Batch 0/2] [D loss: 0.687136] [G loss: 0.705782]\n",
      "[Epoch 102/250] [Batch 1/2] [D loss: 0.683086] [G loss: 0.708790]\n",
      "[Epoch 103/250] [Batch 0/2] [D loss: 0.681867] [G loss: 0.714537]\n",
      "[Epoch 103/250] [Batch 1/2] [D loss: 0.679075] [G loss: 0.715746]\n",
      "[Epoch 104/250] [Batch 0/2] [D loss: 0.680852] [G loss: 0.711426]\n",
      "[Epoch 104/250] [Batch 1/2] [D loss: 0.689931] [G loss: 0.695373]\n",
      "[Epoch 105/250] [Batch 0/2] [D loss: 0.684238] [G loss: 0.709809]\n",
      "[Epoch 105/250] [Batch 1/2] [D loss: 0.675200] [G loss: 0.719097]\n",
      "[Epoch 106/250] [Batch 0/2] [D loss: 0.687663] [G loss: 0.703748]\n",
      "[Epoch 106/250] [Batch 1/2] [D loss: 0.684237] [G loss: 0.709812]\n",
      "[Epoch 107/250] [Batch 0/2] [D loss: 0.679083] [G loss: 0.719145]\n",
      "[Epoch 107/250] [Batch 1/2] [D loss: 0.678843] [G loss: 0.716465]\n",
      "[Epoch 108/250] [Batch 0/2] [D loss: 0.677120] [G loss: 0.717284]\n",
      "[Epoch 108/250] [Batch 1/2] [D loss: 0.684520] [G loss: 0.706851]\n",
      "[Epoch 109/250] [Batch 0/2] [D loss: 0.682071] [G loss: 0.716977]\n",
      "[Epoch 109/250] [Batch 1/2] [D loss: 0.681421] [G loss: 0.705194]\n",
      "[Epoch 110/250] [Batch 0/2] [D loss: 0.684359] [G loss: 0.706102]\n",
      "[Epoch 110/250] [Batch 1/2] [D loss: 0.682818] [G loss: 0.701953]\n",
      "[Epoch 111/250] [Batch 0/2] [D loss: 0.682162] [G loss: 0.705136]\n",
      "[Epoch 111/250] [Batch 1/2] [D loss: 0.684584] [G loss: 0.701684]\n",
      "[Epoch 112/250] [Batch 0/2] [D loss: 0.681877] [G loss: 0.707028]\n",
      "[Epoch 112/250] [Batch 1/2] [D loss: 0.683547] [G loss: 0.712540]\n",
      "[Epoch 113/250] [Batch 0/2] [D loss: 0.682191] [G loss: 0.713700]\n",
      "[Epoch 113/250] [Batch 1/2] [D loss: 0.684040] [G loss: 0.707588]\n",
      "[Epoch 114/250] [Batch 0/2] [D loss: 0.688928] [G loss: 0.705322]\n",
      "[Epoch 114/250] [Batch 1/2] [D loss: 0.675251] [G loss: 0.717006]\n",
      "[Epoch 115/250] [Batch 0/2] [D loss: 0.685276] [G loss: 0.705050]\n",
      "[Epoch 115/250] [Batch 1/2] [D loss: 0.683720] [G loss: 0.708637]\n",
      "[Epoch 116/250] [Batch 0/2] [D loss: 0.681451] [G loss: 0.711806]\n",
      "[Epoch 116/250] [Batch 1/2] [D loss: 0.684098] [G loss: 0.708900]\n",
      "[Epoch 117/250] [Batch 0/2] [D loss: 0.681385] [G loss: 0.708962]\n",
      "[Epoch 117/250] [Batch 1/2] [D loss: 0.691287] [G loss: 0.705109]\n",
      "[Epoch 118/250] [Batch 0/2] [D loss: 0.682652] [G loss: 0.723440]\n",
      "[Epoch 118/250] [Batch 1/2] [D loss: 0.682287] [G loss: 0.721330]\n",
      "[Epoch 119/250] [Batch 0/2] [D loss: 0.678738] [G loss: 0.730845]\n",
      "[Epoch 119/250] [Batch 1/2] [D loss: 0.689492] [G loss: 0.716442]\n",
      "[Epoch 120/250] [Batch 0/2] [D loss: 0.684993] [G loss: 0.719957]\n",
      "[Epoch 120/250] [Batch 1/2] [D loss: 0.688885] [G loss: 0.718148]\n",
      "[Epoch 121/250] [Batch 0/2] [D loss: 0.682154] [G loss: 0.733404]\n",
      "[Epoch 121/250] [Batch 1/2] [D loss: 0.690634] [G loss: 0.716091]\n",
      "[Epoch 122/250] [Batch 0/2] [D loss: 0.690811] [G loss: 0.707960]\n",
      "[Epoch 122/250] [Batch 1/2] [D loss: 0.692860] [G loss: 0.706936]\n",
      "[Epoch 123/250] [Batch 0/2] [D loss: 0.691462] [G loss: 0.709401]\n",
      "[Epoch 123/250] [Batch 1/2] [D loss: 0.685083] [G loss: 0.709820]\n",
      "[Epoch 124/250] [Batch 0/2] [D loss: 0.685290] [G loss: 0.708895]\n",
      "[Epoch 124/250] [Batch 1/2] [D loss: 0.691508] [G loss: 0.701982]\n",
      "[Epoch 125/250] [Batch 0/2] [D loss: 0.687242] [G loss: 0.712898]\n",
      "[Epoch 125/250] [Batch 1/2] [D loss: 0.691226] [G loss: 0.711713]\n",
      "[Epoch 126/250] [Batch 0/2] [D loss: 0.691934] [G loss: 0.714585]\n",
      "[Epoch 126/250] [Batch 1/2] [D loss: 0.681952] [G loss: 0.713315]\n",
      "[Epoch 127/250] [Batch 0/2] [D loss: 0.687885] [G loss: 0.714992]\n",
      "[Epoch 127/250] [Batch 1/2] [D loss: 0.690236] [G loss: 0.714178]\n",
      "[Epoch 128/250] [Batch 0/2] [D loss: 0.686927] [G loss: 0.714560]\n",
      "[Epoch 128/250] [Batch 1/2] [D loss: 0.693615] [G loss: 0.714931]\n",
      "[Epoch 129/250] [Batch 0/2] [D loss: 0.689723] [G loss: 0.709212]\n",
      "[Epoch 129/250] [Batch 1/2] [D loss: 0.693646] [G loss: 0.708010]\n",
      "[Epoch 130/250] [Batch 0/2] [D loss: 0.695193] [G loss: 0.707176]\n",
      "[Epoch 130/250] [Batch 1/2] [D loss: 0.686268] [G loss: 0.706106]\n",
      "[Epoch 131/250] [Batch 0/2] [D loss: 0.688796] [G loss: 0.707107]\n",
      "[Epoch 131/250] [Batch 1/2] [D loss: 0.691190] [G loss: 0.699005]\n",
      "[Epoch 132/250] [Batch 0/2] [D loss: 0.693573] [G loss: 0.700250]\n",
      "[Epoch 132/250] [Batch 1/2] [D loss: 0.690741] [G loss: 0.703064]\n",
      "[Epoch 133/250] [Batch 0/2] [D loss: 0.692906] [G loss: 0.699298]\n",
      "[Epoch 133/250] [Batch 1/2] [D loss: 0.691813] [G loss: 0.699325]\n",
      "[Epoch 134/250] [Batch 0/2] [D loss: 0.692551] [G loss: 0.695024]\n",
      "[Epoch 134/250] [Batch 1/2] [D loss: 0.690005] [G loss: 0.703450]\n",
      "[Epoch 135/250] [Batch 0/2] [D loss: 0.690239] [G loss: 0.703578]\n",
      "[Epoch 135/250] [Batch 1/2] [D loss: 0.691426] [G loss: 0.704020]\n",
      "[Epoch 136/250] [Batch 0/2] [D loss: 0.690893] [G loss: 0.706301]\n",
      "[Epoch 136/250] [Batch 1/2] [D loss: 0.693637] [G loss: 0.699922]\n",
      "[Epoch 137/250] [Batch 0/2] [D loss: 0.694508] [G loss: 0.704955]\n",
      "[Epoch 137/250] [Batch 1/2] [D loss: 0.690631] [G loss: 0.708515]\n",
      "[Epoch 138/250] [Batch 0/2] [D loss: 0.689329] [G loss: 0.711131]\n",
      "[Epoch 138/250] [Batch 1/2] [D loss: 0.696807] [G loss: 0.706726]\n",
      "[Epoch 139/250] [Batch 0/2] [D loss: 0.697159] [G loss: 0.705242]\n",
      "[Epoch 139/250] [Batch 1/2] [D loss: 0.687723] [G loss: 0.708233]\n",
      "[Epoch 140/250] [Batch 0/2] [D loss: 0.693530] [G loss: 0.701351]\n",
      "[Epoch 140/250] [Batch 1/2] [D loss: 0.694423] [G loss: 0.702111]\n",
      "[Epoch 141/250] [Batch 0/2] [D loss: 0.688915] [G loss: 0.703225]\n",
      "[Epoch 141/250] [Batch 1/2] [D loss: 0.693008] [G loss: 0.703033]\n",
      "[Epoch 142/250] [Batch 0/2] [D loss: 0.694996] [G loss: 0.692084]\n",
      "[Epoch 142/250] [Batch 1/2] [D loss: 0.691238] [G loss: 0.695596]\n",
      "[Epoch 143/250] [Batch 0/2] [D loss: 0.688749] [G loss: 0.692205]\n",
      "[Epoch 143/250] [Batch 1/2] [D loss: 0.691248] [G loss: 0.699077]\n",
      "[Epoch 144/250] [Batch 0/2] [D loss: 0.689791] [G loss: 0.699450]\n",
      "[Epoch 144/250] [Batch 1/2] [D loss: 0.687207] [G loss: 0.698755]\n",
      "[Epoch 145/250] [Batch 0/2] [D loss: 0.692315] [G loss: 0.688285]\n",
      "[Epoch 145/250] [Batch 1/2] [D loss: 0.688493] [G loss: 0.705399]\n",
      "[Epoch 146/250] [Batch 0/2] [D loss: 0.687304] [G loss: 0.701404]\n",
      "[Epoch 146/250] [Batch 1/2] [D loss: 0.693007] [G loss: 0.699669]\n",
      "[Epoch 147/250] [Batch 0/2] [D loss: 0.686259] [G loss: 0.706743]\n",
      "[Epoch 147/250] [Batch 1/2] [D loss: 0.696282] [G loss: 0.700843]\n",
      "[Epoch 148/250] [Batch 0/2] [D loss: 0.686530] [G loss: 0.702842]\n",
      "[Epoch 148/250] [Batch 1/2] [D loss: 0.689838] [G loss: 0.706714]\n",
      "[Epoch 149/250] [Batch 0/2] [D loss: 0.689825] [G loss: 0.709663]\n",
      "[Epoch 149/250] [Batch 1/2] [D loss: 0.683096] [G loss: 0.706969]\n",
      "[Epoch 150/250] [Batch 0/2] [D loss: 0.683782] [G loss: 0.711389]\n",
      "[Epoch 150/250] [Batch 1/2] [D loss: 0.684815] [G loss: 0.713326]\n",
      "[Epoch 151/250] [Batch 0/2] [D loss: 0.687313] [G loss: 0.708824]\n",
      "[Epoch 151/250] [Batch 1/2] [D loss: 0.682724] [G loss: 0.709625]\n",
      "[Epoch 152/250] [Batch 0/2] [D loss: 0.679628] [G loss: 0.714443]\n",
      "[Epoch 152/250] [Batch 1/2] [D loss: 0.690184] [G loss: 0.696700]\n",
      "[Epoch 153/250] [Batch 0/2] [D loss: 0.688153] [G loss: 0.702996]\n",
      "[Epoch 153/250] [Batch 1/2] [D loss: 0.683397] [G loss: 0.707673]\n",
      "[Epoch 154/250] [Batch 0/2] [D loss: 0.682487] [G loss: 0.711512]\n",
      "[Epoch 154/250] [Batch 1/2] [D loss: 0.686789] [G loss: 0.704172]\n",
      "[Epoch 155/250] [Batch 0/2] [D loss: 0.681900] [G loss: 0.708130]\n",
      "[Epoch 155/250] [Batch 1/2] [D loss: 0.692128] [G loss: 0.698851]\n",
      "[Epoch 156/250] [Batch 0/2] [D loss: 0.685570] [G loss: 0.708654]\n",
      "[Epoch 156/250] [Batch 1/2] [D loss: 0.684793] [G loss: 0.703947]\n",
      "[Epoch 157/250] [Batch 0/2] [D loss: 0.683938] [G loss: 0.708726]\n",
      "[Epoch 157/250] [Batch 1/2] [D loss: 0.687893] [G loss: 0.712183]\n",
      "[Epoch 158/250] [Batch 0/2] [D loss: 0.688603] [G loss: 0.710854]\n",
      "[Epoch 158/250] [Batch 1/2] [D loss: 0.692539] [G loss: 0.707974]\n",
      "[Epoch 159/250] [Batch 0/2] [D loss: 0.686387] [G loss: 0.722362]\n",
      "[Epoch 159/250] [Batch 1/2] [D loss: 0.690636] [G loss: 0.712326]\n",
      "[Epoch 160/250] [Batch 0/2] [D loss: 0.684446] [G loss: 0.719139]\n",
      "[Epoch 160/250] [Batch 1/2] [D loss: 0.689795] [G loss: 0.710575]\n",
      "[Epoch 161/250] [Batch 0/2] [D loss: 0.691295] [G loss: 0.707906]\n",
      "[Epoch 161/250] [Batch 1/2] [D loss: 0.688587] [G loss: 0.710951]\n",
      "[Epoch 162/250] [Batch 0/2] [D loss: 0.686751] [G loss: 0.708117]\n",
      "[Epoch 162/250] [Batch 1/2] [D loss: 0.688985] [G loss: 0.701765]\n",
      "[Epoch 163/250] [Batch 0/2] [D loss: 0.691392] [G loss: 0.693205]\n",
      "[Epoch 163/250] [Batch 1/2] [D loss: 0.693481] [G loss: 0.689617]\n",
      "[Epoch 164/250] [Batch 0/2] [D loss: 0.690781] [G loss: 0.694575]\n",
      "[Epoch 164/250] [Batch 1/2] [D loss: 0.695110] [G loss: 0.687742]\n",
      "[Epoch 165/250] [Batch 0/2] [D loss: 0.691641] [G loss: 0.693925]\n",
      "[Epoch 165/250] [Batch 1/2] [D loss: 0.692894] [G loss: 0.690938]\n",
      "[Epoch 166/250] [Batch 0/2] [D loss: 0.692556] [G loss: 0.697064]\n",
      "[Epoch 166/250] [Batch 1/2] [D loss: 0.696003] [G loss: 0.694523]\n",
      "[Epoch 167/250] [Batch 0/2] [D loss: 0.692501] [G loss: 0.703460]\n",
      "[Epoch 167/250] [Batch 1/2] [D loss: 0.689729] [G loss: 0.701947]\n",
      "[Epoch 168/250] [Batch 0/2] [D loss: 0.695221] [G loss: 0.699967]\n",
      "[Epoch 168/250] [Batch 1/2] [D loss: 0.694616] [G loss: 0.699705]\n",
      "[Epoch 169/250] [Batch 0/2] [D loss: 0.695862] [G loss: 0.688429]\n",
      "[Epoch 169/250] [Batch 1/2] [D loss: 0.695305] [G loss: 0.704619]\n",
      "[Epoch 170/250] [Batch 0/2] [D loss: 0.691698] [G loss: 0.703661]\n",
      "[Epoch 170/250] [Batch 1/2] [D loss: 0.691834] [G loss: 0.700782]\n",
      "[Epoch 171/250] [Batch 0/2] [D loss: 0.688912] [G loss: 0.709840]\n",
      "[Epoch 171/250] [Batch 1/2] [D loss: 0.689789] [G loss: 0.710689]\n",
      "[Epoch 172/250] [Batch 0/2] [D loss: 0.693087] [G loss: 0.698268]\n",
      "[Epoch 172/250] [Batch 1/2] [D loss: 0.688058] [G loss: 0.701254]\n",
      "[Epoch 173/250] [Batch 0/2] [D loss: 0.689506] [G loss: 0.700428]\n",
      "[Epoch 173/250] [Batch 1/2] [D loss: 0.689499] [G loss: 0.698740]\n",
      "[Epoch 174/250] [Batch 0/2] [D loss: 0.687374] [G loss: 0.696855]\n",
      "[Epoch 174/250] [Batch 1/2] [D loss: 0.689970] [G loss: 0.696213]\n",
      "[Epoch 175/250] [Batch 0/2] [D loss: 0.685478] [G loss: 0.699361]\n",
      "[Epoch 175/250] [Batch 1/2] [D loss: 0.689426] [G loss: 0.696867]\n",
      "[Epoch 176/250] [Batch 0/2] [D loss: 0.681272] [G loss: 0.705328]\n",
      "[Epoch 176/250] [Batch 1/2] [D loss: 0.687688] [G loss: 0.701102]\n",
      "[Epoch 177/250] [Batch 0/2] [D loss: 0.681560] [G loss: 0.711551]\n",
      "[Epoch 177/250] [Batch 1/2] [D loss: 0.682903] [G loss: 0.707368]\n",
      "[Epoch 178/250] [Batch 0/2] [D loss: 0.683735] [G loss: 0.707846]\n",
      "[Epoch 178/250] [Batch 1/2] [D loss: 0.679709] [G loss: 0.704888]\n",
      "[Epoch 179/250] [Batch 0/2] [D loss: 0.681880] [G loss: 0.700893]\n",
      "[Epoch 179/250] [Batch 1/2] [D loss: 0.682516] [G loss: 0.698945]\n",
      "[Epoch 180/250] [Batch 0/2] [D loss: 0.678959] [G loss: 0.703911]\n",
      "[Epoch 180/250] [Batch 1/2] [D loss: 0.679027] [G loss: 0.707167]\n",
      "[Epoch 181/250] [Batch 0/2] [D loss: 0.682507] [G loss: 0.701611]\n",
      "[Epoch 181/250] [Batch 1/2] [D loss: 0.677869] [G loss: 0.714215]\n",
      "[Epoch 182/250] [Batch 0/2] [D loss: 0.681532] [G loss: 0.709768]\n",
      "[Epoch 182/250] [Batch 1/2] [D loss: 0.678133] [G loss: 0.709239]\n",
      "[Epoch 183/250] [Batch 0/2] [D loss: 0.683842] [G loss: 0.706796]\n",
      "[Epoch 183/250] [Batch 1/2] [D loss: 0.672452] [G loss: 0.724659]\n",
      "[Epoch 184/250] [Batch 0/2] [D loss: 0.683892] [G loss: 0.706598]\n",
      "[Epoch 184/250] [Batch 1/2] [D loss: 0.686782] [G loss: 0.717484]\n",
      "[Epoch 185/250] [Batch 0/2] [D loss: 0.673540] [G loss: 0.721929]\n",
      "[Epoch 185/250] [Batch 1/2] [D loss: 0.683782] [G loss: 0.715681]\n",
      "[Epoch 186/250] [Batch 0/2] [D loss: 0.681066] [G loss: 0.716385]\n",
      "[Epoch 186/250] [Batch 1/2] [D loss: 0.680857] [G loss: 0.708149]\n",
      "[Epoch 187/250] [Batch 0/2] [D loss: 0.679360] [G loss: 0.712605]\n",
      "[Epoch 187/250] [Batch 1/2] [D loss: 0.681727] [G loss: 0.705799]\n",
      "[Epoch 188/250] [Batch 0/2] [D loss: 0.677226] [G loss: 0.707551]\n",
      "[Epoch 188/250] [Batch 1/2] [D loss: 0.680313] [G loss: 0.705654]\n",
      "[Epoch 189/250] [Batch 0/2] [D loss: 0.682846] [G loss: 0.708686]\n",
      "[Epoch 189/250] [Batch 1/2] [D loss: 0.686430] [G loss: 0.702278]\n",
      "[Epoch 190/250] [Batch 0/2] [D loss: 0.680789] [G loss: 0.720275]\n",
      "[Epoch 190/250] [Batch 1/2] [D loss: 0.681070] [G loss: 0.719601]\n",
      "[Epoch 191/250] [Batch 0/2] [D loss: 0.689739] [G loss: 0.706355]\n",
      "[Epoch 191/250] [Batch 1/2] [D loss: 0.680522] [G loss: 0.729702]\n",
      "[Epoch 192/250] [Batch 0/2] [D loss: 0.694785] [G loss: 0.703595]\n",
      "[Epoch 192/250] [Batch 1/2] [D loss: 0.686906] [G loss: 0.713021]\n",
      "[Epoch 193/250] [Batch 0/2] [D loss: 0.691175] [G loss: 0.709015]\n",
      "[Epoch 193/250] [Batch 1/2] [D loss: 0.691587] [G loss: 0.695533]\n",
      "[Epoch 194/250] [Batch 0/2] [D loss: 0.691123] [G loss: 0.699239]\n",
      "[Epoch 194/250] [Batch 1/2] [D loss: 0.691208] [G loss: 0.695567]\n",
      "[Epoch 195/250] [Batch 0/2] [D loss: 0.700445] [G loss: 0.688411]\n",
      "[Epoch 195/250] [Batch 1/2] [D loss: 0.696186] [G loss: 0.692564]\n",
      "[Epoch 196/250] [Batch 0/2] [D loss: 0.696418] [G loss: 0.695320]\n",
      "[Epoch 196/250] [Batch 1/2] [D loss: 0.696851] [G loss: 0.693688]\n",
      "[Epoch 197/250] [Batch 0/2] [D loss: 0.699589] [G loss: 0.699773]\n",
      "[Epoch 197/250] [Batch 1/2] [D loss: 0.697027] [G loss: 0.711924]\n",
      "[Epoch 198/250] [Batch 0/2] [D loss: 0.697043] [G loss: 0.703926]\n",
      "[Epoch 198/250] [Batch 1/2] [D loss: 0.696127] [G loss: 0.707724]\n",
      "[Epoch 199/250] [Batch 0/2] [D loss: 0.697313] [G loss: 0.696145]\n",
      "[Epoch 199/250] [Batch 1/2] [D loss: 0.698553] [G loss: 0.696362]\n",
      "[Epoch 200/250] [Batch 0/2] [D loss: 0.698618] [G loss: 0.688131]\n",
      "[Epoch 200/250] [Batch 1/2] [D loss: 0.698074] [G loss: 0.688880]\n",
      "[Epoch 201/250] [Batch 0/2] [D loss: 0.694462] [G loss: 0.700647]\n",
      "[Epoch 201/250] [Batch 1/2] [D loss: 0.688450] [G loss: 0.709649]\n",
      "[Epoch 202/250] [Batch 0/2] [D loss: 0.693338] [G loss: 0.698883]\n",
      "[Epoch 202/250] [Batch 1/2] [D loss: 0.694161] [G loss: 0.694846]\n",
      "[Epoch 203/250] [Batch 0/2] [D loss: 0.692961] [G loss: 0.696688]\n",
      "[Epoch 203/250] [Batch 1/2] [D loss: 0.692737] [G loss: 0.695227]\n",
      "[Epoch 204/250] [Batch 0/2] [D loss: 0.696460] [G loss: 0.699317]\n",
      "[Epoch 204/250] [Batch 1/2] [D loss: 0.690915] [G loss: 0.704974]\n",
      "[Epoch 205/250] [Batch 0/2] [D loss: 0.695627] [G loss: 0.702136]\n",
      "[Epoch 205/250] [Batch 1/2] [D loss: 0.690835] [G loss: 0.711046]\n",
      "[Epoch 206/250] [Batch 0/2] [D loss: 0.688099] [G loss: 0.714734]\n",
      "[Epoch 206/250] [Batch 1/2] [D loss: 0.687053] [G loss: 0.716053]\n",
      "[Epoch 207/250] [Batch 0/2] [D loss: 0.684621] [G loss: 0.716703]\n",
      "[Epoch 207/250] [Batch 1/2] [D loss: 0.688148] [G loss: 0.709911]\n",
      "[Epoch 208/250] [Batch 0/2] [D loss: 0.682518] [G loss: 0.711309]\n",
      "[Epoch 208/250] [Batch 1/2] [D loss: 0.684157] [G loss: 0.709795]\n",
      "[Epoch 209/250] [Batch 0/2] [D loss: 0.691834] [G loss: 0.696956]\n",
      "[Epoch 209/250] [Batch 1/2] [D loss: 0.686488] [G loss: 0.707150]\n",
      "[Epoch 210/250] [Batch 0/2] [D loss: 0.692686] [G loss: 0.709524]\n",
      "[Epoch 210/250] [Batch 1/2] [D loss: 0.683343] [G loss: 0.725182]\n",
      "[Epoch 211/250] [Batch 0/2] [D loss: 0.682108] [G loss: 0.726132]\n",
      "[Epoch 211/250] [Batch 1/2] [D loss: 0.682927] [G loss: 0.730259]\n",
      "[Epoch 212/250] [Batch 0/2] [D loss: 0.691849] [G loss: 0.710713]\n",
      "[Epoch 212/250] [Batch 1/2] [D loss: 0.688648] [G loss: 0.720513]\n",
      "[Epoch 213/250] [Batch 0/2] [D loss: 0.692430] [G loss: 0.710381]\n",
      "[Epoch 213/250] [Batch 1/2] [D loss: 0.686895] [G loss: 0.723104]\n",
      "[Epoch 214/250] [Batch 0/2] [D loss: 0.690177] [G loss: 0.715356]\n",
      "[Epoch 214/250] [Batch 1/2] [D loss: 0.696269] [G loss: 0.699389]\n",
      "[Epoch 215/250] [Batch 0/2] [D loss: 0.685160] [G loss: 0.711162]\n",
      "[Epoch 215/250] [Batch 1/2] [D loss: 0.693829] [G loss: 0.705488]\n",
      "[Epoch 216/250] [Batch 0/2] [D loss: 0.695035] [G loss: 0.696662]\n",
      "[Epoch 216/250] [Batch 1/2] [D loss: 0.699712] [G loss: 0.704110]\n",
      "[Epoch 217/250] [Batch 0/2] [D loss: 0.688454] [G loss: 0.718706]\n",
      "[Epoch 217/250] [Batch 1/2] [D loss: 0.696418] [G loss: 0.708497]\n",
      "[Epoch 218/250] [Batch 0/2] [D loss: 0.696911] [G loss: 0.714006]\n",
      "[Epoch 218/250] [Batch 1/2] [D loss: 0.693817] [G loss: 0.714256]\n",
      "[Epoch 219/250] [Batch 0/2] [D loss: 0.709571] [G loss: 0.702499]\n",
      "[Epoch 219/250] [Batch 1/2] [D loss: 0.699592] [G loss: 0.709470]\n",
      "[Epoch 220/250] [Batch 0/2] [D loss: 0.695085] [G loss: 0.717757]\n",
      "[Epoch 220/250] [Batch 1/2] [D loss: 0.693569] [G loss: 0.718872]\n",
      "[Epoch 221/250] [Batch 0/2] [D loss: 0.698826] [G loss: 0.702111]\n",
      "[Epoch 221/250] [Batch 1/2] [D loss: 0.699307] [G loss: 0.701596]\n",
      "[Epoch 222/250] [Batch 0/2] [D loss: 0.694691] [G loss: 0.707408]\n",
      "[Epoch 222/250] [Batch 1/2] [D loss: 0.696680] [G loss: 0.697870]\n",
      "[Epoch 223/250] [Batch 0/2] [D loss: 0.692242] [G loss: 0.704107]\n",
      "[Epoch 223/250] [Batch 1/2] [D loss: 0.687903] [G loss: 0.707769]\n",
      "[Epoch 224/250] [Batch 0/2] [D loss: 0.688028] [G loss: 0.700128]\n",
      "[Epoch 224/250] [Batch 1/2] [D loss: 0.693574] [G loss: 0.699424]\n",
      "[Epoch 225/250] [Batch 0/2] [D loss: 0.692536] [G loss: 0.691059]\n",
      "[Epoch 225/250] [Batch 1/2] [D loss: 0.698745] [G loss: 0.686496]\n",
      "[Epoch 226/250] [Batch 0/2] [D loss: 0.694771] [G loss: 0.700572]\n",
      "[Epoch 226/250] [Batch 1/2] [D loss: 0.692200] [G loss: 0.704459]\n",
      "[Epoch 227/250] [Batch 0/2] [D loss: 0.692235] [G loss: 0.707961]\n",
      "[Epoch 227/250] [Batch 1/2] [D loss: 0.685599] [G loss: 0.715157]\n",
      "[Epoch 228/250] [Batch 0/2] [D loss: 0.689363] [G loss: 0.704451]\n",
      "[Epoch 228/250] [Batch 1/2] [D loss: 0.689723] [G loss: 0.706036]\n",
      "[Epoch 229/250] [Batch 0/2] [D loss: 0.690942] [G loss: 0.705532]\n",
      "[Epoch 229/250] [Batch 1/2] [D loss: 0.688436] [G loss: 0.705443]\n",
      "[Epoch 230/250] [Batch 0/2] [D loss: 0.689568] [G loss: 0.701300]\n",
      "[Epoch 230/250] [Batch 1/2] [D loss: 0.686144] [G loss: 0.700746]\n",
      "[Epoch 231/250] [Batch 0/2] [D loss: 0.690148] [G loss: 0.693331]\n",
      "[Epoch 231/250] [Batch 1/2] [D loss: 0.691459] [G loss: 0.696656]\n",
      "[Epoch 232/250] [Batch 0/2] [D loss: 0.685968] [G loss: 0.700748]\n",
      "[Epoch 232/250] [Batch 1/2] [D loss: 0.688447] [G loss: 0.701204]\n",
      "[Epoch 233/250] [Batch 0/2] [D loss: 0.688344] [G loss: 0.699577]\n",
      "[Epoch 233/250] [Batch 1/2] [D loss: 0.683564] [G loss: 0.707249]\n",
      "[Epoch 234/250] [Batch 0/2] [D loss: 0.679928] [G loss: 0.714256]\n",
      "[Epoch 234/250] [Batch 1/2] [D loss: 0.682175] [G loss: 0.718055]\n",
      "[Epoch 235/250] [Batch 0/2] [D loss: 0.681783] [G loss: 0.713521]\n",
      "[Epoch 235/250] [Batch 1/2] [D loss: 0.690720] [G loss: 0.704490]\n",
      "[Epoch 236/250] [Batch 0/2] [D loss: 0.681526] [G loss: 0.722155]\n",
      "[Epoch 236/250] [Batch 1/2] [D loss: 0.682490] [G loss: 0.727741]\n",
      "[Epoch 237/250] [Batch 0/2] [D loss: 0.687791] [G loss: 0.717540]\n",
      "[Epoch 237/250] [Batch 1/2] [D loss: 0.680302] [G loss: 0.725745]\n",
      "[Epoch 238/250] [Batch 0/2] [D loss: 0.685215] [G loss: 0.722811]\n",
      "[Epoch 238/250] [Batch 1/2] [D loss: 0.677949] [G loss: 0.728919]\n",
      "[Epoch 239/250] [Batch 0/2] [D loss: 0.679156] [G loss: 0.728260]\n",
      "[Epoch 239/250] [Batch 1/2] [D loss: 0.680756] [G loss: 0.716812]\n",
      "[Epoch 240/250] [Batch 0/2] [D loss: 0.677266] [G loss: 0.727796]\n",
      "[Epoch 240/250] [Batch 1/2] [D loss: 0.678785] [G loss: 0.704949]\n",
      "[Epoch 241/250] [Batch 0/2] [D loss: 0.678620] [G loss: 0.712960]\n",
      "[Epoch 241/250] [Batch 1/2] [D loss: 0.680108] [G loss: 0.715374]\n",
      "[Epoch 242/250] [Batch 0/2] [D loss: 0.672426] [G loss: 0.721874]\n",
      "[Epoch 242/250] [Batch 1/2] [D loss: 0.680378] [G loss: 0.719325]\n",
      "[Epoch 243/250] [Batch 0/2] [D loss: 0.676031] [G loss: 0.730899]\n",
      "[Epoch 243/250] [Batch 1/2] [D loss: 0.677202] [G loss: 0.723005]\n",
      "[Epoch 244/250] [Batch 0/2] [D loss: 0.684885] [G loss: 0.723656]\n",
      "[Epoch 244/250] [Batch 1/2] [D loss: 0.677138] [G loss: 0.722850]\n",
      "[Epoch 245/250] [Batch 0/2] [D loss: 0.683633] [G loss: 0.717982]\n",
      "[Epoch 245/250] [Batch 1/2] [D loss: 0.677522] [G loss: 0.729805]\n",
      "[Epoch 246/250] [Batch 0/2] [D loss: 0.681635] [G loss: 0.717571]\n",
      "[Epoch 246/250] [Batch 1/2] [D loss: 0.676600] [G loss: 0.735531]\n",
      "[Epoch 247/250] [Batch 0/2] [D loss: 0.692068] [G loss: 0.708661]\n",
      "[Epoch 247/250] [Batch 1/2] [D loss: 0.673262] [G loss: 0.746699]\n",
      "[Epoch 248/250] [Batch 0/2] [D loss: 0.683741] [G loss: 0.721670]\n",
      "[Epoch 248/250] [Batch 1/2] [D loss: 0.678333] [G loss: 0.725129]\n",
      "[Epoch 249/250] [Batch 0/2] [D loss: 0.679771] [G loss: 0.736301]\n",
      "[Epoch 249/250] [Batch 1/2] [D loss: 0.691213] [G loss: 0.709448]\n"
     ]
    }
   ],
   "source": [
    "# Relative entropy list\n",
    "rel_entr_list = []\n",
    "# Generator loss list\n",
    "g_loss_list = []\n",
    "# Discriminator loss list\n",
    "d_loss_list = []\n",
    "\n",
    "for epoch in range(n_epochs):\n",
    "    rel_entr = []\n",
    "    g_loss_ = []\n",
    "    d_loss_ = []\n",
    "    for i, data in enumerate(dataloader):\n",
    "        # Adversarial ground truths\n",
    "        # valid = Variable(Tensor(data.size(0), 1).fill_(1.0), requires_grad=False)\n",
    "        valid = torch.ones(data.size(0), 1)\n",
    "        # fake = Variable(Tensor(data.size(0), 1).fill_(0.0), requires_grad=False)\n",
    "        fake = torch.zeros(data.size(0), 1)\n",
    "\n",
    "        # Configure input\n",
    "        # real_data = Variable(data.type(Tensor))\n",
    "        real_data = data\n",
    "        # Generate a batch of data points\n",
    "        gen_data = generator()\n",
    "\n",
    "        # Evaluate Relative Entropy\n",
    "        rel_entr.append(get_relative_entropy(gen_data))\n",
    "\n",
    "        # ---------------------\n",
    "        #  Train Discriminator\n",
    "        # ---------------------\n",
    "        optimizer_D.zero_grad()\n",
    "\n",
    "        # Loss measures discriminator's ability to distinguish real from generated samples\n",
    "        disc_data = discriminator(real_data)\n",
    "        real_loss = disc_loss_fun(disc_data, valid)\n",
    "        fake_loss = disc_loss_fun(discriminator(gen_data), fake)\n",
    "        d_loss = (real_loss + fake_loss) / 2\n",
    "\n",
    "        d_loss.backward(retain_graph=True)\n",
    "        optimizer_D.step()\n",
    "\n",
    "        # -----------------\n",
    "        #  Train Generator\n",
    "        # -----------------\n",
    "\n",
    "        optimizer_G.zero_grad()\n",
    "\n",
    "        # Loss measures generator's ability to prepare good data samples\n",
    "        g_loss = gen_loss_fun(discriminator(gen_data), valid)\n",
    "        g_loss.retain_grad = True\n",
    "        g_loss_grad = g_loss_fun_grad(\n",
    "            qc, twolocal.ordered_parameters, generator.weight.data.numpy(), discriminator\n",
    "        )\n",
    "\n",
    "        g_loss.backward(retain_graph=True)\n",
    "        for j, param in enumerate(generator.parameters()):\n",
    "            param.grad = g_loss_grad\n",
    "        optimizer_G.step()\n",
    "\n",
    "        g_loss_.append(g_loss.item())\n",
    "        d_loss_.append(d_loss.item())\n",
    "\n",
    "        print(\n",
    "            \"[Epoch %d/%d] [Batch %d/%d] [D loss: %f] [G loss: %f]\"\n",
    "            % (epoch, n_epochs, i, len(dataloader), d_loss.item(), g_loss.item())\n",
    "        )\n",
    "\n",
    "    rel_entr_list.append(np.mean(rel_entr))\n",
    "    g_loss_list.append(np.mean(g_loss_))\n",
    "    d_loss_list.append(np.mean(d_loss_))"
   ],
   "metadata": {
    "collapsed": false,
    "pycharm": {
     "name": "#%%\n"
    }
   }
  },
  {
   "cell_type": "markdown",
   "source": [
    "### Plots\n",
    "Let's visualize what happened during the training by plotting the evolution of the generator's and the discriminator's loss functions during the training, as well as the progress in the relative entropy between the trained and the target distribution.\n",
    "\n",
    "Finally, we also compare the cumulative distribution function (CDF) of the trained distribution to the CDF of the target distribution."
   ],
   "metadata": {
    "collapsed": false,
    "pycharm": {
     "name": "#%% md\n"
    }
   }
  },
  {
   "cell_type": "code",
   "execution_count": 43,
   "outputs": [
    {
     "data": {
      "text/plain": "<Figure size 432x288 with 1 Axes>",
      "image/png": "[encoded data removed]"
     },
     "metadata": {
      "needs_background": "light"
     },
     "output_type": "display_data"
    }
   ],
   "source": [
    "# Relative Entropy\n",
    "plt.figure()\n",
    "plt.title(\"Relative entropy\")\n",
    "plt.plot(rel_entr_list)\n",
    "plt.xlabel(\"Iteration\")\n",
    "plt.ylabel(\"Relative entropy\")\n",
    "plt.grid()\n",
    "plt.show()"
   ],
   "metadata": {
    "collapsed": false,
    "pycharm": {
     "name": "#%%\n"
    }
   }
  },
  {
   "cell_type": "code",
   "execution_count": 44,
   "outputs": [
    {
     "data": {
      "text/plain": "<Figure size 432x288 with 1 Axes>",
      "image/png": "[encoded data removed]"
     },
     "metadata": {
      "needs_background": "light"
     },
     "output_type": "display_data"
    }
   ],
   "source": [
    "# Loss\n",
    "plt.figure()\n",
    "plt.title(\"Loss\")\n",
    "plt.plot(g_loss_list, label=\"generator loss\", color=\"royalblue\")\n",
    "plt.plot(d_loss_list, label=\"discriminator loss\", color=\"magenta\")\n",
    "plt.legend(loc=\"best\")\n",
    "plt.xlabel(\"Iteration\")\n",
    "plt.ylabel(\"Loss\")\n",
    "plt.grid()\n",
    "plt.show()"
   ],
   "metadata": {
    "collapsed": false,
    "pycharm": {
     "name": "#%%\n"
    }
   }
  },
  {
   "cell_type": "code",
   "execution_count": 45,
   "outputs": [],
   "source": [
    "# Get a generator for sampling which takes more shots and, hence, gives more information\n",
    "generator_sampling = create_generator(qc, twolocal.parameters, qi_sampling)\n",
    "generator_sampling.weight.data = generator.weight.data"
   ],
   "metadata": {
    "collapsed": false,
    "pycharm": {
     "name": "#%%\n"
    }
   }
  },
  {
   "cell_type": "markdown",
   "source": [
    "\n",
    "<span style=\"color:blue\">Generated data</span>\n",
    "<span style=\"color:orange\">Training data</span>"
   ],
   "metadata": {
    "collapsed": false,
    "pycharm": {
     "name": "#%% md\n"
    }
   }
  },
  {
   "cell_type": "code",
   "execution_count": 1,
   "outputs": [
    {
     "ename": "NameError",
     "evalue": "name 'generator_sampling' is not defined",
     "output_type": "error",
     "traceback": [
      "\u001B[0;31m---------------------------------------------------------------------------\u001B[0m",
      "\u001B[0;31mNameError\u001B[0m                                 Traceback (most recent call last)",
      "Input \u001B[0;32mIn [1]\u001B[0m, in \u001B[0;36m<cell line: 3>\u001B[0;34m()\u001B[0m\n\u001B[1;32m      1\u001B[0m \u001B[38;5;66;03m# CDF\u001B[39;00m\n\u001B[1;32m      2\u001B[0m \u001B[38;5;66;03m# Get the generator data samples and corresponding sampling probabilities\u001B[39;00m\n\u001B[0;32m----> 3\u001B[0m gen_data \u001B[38;5;241m=\u001B[39m \u001B[43mgenerator_sampling\u001B[49m()\u001B[38;5;241m.\u001B[39mdetach()\u001B[38;5;241m.\u001B[39mnumpy()\n\u001B[1;32m      4\u001B[0m prob_gen \u001B[38;5;241m=\u001B[39m np\u001B[38;5;241m.\u001B[39mzeros(\u001B[38;5;28mlen\u001B[39m(grid_elements))\n\u001B[1;32m      5\u001B[0m \u001B[38;5;28;01mfor\u001B[39;00m j, item \u001B[38;5;129;01min\u001B[39;00m \u001B[38;5;28menumerate\u001B[39m(grid_elements):\n",
      "\u001B[0;31mNameError\u001B[0m: name 'generator_sampling' is not defined"
     ]
    }
   ],
   "source": [
    "# CDF\n",
    "# Get the generator data samples and corresponding sampling probabilities\n",
    "gen_data = generator_sampling().detach().numpy()\n",
    "prob_gen = np.zeros(len(grid_elements))\n",
    "for j, item in enumerate(grid_elements):\n",
    "    for gen_item in gen_data:\n",
    "        if np.allclose(np.round(gen_item, 6), np.round(item, 6), rtol=1e-5):\n",
    "            prob_gen[j] += 1\n",
    "prob_gen = prob_gen / len(gen_data)\n",
    "\n",
    "prob_gen = [1e-8 if x == 0 else x for x in prob_gen]\n",
    "fig = plt.figure(figsize=(12,12))\n",
    "ax1 = fig.add_subplot(111, projection=\"3d\")\n",
    "ax1.set_title(\"CDF\")\n",
    "# TODO add legend - known issue with matplotlib unresolved\n",
    "ax1.bar3d(\n",
    "    np.transpose(grid_elements)[1],\n",
    "    np.transpose(grid_elements)[0],\n",
    "    np.zeros(len(prob_gen)),\n",
    "    0.05,\n",
    "    0.05,\n",
    "    np.cumsum(prob_gen),\n",
    "    label=\"generated data\",\n",
    "    color=\"blue\",\n",
    "    alpha=1,\n",
    ")\n",
    "ax1.bar3d(\n",
    "    np.transpose(grid_elements)[1]+0.05,\n",
    "    np.transpose(grid_elements)[0]+0.05,\n",
    "    np.zeros(len(prob_data)),\n",
    "    0.05,\n",
    "    0.05,\n",
    "    np.cumsum(prob_data),\n",
    "    label=\"training data\",\n",
    "    color=\"orange\",\n",
    "    alpha=1,\n",
    ")\n",
    "# ax1.legend(loc='upper right')\n",
    "ax1.set_xlabel(\"x_1\")\n",
    "ax1.set_ylabel(\"x_0\")\n",
    "ax1.set_zlabel(\"p(x)\")\n",
    "plt.show()"
   ],
   "metadata": {
    "collapsed": false,
    "pycharm": {
     "name": "#%%\n"
    }
   }
  },
  {
   "cell_type": "code",
   "execution_count": 48,
   "outputs": [
    {
     "data": {
      "text/plain": "<IPython.core.display.HTML object>",
      "text/html": "<h3>Version Information</h3><table><tr><th>Qiskit Software</th><th>Version</th></tr><tr><td><code>qiskit-terra</code></td><td>0.22.0.dev0+4010503</td></tr><tr><td><code>qiskit-aer</code></td><td>0.10.4</td></tr><tr><td><code>qiskit-ignis</code></td><td>0.7.0</td></tr><tr><td><code>qiskit-ibmq-provider</code></td><td>0.19.2</td></tr><tr><td><code>qiskit</code></td><td>0.36.1</td></tr><tr><td><code>qiskit-machine-learning</code></td><td>0.5.0</td></tr><tr><th>System information</th></tr><tr><td>Python version</td><td>3.10.4</td></tr><tr><td>Python compiler</td><td>Clang 12.0.0 </td></tr><tr><td>Python build</td><td>main, Mar 31 2022 03:38:35</td></tr><tr><td>OS</td><td>Darwin</td></tr><tr><td>CPUs</td><td>4</td></tr><tr><td>Memory (Gb)</td><td>32.0</td></tr><tr><td colspan='2'>Fri Aug 19 14:13:51 2022 CEST</td></tr></table>"
     },
     "metadata": {},
     "output_type": "display_data"
    },
    {
     "data": {
      "text/plain": "<IPython.core.display.HTML object>",
      "text/html": "<div style='width: 100%; background-color:#d5d9e0;padding-left: 10px; padding-bottom: 10px; padding-right: 10px; padding-top: 5px'><h3>This code is a part of Qiskit</h3><p>&copy; Copyright IBM 2017, 2022.</p><p>This code is licensed under the Apache License, Version 2.0. You may<br>obtain a copy of this license in the LICENSE.txt file in the root directory<br> of this source tree or at http://www.apache.org/licenses/LICENSE-2.0.<p>Any modifications or derivative works of this code must retain this<br>copyright notice, and modified files need to carry a notice indicating<br>that they have been altered from the originals.</p></div>"
     },
     "metadata": {},
     "output_type": "display_data"
    }
   ],
   "source": [
    "import qiskit.tools.jupyter\n",
    "\n",
    "%qiskit_version_table\n",
    "%qiskit_copyright\n"
   ],
   "metadata": {
    "collapsed": false,
    "pycharm": {
     "name": "#%%\n"
    }
   }
  }
 ],
 "metadata": {
  "kernelspec": {
   "name": "qiskitdevenv",
   "language": "python",
   "display_name": "QiskitDevenv"
  },
  "language_info": {
   "codemirror_mode": {
    "name": "ipython",
    "version": 3
   },
   "file_extension": ".py",
   "mimetype": "text/x-python",
   "name": "python",
   "nbconvert_exporter": "python",
   "pygments_lexer": "ipython3",
   "version": "3.7.9"
  }
 },
 "nbformat": 4,
 "nbformat_minor": 1
}